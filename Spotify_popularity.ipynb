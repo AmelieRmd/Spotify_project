{
 "cells": [
  {
   "cell_type": "markdown",
   "id": "207904f5",
   "metadata": {},
   "source": [
    "# Spotify popularity"
   ]
  },
  {
   "cell_type": "markdown",
   "id": "eb02789a",
   "metadata": {},
   "source": [
    "The objective of the project is to create a model that predicts the popularity of a song based on its characteristics."
   ]
  },
  {
   "cell_type": "code",
   "execution_count": 1,
   "id": "96436be0",
   "metadata": {
    "ExecuteTime": {
     "end_time": "2022-05-18T09:04:39.835842Z",
     "start_time": "2022-05-18T09:04:36.878630Z"
    }
   },
   "outputs": [],
   "source": [
    "import numpy as np\n",
    "import pandas as pd\n",
    "import matplotlib.pyplot as plt\n",
    "import seaborn as sns"
   ]
  },
  {
   "cell_type": "code",
   "execution_count": 162,
   "id": "445b4ae0",
   "metadata": {
    "ExecuteTime": {
     "end_time": "2022-05-18T13:03:05.320731Z",
     "start_time": "2022-05-18T13:03:05.314663Z"
    }
   },
   "outputs": [],
   "source": [
    "from sklearn.metrics import mean_squared_error\n",
    "from sklearn.model_selection import train_test_split, cross_validate, cross_val_score, GridSearchCV\n",
    "from sklearn.linear_model import LinearRegression, LogisticRegression\n",
    "from sklearn.cluster import KMeans\n",
    "from sklearn.preprocessing import FunctionTransformer, MinMaxScaler, OneHotEncoder\n",
    "from sklearn.pipeline import Pipeline, make_pipeline\n",
    "from sklearn.compose import ColumnTransformer, make_column_selector, make_column_transformer\n",
    "from sklearn.tree import DecisionTreeRegressor\n",
    "from sklearn.ensemble import RandomForestRegressor\n",
    "from sklearn.base import BaseEstimator, TransformerMixin\n",
    "# This will help to visualize pipelines\n",
    "from sklearn import set_config; set_config(display='diagram')"
   ]
  },
  {
   "cell_type": "markdown",
   "id": "846a6905",
   "metadata": {},
   "source": [
    "# Load and clean data"
   ]
  },
  {
   "cell_type": "code",
   "execution_count": 3,
   "id": "fcd8c97f",
   "metadata": {
    "ExecuteTime": {
     "end_time": "2022-05-18T09:07:10.312540Z",
     "start_time": "2022-05-18T09:07:10.119730Z"
    }
   },
   "outputs": [
    {
     "data": {
      "text/html": [
       "<div>\n",
       "<style scoped>\n",
       "    .dataframe tbody tr th:only-of-type {\n",
       "        vertical-align: middle;\n",
       "    }\n",
       "\n",
       "    .dataframe tbody tr th {\n",
       "        vertical-align: top;\n",
       "    }\n",
       "\n",
       "    .dataframe thead th {\n",
       "        text-align: right;\n",
       "    }\n",
       "</style>\n",
       "<table border=\"1\" class=\"dataframe\">\n",
       "  <thead>\n",
       "    <tr style=\"text-align: right;\">\n",
       "      <th></th>\n",
       "      <th>acousticness</th>\n",
       "      <th>danceability</th>\n",
       "      <th>duration_ms</th>\n",
       "      <th>energy</th>\n",
       "      <th>explicit</th>\n",
       "      <th>id</th>\n",
       "      <th>instrumentalness</th>\n",
       "      <th>key</th>\n",
       "      <th>liveness</th>\n",
       "      <th>loudness</th>\n",
       "      <th>mode</th>\n",
       "      <th>name</th>\n",
       "      <th>popularity</th>\n",
       "      <th>release_date</th>\n",
       "      <th>speechiness</th>\n",
       "      <th>tempo</th>\n",
       "      <th>valence</th>\n",
       "      <th>artist</th>\n",
       "    </tr>\n",
       "  </thead>\n",
       "  <tbody>\n",
       "    <tr>\n",
       "      <th>0</th>\n",
       "      <td>0.65400</td>\n",
       "      <td>0.499</td>\n",
       "      <td>219827</td>\n",
       "      <td>0.190</td>\n",
       "      <td>0</td>\n",
       "      <td>0B6BeEUd6UwFlbsHMQKjob</td>\n",
       "      <td>0.004090</td>\n",
       "      <td>7</td>\n",
       "      <td>0.0898</td>\n",
       "      <td>-16.435</td>\n",
       "      <td>1</td>\n",
       "      <td>Back in the Goodle Days</td>\n",
       "      <td>40</td>\n",
       "      <td>1971</td>\n",
       "      <td>0.0454</td>\n",
       "      <td>149.460</td>\n",
       "      <td>0.4300</td>\n",
       "      <td>John Hartford</td>\n",
       "    </tr>\n",
       "    <tr>\n",
       "      <th>1</th>\n",
       "      <td>0.00592</td>\n",
       "      <td>0.439</td>\n",
       "      <td>483948</td>\n",
       "      <td>0.808</td>\n",
       "      <td>0</td>\n",
       "      <td>5Gpx4lJy3vKmIvjwbiR5c8</td>\n",
       "      <td>0.140000</td>\n",
       "      <td>2</td>\n",
       "      <td>0.0890</td>\n",
       "      <td>-8.497</td>\n",
       "      <td>1</td>\n",
       "      <td>Worlds Which Break Us - Intro Mix</td>\n",
       "      <td>22</td>\n",
       "      <td>2015-02-02</td>\n",
       "      <td>0.0677</td>\n",
       "      <td>138.040</td>\n",
       "      <td>0.0587</td>\n",
       "      <td>Driftmoon</td>\n",
       "    </tr>\n",
       "    <tr>\n",
       "      <th>2</th>\n",
       "      <td>0.73400</td>\n",
       "      <td>0.523</td>\n",
       "      <td>245693</td>\n",
       "      <td>0.288</td>\n",
       "      <td>0</td>\n",
       "      <td>7MxuUYqrCIy93h1EEHrIrL</td>\n",
       "      <td>0.000000</td>\n",
       "      <td>0</td>\n",
       "      <td>0.0771</td>\n",
       "      <td>-11.506</td>\n",
       "      <td>1</td>\n",
       "      <td>I'm The Greatest Star</td>\n",
       "      <td>40</td>\n",
       "      <td>1968-09-01</td>\n",
       "      <td>0.2140</td>\n",
       "      <td>75.869</td>\n",
       "      <td>0.4640</td>\n",
       "      <td>Barbra Streisand</td>\n",
       "    </tr>\n",
       "    <tr>\n",
       "      <th>3</th>\n",
       "      <td>0.42900</td>\n",
       "      <td>0.681</td>\n",
       "      <td>130026</td>\n",
       "      <td>0.165</td>\n",
       "      <td>0</td>\n",
       "      <td>4GeYbfIx1vSQXTfQb1m8Th</td>\n",
       "      <td>0.000000</td>\n",
       "      <td>11</td>\n",
       "      <td>0.3940</td>\n",
       "      <td>-21.457</td>\n",
       "      <td>0</td>\n",
       "      <td>Kapitel 281 - Der Page und die Herzogin</td>\n",
       "      <td>1</td>\n",
       "      <td>1926</td>\n",
       "      <td>0.9460</td>\n",
       "      <td>145.333</td>\n",
       "      <td>0.2880</td>\n",
       "      <td>Georgette Heyer</td>\n",
       "    </tr>\n",
       "    <tr>\n",
       "      <th>4</th>\n",
       "      <td>0.56200</td>\n",
       "      <td>0.543</td>\n",
       "      <td>129813</td>\n",
       "      <td>0.575</td>\n",
       "      <td>0</td>\n",
       "      <td>2JPGGZwajjMk0vvhfC17RK</td>\n",
       "      <td>0.000004</td>\n",
       "      <td>2</td>\n",
       "      <td>0.1270</td>\n",
       "      <td>-7.374</td>\n",
       "      <td>1</td>\n",
       "      <td>Away from You</td>\n",
       "      <td>15</td>\n",
       "      <td>2008-02-11</td>\n",
       "      <td>0.0265</td>\n",
       "      <td>139.272</td>\n",
       "      <td>0.8010</td>\n",
       "      <td>Gerry &amp; The Pacemakers</td>\n",
       "    </tr>\n",
       "  </tbody>\n",
       "</table>\n",
       "</div>"
      ],
      "text/plain": [
       "   acousticness  danceability  duration_ms  energy  explicit  \\\n",
       "0       0.65400         0.499       219827   0.190         0   \n",
       "1       0.00592         0.439       483948   0.808         0   \n",
       "2       0.73400         0.523       245693   0.288         0   \n",
       "3       0.42900         0.681       130026   0.165         0   \n",
       "4       0.56200         0.543       129813   0.575         0   \n",
       "\n",
       "                       id  instrumentalness  key  liveness  loudness  mode  \\\n",
       "0  0B6BeEUd6UwFlbsHMQKjob          0.004090    7    0.0898   -16.435     1   \n",
       "1  5Gpx4lJy3vKmIvjwbiR5c8          0.140000    2    0.0890    -8.497     1   \n",
       "2  7MxuUYqrCIy93h1EEHrIrL          0.000000    0    0.0771   -11.506     1   \n",
       "3  4GeYbfIx1vSQXTfQb1m8Th          0.000000   11    0.3940   -21.457     0   \n",
       "4  2JPGGZwajjMk0vvhfC17RK          0.000004    2    0.1270    -7.374     1   \n",
       "\n",
       "                                      name  popularity release_date  \\\n",
       "0                  Back in the Goodle Days          40         1971   \n",
       "1        Worlds Which Break Us - Intro Mix          22   2015-02-02   \n",
       "2                    I'm The Greatest Star          40   1968-09-01   \n",
       "3  Kapitel 281 - Der Page und die Herzogin           1         1926   \n",
       "4                            Away from You          15   2008-02-11   \n",
       "\n",
       "   speechiness    tempo  valence                  artist  \n",
       "0       0.0454  149.460   0.4300           John Hartford  \n",
       "1       0.0677  138.040   0.0587               Driftmoon  \n",
       "2       0.2140   75.869   0.4640        Barbra Streisand  \n",
       "3       0.9460  145.333   0.2880         Georgette Heyer  \n",
       "4       0.0265  139.272   0.8010  Gerry & The Pacemakers  "
      ]
     },
     "execution_count": 3,
     "metadata": {},
     "output_type": "execute_result"
    }
   ],
   "source": [
    "df = pd.read_csv('data/spotify_popularity_train.csv')\n",
    "df.head()"
   ]
  },
  {
   "cell_type": "code",
   "execution_count": 4,
   "id": "c74e34d3",
   "metadata": {
    "ExecuteTime": {
     "end_time": "2022-05-18T09:07:28.488544Z",
     "start_time": "2022-05-18T09:07:28.480297Z"
    }
   },
   "outputs": [
    {
     "data": {
      "text/plain": [
       "(52317, 18)"
      ]
     },
     "execution_count": 4,
     "metadata": {},
     "output_type": "execute_result"
    }
   ],
   "source": [
    "df.shape"
   ]
  },
  {
   "cell_type": "code",
   "execution_count": 6,
   "id": "6a2334c3",
   "metadata": {
    "ExecuteTime": {
     "end_time": "2022-05-18T09:07:42.900056Z",
     "start_time": "2022-05-18T09:07:42.837019Z"
    }
   },
   "outputs": [
    {
     "name": "stdout",
     "output_type": "stream",
     "text": [
      "<class 'pandas.core.frame.DataFrame'>\n",
      "RangeIndex: 52317 entries, 0 to 52316\n",
      "Data columns (total 18 columns):\n",
      " #   Column            Non-Null Count  Dtype  \n",
      "---  ------            --------------  -----  \n",
      " 0   acousticness      52317 non-null  float64\n",
      " 1   danceability      52317 non-null  float64\n",
      " 2   duration_ms       52317 non-null  int64  \n",
      " 3   energy            52317 non-null  float64\n",
      " 4   explicit          52317 non-null  int64  \n",
      " 5   id                52317 non-null  object \n",
      " 6   instrumentalness  52317 non-null  float64\n",
      " 7   key               52317 non-null  int64  \n",
      " 8   liveness          52317 non-null  float64\n",
      " 9   loudness          52317 non-null  float64\n",
      " 10  mode              52317 non-null  int64  \n",
      " 11  name              52317 non-null  object \n",
      " 12  popularity        52317 non-null  int64  \n",
      " 13  release_date      52317 non-null  object \n",
      " 14  speechiness       52317 non-null  float64\n",
      " 15  tempo             52317 non-null  float64\n",
      " 16  valence           52317 non-null  float64\n",
      " 17  artist            52313 non-null  object \n",
      "dtypes: float64(9), int64(5), object(4)\n",
      "memory usage: 7.2+ MB\n"
     ]
    }
   ],
   "source": [
    "df.info()"
   ]
  },
  {
   "cell_type": "code",
   "execution_count": 8,
   "id": "6192dd9f",
   "metadata": {
    "ExecuteTime": {
     "end_time": "2022-05-18T09:08:34.579946Z",
     "start_time": "2022-05-18T09:08:34.517951Z"
    }
   },
   "outputs": [
    {
     "name": "stdout",
     "output_type": "stream",
     "text": [
      "52317\n"
     ]
    },
    {
     "data": {
      "text/plain": [
       "260"
      ]
     },
     "execution_count": 8,
     "metadata": {},
     "output_type": "execute_result"
    }
   ],
   "source": [
    "# How many duplicates\n",
    "print(len(df))\n",
    "df.duplicated().sum()"
   ]
  },
  {
   "cell_type": "code",
   "execution_count": 9,
   "id": "163ea179",
   "metadata": {
    "ExecuteTime": {
     "end_time": "2022-05-18T09:09:30.639024Z",
     "start_time": "2022-05-18T09:09:30.542675Z"
    }
   },
   "outputs": [
    {
     "data": {
      "text/plain": [
       "(52057, 18)"
      ]
     },
     "execution_count": 9,
     "metadata": {},
     "output_type": "execute_result"
    }
   ],
   "source": [
    "# Drop duplicates\n",
    "df = df.drop_duplicates()\n",
    "df.shape"
   ]
  },
  {
   "cell_type": "code",
   "execution_count": 13,
   "id": "ab992a56",
   "metadata": {
    "ExecuteTime": {
     "end_time": "2022-05-18T09:11:29.182716Z",
     "start_time": "2022-05-18T09:11:29.151369Z"
    }
   },
   "outputs": [
    {
     "data": {
      "text/html": [
       "<div>\n",
       "<style scoped>\n",
       "    .dataframe tbody tr th:only-of-type {\n",
       "        vertical-align: middle;\n",
       "    }\n",
       "\n",
       "    .dataframe tbody tr th {\n",
       "        vertical-align: top;\n",
       "    }\n",
       "\n",
       "    .dataframe thead th {\n",
       "        text-align: right;\n",
       "    }\n",
       "</style>\n",
       "<table border=\"1\" class=\"dataframe\">\n",
       "  <thead>\n",
       "    <tr style=\"text-align: right;\">\n",
       "      <th></th>\n",
       "      <th>column_name</th>\n",
       "      <th>percent_missing</th>\n",
       "    </tr>\n",
       "  </thead>\n",
       "  <tbody>\n",
       "    <tr>\n",
       "      <th>artist</th>\n",
       "      <td>artist</td>\n",
       "      <td>0.007684</td>\n",
       "    </tr>\n",
       "    <tr>\n",
       "      <th>danceability</th>\n",
       "      <td>danceability</td>\n",
       "      <td>0.000000</td>\n",
       "    </tr>\n",
       "    <tr>\n",
       "      <th>valence</th>\n",
       "      <td>valence</td>\n",
       "      <td>0.000000</td>\n",
       "    </tr>\n",
       "    <tr>\n",
       "      <th>tempo</th>\n",
       "      <td>tempo</td>\n",
       "      <td>0.000000</td>\n",
       "    </tr>\n",
       "    <tr>\n",
       "      <th>speechiness</th>\n",
       "      <td>speechiness</td>\n",
       "      <td>0.000000</td>\n",
       "    </tr>\n",
       "    <tr>\n",
       "      <th>release_date</th>\n",
       "      <td>release_date</td>\n",
       "      <td>0.000000</td>\n",
       "    </tr>\n",
       "    <tr>\n",
       "      <th>popularity</th>\n",
       "      <td>popularity</td>\n",
       "      <td>0.000000</td>\n",
       "    </tr>\n",
       "    <tr>\n",
       "      <th>name</th>\n",
       "      <td>name</td>\n",
       "      <td>0.000000</td>\n",
       "    </tr>\n",
       "    <tr>\n",
       "      <th>mode</th>\n",
       "      <td>mode</td>\n",
       "      <td>0.000000</td>\n",
       "    </tr>\n",
       "    <tr>\n",
       "      <th>acousticness</th>\n",
       "      <td>acousticness</td>\n",
       "      <td>0.000000</td>\n",
       "    </tr>\n",
       "    <tr>\n",
       "      <th>liveness</th>\n",
       "      <td>liveness</td>\n",
       "      <td>0.000000</td>\n",
       "    </tr>\n",
       "    <tr>\n",
       "      <th>key</th>\n",
       "      <td>key</td>\n",
       "      <td>0.000000</td>\n",
       "    </tr>\n",
       "    <tr>\n",
       "      <th>instrumentalness</th>\n",
       "      <td>instrumentalness</td>\n",
       "      <td>0.000000</td>\n",
       "    </tr>\n",
       "    <tr>\n",
       "      <th>id</th>\n",
       "      <td>id</td>\n",
       "      <td>0.000000</td>\n",
       "    </tr>\n",
       "    <tr>\n",
       "      <th>explicit</th>\n",
       "      <td>explicit</td>\n",
       "      <td>0.000000</td>\n",
       "    </tr>\n",
       "    <tr>\n",
       "      <th>energy</th>\n",
       "      <td>energy</td>\n",
       "      <td>0.000000</td>\n",
       "    </tr>\n",
       "    <tr>\n",
       "      <th>duration_ms</th>\n",
       "      <td>duration_ms</td>\n",
       "      <td>0.000000</td>\n",
       "    </tr>\n",
       "    <tr>\n",
       "      <th>loudness</th>\n",
       "      <td>loudness</td>\n",
       "      <td>0.000000</td>\n",
       "    </tr>\n",
       "  </tbody>\n",
       "</table>\n",
       "</div>"
      ],
      "text/plain": [
       "                       column_name  percent_missing\n",
       "artist                      artist         0.007684\n",
       "danceability          danceability         0.000000\n",
       "valence                    valence         0.000000\n",
       "tempo                        tempo         0.000000\n",
       "speechiness            speechiness         0.000000\n",
       "release_date          release_date         0.000000\n",
       "popularity              popularity         0.000000\n",
       "name                          name         0.000000\n",
       "mode                          mode         0.000000\n",
       "acousticness          acousticness         0.000000\n",
       "liveness                  liveness         0.000000\n",
       "key                            key         0.000000\n",
       "instrumentalness  instrumentalness         0.000000\n",
       "id                              id         0.000000\n",
       "explicit                  explicit         0.000000\n",
       "energy                      energy         0.000000\n",
       "duration_ms            duration_ms         0.000000\n",
       "loudness                  loudness         0.000000"
      ]
     },
     "execution_count": 13,
     "metadata": {},
     "output_type": "execute_result"
    }
   ],
   "source": [
    "# % of missing values\n",
    "percent_missing = df.isnull().sum() * 100 / len(df)\n",
    "missing_value_df = pd.DataFrame({'column_name': df.columns,\n",
    "                                 'percent_missing': percent_missing})\n",
    "missing_value_df.sort_values(by='percent_missing', ascending=False)"
   ]
  },
  {
   "cell_type": "code",
   "execution_count": 14,
   "id": "f345f43f",
   "metadata": {
    "ExecuteTime": {
     "end_time": "2022-05-18T09:12:02.104461Z",
     "start_time": "2022-05-18T09:12:02.075361Z"
    }
   },
   "outputs": [
    {
     "data": {
      "text/plain": [
       "(52053, 18)"
      ]
     },
     "execution_count": 14,
     "metadata": {},
     "output_type": "execute_result"
    }
   ],
   "source": [
    "# Dropna\n",
    "df = df.dropna()\n",
    "df.shape"
   ]
  },
  {
   "cell_type": "markdown",
   "id": "050803ba",
   "metadata": {},
   "source": [
    "# Data visualisation"
   ]
  },
  {
   "cell_type": "code",
   "execution_count": 73,
   "id": "1ef65185",
   "metadata": {
    "ExecuteTime": {
     "end_time": "2022-05-18T09:37:30.273681Z",
     "start_time": "2022-05-18T09:37:27.475853Z"
    }
   },
   "outputs": [
    {
     "data": {
      "image/png": "[encoded data removed]",
      "text/plain": [
       "<Figure size 2160x1440 with 6 Axes>"
      ]
     },
     "metadata": {
      "needs_background": "light"
     },
     "output_type": "display_data"
    }
   ],
   "source": [
    "# Histplots\n",
    "plt.figure(figsize = (30, 20))\n",
    "plt.subplot(321)\n",
    "sns.histplot(df['danceability'])\n",
    "plt.subplot(322)\n",
    "sns.histplot(df['duration_ms'])\n",
    "plt.subplot(323)\n",
    "sns.histplot(df['energy'])\n",
    "plt.subplot(324)\n",
    "sns.histplot(df['instrumentalness'])\n",
    "plt.subplot(325)\n",
    "sns.histplot(df['liveness'])\n",
    "plt.subplot(326)\n",
    "sns.histplot(df['loudness'])\n",
    "plt.show()"
   ]
  },
  {
   "cell_type": "code",
   "execution_count": 80,
   "id": "6f8166b4",
   "metadata": {
    "ExecuteTime": {
     "end_time": "2022-05-18T09:41:36.188932Z",
     "start_time": "2022-05-18T09:41:35.502301Z"
    }
   },
   "outputs": [
    {
     "data": {
      "image/png": "[encoded data removed]",
      "text/plain": [
       "<Figure size 2880x2160 with 6 Axes>"
      ]
     },
     "metadata": {
      "needs_background": "light"
     },
     "output_type": "display_data"
    }
   ],
   "source": [
    "# Boxplot\n",
    "plt.figure(figsize = (40, 30))\n",
    "plt.subplot(321)\n",
    "sns.boxplot(data=df, x='danceability')\n",
    "plt.subplot(322)\n",
    "sns.boxplot(data=df, x='duration_ms')\n",
    "plt.subplot(323)\n",
    "sns.boxplot(data=df, x='energy')\n",
    "plt.subplot(324)\n",
    "sns.boxplot(data=df, x='liveness')\n",
    "plt.subplot(325)\n",
    "sns.boxplot(data=df, x='loudness')\n",
    "plt.subplot(326)\n",
    "sns.boxplot(data=df, x='instrumentalness')\n",
    "plt.show()"
   ]
  },
  {
   "cell_type": "code",
   "execution_count": 83,
   "id": "8668cc68",
   "metadata": {
    "ExecuteTime": {
     "end_time": "2022-05-18T09:43:50.733416Z",
     "start_time": "2022-05-18T09:43:50.519898Z"
    }
   },
   "outputs": [
    {
     "data": {
      "image/png": "[encoded data removed]",
      "text/plain": [
       "<Figure size 720x360 with 1 Axes>"
      ]
     },
     "metadata": {
      "needs_background": "light"
     },
     "output_type": "display_data"
    }
   ],
   "source": [
    "# Target popularity\n",
    "plt.figure(figsize=(10,5))\n",
    "sns.histplot(data=df, x='popularity');"
   ]
  },
  {
   "cell_type": "code",
   "execution_count": 98,
   "id": "b4b6079c",
   "metadata": {
    "ExecuteTime": {
     "end_time": "2022-05-18T09:59:23.024927Z",
     "start_time": "2022-05-18T09:59:23.009077Z"
    }
   },
   "outputs": [
    {
     "data": {
      "text/plain": [
       "count    52053.000000\n",
       "mean        25.815188\n",
       "std         21.864219\n",
       "min          0.000000\n",
       "25%          1.000000\n",
       "50%         26.000000\n",
       "75%         42.000000\n",
       "max         96.000000\n",
       "Name: popularity, dtype: float64"
      ]
     },
     "execution_count": 98,
     "metadata": {},
     "output_type": "execute_result"
    }
   ],
   "source": [
    "# Target popularity\n",
    "df.popularity.describe()"
   ]
  },
  {
   "cell_type": "code",
   "execution_count": 99,
   "id": "50f1a659",
   "metadata": {
    "ExecuteTime": {
     "end_time": "2022-05-18T09:59:26.690598Z",
     "start_time": "2022-05-18T09:59:26.679464Z"
    }
   },
   "outputs": [
    {
     "name": "stdout",
     "output_type": "stream",
     "text": [
      "\n",
      "**Valeurs uniques**\n",
      "[40 22  1 15 30 57 41  0 31  3 25 83 50 10 35  4 16 12 37 71 65 67 23 34\n",
      " 32 80 33 20  7 48 56 46  9 36 28 47 64  8 51 11 29 14 55 26 53 24 13  2\n",
      " 62 19 58 77 38 61 42 43 21 27 45 72 39  5 54 17 63 75 69  6 68 73 52 49\n",
      " 90 87 74 44 70 18 59 66 60 78 82 79 76 85 89 81 84 92 88 86 91 94 96]\n",
      "\n",
      "**Nb catégorie**\n",
      "95\n"
     ]
    }
   ],
   "source": [
    "# Target popularity\n",
    "print('\\n**Valeurs uniques**')\n",
    "print(df['popularity'].unique())\n",
    "print('\\n**Nb catégorie**')\n",
    "print(df['popularity'].nunique())"
   ]
  },
  {
   "cell_type": "markdown",
   "id": "92557ad2",
   "metadata": {},
   "source": [
    "# Supervised learning"
   ]
  },
  {
   "cell_type": "markdown",
   "id": "3d97f164",
   "metadata": {},
   "source": [
    "## Scoring metrics"
   ]
  },
  {
   "cell_type": "markdown",
   "id": "c1ff2cc8",
   "metadata": {},
   "source": [
    "Scoring metric : \n",
    "- we want to penalize largest errors relatively to smaller ones\n",
    "- measure errors in the same unit as the target `popularity` \n",
    "- the greater, the better (metric_good_model > metric_bad_model) \n",
    "\n",
    "**=> I choose : neg_root_mean_squared_error**"
   ]
  },
  {
   "cell_type": "code",
   "execution_count": 91,
   "id": "96438827",
   "metadata": {
    "ExecuteTime": {
     "end_time": "2022-05-18T09:54:26.235213Z",
     "start_time": "2022-05-18T09:54:26.231009Z"
    }
   },
   "outputs": [],
   "source": [
    "# Method for the scorong metrics\n",
    "def neg_RMSE(y_true, y_pred):\n",
    "    return -mean_squared_error(y_true, y_pred, squared=False)"
   ]
  },
  {
   "cell_type": "markdown",
   "id": "5236842a",
   "metadata": {},
   "source": [
    "## Define X and y"
   ]
  },
  {
   "cell_type": "code",
   "execution_count": 85,
   "id": "32c3fc7d",
   "metadata": {
    "ExecuteTime": {
     "end_time": "2022-05-18T09:49:21.870306Z",
     "start_time": "2022-05-18T09:49:21.843843Z"
    }
   },
   "outputs": [
    {
     "name": "stdout",
     "output_type": "stream",
     "text": [
      "<class 'pandas.core.frame.DataFrame'>\n",
      "Int64Index: 52053 entries, 0 to 52316\n",
      "Data columns (total 18 columns):\n",
      " #   Column            Non-Null Count  Dtype  \n",
      "---  ------            --------------  -----  \n",
      " 0   acousticness      52053 non-null  float64\n",
      " 1   danceability      52053 non-null  float64\n",
      " 2   duration_ms       52053 non-null  int64  \n",
      " 3   energy            52053 non-null  float64\n",
      " 4   explicit          52053 non-null  int64  \n",
      " 5   id                52053 non-null  object \n",
      " 6   instrumentalness  52053 non-null  float64\n",
      " 7   key               52053 non-null  int64  \n",
      " 8   liveness          52053 non-null  float64\n",
      " 9   loudness          52053 non-null  float64\n",
      " 10  mode              52053 non-null  int64  \n",
      " 11  name              52053 non-null  object \n",
      " 12  popularity        52053 non-null  int64  \n",
      " 13  release_date      52053 non-null  object \n",
      " 14  speechiness       52053 non-null  float64\n",
      " 15  tempo             52053 non-null  float64\n",
      " 16  valence           52053 non-null  float64\n",
      " 17  artist            52053 non-null  object \n",
      "dtypes: float64(9), int64(5), object(4)\n",
      "memory usage: 9.6+ MB\n"
     ]
    }
   ],
   "source": [
    "df.info()"
   ]
  },
  {
   "cell_type": "code",
   "execution_count": 86,
   "id": "d7b8c81c",
   "metadata": {
    "ExecuteTime": {
     "end_time": "2022-05-18T09:50:36.116310Z",
     "start_time": "2022-05-18T09:50:36.094694Z"
    }
   },
   "outputs": [
    {
     "name": "stdout",
     "output_type": "stream",
     "text": [
      "<class 'pandas.core.frame.DataFrame'>\n",
      "Int64Index: 52053 entries, 0 to 52316\n",
      "Data columns (total 13 columns):\n",
      " #   Column            Non-Null Count  Dtype  \n",
      "---  ------            --------------  -----  \n",
      " 0   acousticness      52053 non-null  float64\n",
      " 1   danceability      52053 non-null  float64\n",
      " 2   duration_ms       52053 non-null  int64  \n",
      " 3   energy            52053 non-null  float64\n",
      " 4   explicit          52053 non-null  int64  \n",
      " 5   instrumentalness  52053 non-null  float64\n",
      " 6   key               52053 non-null  int64  \n",
      " 7   liveness          52053 non-null  float64\n",
      " 8   loudness          52053 non-null  float64\n",
      " 9   mode              52053 non-null  int64  \n",
      " 10  speechiness       52053 non-null  float64\n",
      " 11  tempo             52053 non-null  float64\n",
      " 12  valence           52053 non-null  float64\n",
      "dtypes: float64(9), int64(4)\n",
      "memory usage: 7.6 MB\n"
     ]
    }
   ],
   "source": [
    "# Define X_simple (only numerical features) and y (target = popularity)\n",
    "X_simple = df.select_dtypes(include=['int64', 'float64'])\n",
    "X_simple = X_simple.drop(columns='popularity')\n",
    "X_simple.info()"
   ]
  },
  {
   "cell_type": "code",
   "execution_count": 90,
   "id": "b831d6c9",
   "metadata": {
    "ExecuteTime": {
     "end_time": "2022-05-18T09:51:23.750010Z",
     "start_time": "2022-05-18T09:51:23.746672Z"
    }
   },
   "outputs": [],
   "source": [
    "y = df['popularity']"
   ]
  },
  {
   "cell_type": "markdown",
   "id": "e5ea0158",
   "metadata": {},
   "source": [
    "## Baseline"
   ]
  },
  {
   "cell_type": "code",
   "execution_count": 101,
   "id": "b2d5fb67",
   "metadata": {
    "ExecuteTime": {
     "end_time": "2022-05-18T10:02:05.996554Z",
     "start_time": "2022-05-18T10:02:05.989034Z"
    }
   },
   "outputs": [
    {
     "data": {
      "text/plain": [
       "-21.86400900273424"
      ]
     },
     "execution_count": 101,
     "metadata": {},
     "output_type": "execute_result"
    }
   ],
   "source": [
    "# My baseline could be a constant prediction equivalent to the mean value of the target popularity\n",
    "y_base = np.ones(len(y)) * y.mean()\n",
    "baseline_score = neg_RMSE(y, y_base)\n",
    "baseline_score"
   ]
  },
  {
   "cell_type": "markdown",
   "id": "979c60fe",
   "metadata": {},
   "source": [
    "## Holdout evaluation"
   ]
  },
  {
   "cell_type": "code",
   "execution_count": 107,
   "id": "b760a494",
   "metadata": {
    "ExecuteTime": {
     "end_time": "2022-05-18T10:09:18.005399Z",
     "start_time": "2022-05-18T10:09:17.983291Z"
    }
   },
   "outputs": [
    {
     "data": {
      "text/plain": [
       "((26026, 13), (26026,))"
      ]
     },
     "execution_count": 107,
     "metadata": {},
     "output_type": "execute_result"
    }
   ],
   "source": [
    "# Train test split with 50% of observations as test set\n",
    "X_train_simple, X_test_simple, y_train, y_test = train_test_split(X_simple, y, test_size=0.5, random_state=42)\n",
    "X_train_simple.shape, y_train.shape"
   ]
  },
  {
   "cell_type": "code",
   "execution_count": 110,
   "id": "8e076676",
   "metadata": {
    "ExecuteTime": {
     "end_time": "2022-05-18T10:12:25.529372Z",
     "start_time": "2022-05-18T10:12:25.520838Z"
    }
   },
   "outputs": [
    {
     "data": {
      "text/plain": [
       "((26027, 13), (26027,))"
      ]
     },
     "execution_count": 110,
     "metadata": {},
     "output_type": "execute_result"
    }
   ],
   "source": [
    "X_test_simple.shape, y_test.shape"
   ]
  },
  {
   "cell_type": "code",
   "execution_count": 108,
   "id": "62a0a05d",
   "metadata": {
    "ExecuteTime": {
     "end_time": "2022-05-18T10:10:24.346104Z",
     "start_time": "2022-05-18T10:10:24.317411Z"
    }
   },
   "outputs": [
    {
     "data": {
      "text/plain": [
       "LinearRegression()"
      ]
     },
     "execution_count": 108,
     "metadata": {},
     "output_type": "execute_result"
    }
   ],
   "source": [
    "# Let's start with a very simple model : a linear regression\n",
    "model_simple = LinearRegression()\n",
    "model_simple.fit(X_train_simple, y_train)"
   ]
  },
  {
   "cell_type": "code",
   "execution_count": 111,
   "id": "75040444",
   "metadata": {
    "ExecuteTime": {
     "end_time": "2022-05-18T10:15:40.950690Z",
     "start_time": "2022-05-18T10:15:40.929069Z"
    }
   },
   "outputs": [
    {
     "data": {
      "text/plain": [
       "-18.391930486294505"
      ]
     },
     "execution_count": 111,
     "metadata": {},
     "output_type": "execute_result"
    }
   ],
   "source": [
    "# Prediction & scoring\n",
    "y_pred_linear = model_simple.predict(X_test_simple)\n",
    "score_simple_holdout = neg_RMSE(y_test, y_pred_linear)\n",
    "score_simple_holdout"
   ]
  },
  {
   "cell_type": "markdown",
   "id": "4ca2ccc7",
   "metadata": {},
   "source": [
    "**The score is even better than the baseline, with a very simple model !**"
   ]
  },
  {
   "cell_type": "markdown",
   "id": "33a52e77",
   "metadata": {},
   "source": [
    "## Cross-validation evaluation"
   ]
  },
  {
   "cell_type": "code",
   "execution_count": 112,
   "id": "af4ffd74",
   "metadata": {
    "ExecuteTime": {
     "end_time": "2022-05-18T10:18:24.514410Z",
     "start_time": "2022-05-18T10:18:24.339757Z"
    }
   },
   "outputs": [
    {
     "data": {
      "text/plain": [
       "{'fit_time': array([0.01632261, 0.04375052, 0.02636766, 0.02099276, 0.0203433 ]),\n",
       " 'score_time': array([0.0119369 , 0.00809598, 0.00464892, 0.00399446, 0.00390935]),\n",
       " 'test_score': array([-18.41383767, -18.45203104, -18.30188799, -18.43790327,\n",
       "        -18.19713279])}"
      ]
     },
     "execution_count": 112,
     "metadata": {},
     "output_type": "execute_result"
    }
   ],
   "source": [
    "model_cross = LinearRegression()\n",
    "result = cross_validate(model_cross, X_simple, y, cv=5, scoring='neg_root_mean_squared_error')\n",
    "result"
   ]
  },
  {
   "cell_type": "code",
   "execution_count": 114,
   "id": "540d499d",
   "metadata": {
    "ExecuteTime": {
     "end_time": "2022-05-18T10:19:05.502822Z",
     "start_time": "2022-05-18T10:19:05.497573Z"
    }
   },
   "outputs": [
    {
     "data": {
      "text/plain": [
       "-18.36055855156932"
      ]
     },
     "execution_count": 114,
     "metadata": {},
     "output_type": "execute_result"
    }
   ],
   "source": [
    "score_simple_cv_mean = result['test_score'].mean()\n",
    "score_simple_cv_mean"
   ]
  },
  {
   "cell_type": "code",
   "execution_count": 115,
   "id": "f10e22a5",
   "metadata": {
    "ExecuteTime": {
     "end_time": "2022-05-18T10:19:38.878719Z",
     "start_time": "2022-05-18T10:19:38.868371Z"
    }
   },
   "outputs": [
    {
     "data": {
      "text/plain": [
       "0.0973019003915168"
      ]
     },
     "execution_count": 115,
     "metadata": {},
     "output_type": "execute_result"
    }
   ],
   "source": [
    "score_simple_cv_std = result['test_score'].std()\n",
    "score_simple_cv_std"
   ]
  },
  {
   "cell_type": "markdown",
   "id": "d0af43a3",
   "metadata": {},
   "source": [
    "**The score is similar to the simple holdout evaluation**"
   ]
  },
  {
   "cell_type": "markdown",
   "id": "2a7c4190",
   "metadata": {},
   "source": [
    "# Feature engineering"
   ]
  },
  {
   "cell_type": "code",
   "execution_count": 116,
   "id": "6ee5fec1",
   "metadata": {
    "ExecuteTime": {
     "end_time": "2022-05-18T12:04:27.505682Z",
     "start_time": "2022-05-18T12:04:27.137497Z"
    }
   },
   "outputs": [
    {
     "data": {
      "text/html": [
       "<div>\n",
       "<style scoped>\n",
       "    .dataframe tbody tr th:only-of-type {\n",
       "        vertical-align: middle;\n",
       "    }\n",
       "\n",
       "    .dataframe tbody tr th {\n",
       "        vertical-align: top;\n",
       "    }\n",
       "\n",
       "    .dataframe thead th {\n",
       "        text-align: right;\n",
       "    }\n",
       "</style>\n",
       "<table border=\"1\" class=\"dataframe\">\n",
       "  <thead>\n",
       "    <tr style=\"text-align: right;\">\n",
       "      <th></th>\n",
       "      <th>acousticness</th>\n",
       "      <th>danceability</th>\n",
       "      <th>duration_ms</th>\n",
       "      <th>energy</th>\n",
       "      <th>explicit</th>\n",
       "      <th>id</th>\n",
       "      <th>instrumentalness</th>\n",
       "      <th>key</th>\n",
       "      <th>liveness</th>\n",
       "      <th>loudness</th>\n",
       "      <th>mode</th>\n",
       "      <th>name</th>\n",
       "      <th>popularity</th>\n",
       "      <th>release_date</th>\n",
       "      <th>speechiness</th>\n",
       "      <th>tempo</th>\n",
       "      <th>valence</th>\n",
       "      <th>artist</th>\n",
       "    </tr>\n",
       "  </thead>\n",
       "  <tbody>\n",
       "    <tr>\n",
       "      <th>0</th>\n",
       "      <td>0.65400</td>\n",
       "      <td>0.499</td>\n",
       "      <td>219827</td>\n",
       "      <td>0.190</td>\n",
       "      <td>0</td>\n",
       "      <td>0B6BeEUd6UwFlbsHMQKjob</td>\n",
       "      <td>0.004090</td>\n",
       "      <td>7</td>\n",
       "      <td>0.0898</td>\n",
       "      <td>-16.435</td>\n",
       "      <td>1</td>\n",
       "      <td>Back in the Goodle Days</td>\n",
       "      <td>40</td>\n",
       "      <td>1971</td>\n",
       "      <td>0.0454</td>\n",
       "      <td>149.460</td>\n",
       "      <td>0.4300</td>\n",
       "      <td>John Hartford</td>\n",
       "    </tr>\n",
       "    <tr>\n",
       "      <th>1</th>\n",
       "      <td>0.00592</td>\n",
       "      <td>0.439</td>\n",
       "      <td>483948</td>\n",
       "      <td>0.808</td>\n",
       "      <td>0</td>\n",
       "      <td>5Gpx4lJy3vKmIvjwbiR5c8</td>\n",
       "      <td>0.140000</td>\n",
       "      <td>2</td>\n",
       "      <td>0.0890</td>\n",
       "      <td>-8.497</td>\n",
       "      <td>1</td>\n",
       "      <td>Worlds Which Break Us - Intro Mix</td>\n",
       "      <td>22</td>\n",
       "      <td>2015-02-02</td>\n",
       "      <td>0.0677</td>\n",
       "      <td>138.040</td>\n",
       "      <td>0.0587</td>\n",
       "      <td>Driftmoon</td>\n",
       "    </tr>\n",
       "    <tr>\n",
       "      <th>2</th>\n",
       "      <td>0.73400</td>\n",
       "      <td>0.523</td>\n",
       "      <td>245693</td>\n",
       "      <td>0.288</td>\n",
       "      <td>0</td>\n",
       "      <td>7MxuUYqrCIy93h1EEHrIrL</td>\n",
       "      <td>0.000000</td>\n",
       "      <td>0</td>\n",
       "      <td>0.0771</td>\n",
       "      <td>-11.506</td>\n",
       "      <td>1</td>\n",
       "      <td>I'm The Greatest Star</td>\n",
       "      <td>40</td>\n",
       "      <td>1968-09-01</td>\n",
       "      <td>0.2140</td>\n",
       "      <td>75.869</td>\n",
       "      <td>0.4640</td>\n",
       "      <td>Barbra Streisand</td>\n",
       "    </tr>\n",
       "    <tr>\n",
       "      <th>3</th>\n",
       "      <td>0.42900</td>\n",
       "      <td>0.681</td>\n",
       "      <td>130026</td>\n",
       "      <td>0.165</td>\n",
       "      <td>0</td>\n",
       "      <td>4GeYbfIx1vSQXTfQb1m8Th</td>\n",
       "      <td>0.000000</td>\n",
       "      <td>11</td>\n",
       "      <td>0.3940</td>\n",
       "      <td>-21.457</td>\n",
       "      <td>0</td>\n",
       "      <td>Kapitel 281 - Der Page und die Herzogin</td>\n",
       "      <td>1</td>\n",
       "      <td>1926</td>\n",
       "      <td>0.9460</td>\n",
       "      <td>145.333</td>\n",
       "      <td>0.2880</td>\n",
       "      <td>Georgette Heyer</td>\n",
       "    </tr>\n",
       "    <tr>\n",
       "      <th>4</th>\n",
       "      <td>0.56200</td>\n",
       "      <td>0.543</td>\n",
       "      <td>129813</td>\n",
       "      <td>0.575</td>\n",
       "      <td>0</td>\n",
       "      <td>2JPGGZwajjMk0vvhfC17RK</td>\n",
       "      <td>0.000004</td>\n",
       "      <td>2</td>\n",
       "      <td>0.1270</td>\n",
       "      <td>-7.374</td>\n",
       "      <td>1</td>\n",
       "      <td>Away from You</td>\n",
       "      <td>15</td>\n",
       "      <td>2008-02-11</td>\n",
       "      <td>0.0265</td>\n",
       "      <td>139.272</td>\n",
       "      <td>0.8010</td>\n",
       "      <td>Gerry &amp; The Pacemakers</td>\n",
       "    </tr>\n",
       "  </tbody>\n",
       "</table>\n",
       "</div>"
      ],
      "text/plain": [
       "   acousticness  danceability  duration_ms  energy  explicit  \\\n",
       "0       0.65400         0.499       219827   0.190         0   \n",
       "1       0.00592         0.439       483948   0.808         0   \n",
       "2       0.73400         0.523       245693   0.288         0   \n",
       "3       0.42900         0.681       130026   0.165         0   \n",
       "4       0.56200         0.543       129813   0.575         0   \n",
       "\n",
       "                       id  instrumentalness  key  liveness  loudness  mode  \\\n",
       "0  0B6BeEUd6UwFlbsHMQKjob          0.004090    7    0.0898   -16.435     1   \n",
       "1  5Gpx4lJy3vKmIvjwbiR5c8          0.140000    2    0.0890    -8.497     1   \n",
       "2  7MxuUYqrCIy93h1EEHrIrL          0.000000    0    0.0771   -11.506     1   \n",
       "3  4GeYbfIx1vSQXTfQb1m8Th          0.000000   11    0.3940   -21.457     0   \n",
       "4  2JPGGZwajjMk0vvhfC17RK          0.000004    2    0.1270    -7.374     1   \n",
       "\n",
       "                                      name  popularity release_date  \\\n",
       "0                  Back in the Goodle Days          40         1971   \n",
       "1        Worlds Which Break Us - Intro Mix          22   2015-02-02   \n",
       "2                    I'm The Greatest Star          40   1968-09-01   \n",
       "3  Kapitel 281 - Der Page und die Herzogin           1         1926   \n",
       "4                            Away from You          15   2008-02-11   \n",
       "\n",
       "   speechiness    tempo  valence                  artist  \n",
       "0       0.0454  149.460   0.4300           John Hartford  \n",
       "1       0.0677  138.040   0.0587               Driftmoon  \n",
       "2       0.2140   75.869   0.4640        Barbra Streisand  \n",
       "3       0.9460  145.333   0.2880         Georgette Heyer  \n",
       "4       0.0265  139.272   0.8010  Gerry & The Pacemakers  "
      ]
     },
     "execution_count": 116,
     "metadata": {},
     "output_type": "execute_result"
    }
   ],
   "source": [
    "df.head()"
   ]
  },
  {
   "cell_type": "code",
   "execution_count": 117,
   "id": "dd0028bc",
   "metadata": {
    "ExecuteTime": {
     "end_time": "2022-05-18T12:04:51.262116Z",
     "start_time": "2022-05-18T12:04:51.239203Z"
    }
   },
   "outputs": [
    {
     "name": "stdout",
     "output_type": "stream",
     "text": [
      "<class 'pandas.core.frame.DataFrame'>\n",
      "Int64Index: 52053 entries, 0 to 52316\n",
      "Data columns (total 18 columns):\n",
      " #   Column            Non-Null Count  Dtype  \n",
      "---  ------            --------------  -----  \n",
      " 0   acousticness      52053 non-null  float64\n",
      " 1   danceability      52053 non-null  float64\n",
      " 2   duration_ms       52053 non-null  int64  \n",
      " 3   energy            52053 non-null  float64\n",
      " 4   explicit          52053 non-null  int64  \n",
      " 5   id                52053 non-null  object \n",
      " 6   instrumentalness  52053 non-null  float64\n",
      " 7   key               52053 non-null  int64  \n",
      " 8   liveness          52053 non-null  float64\n",
      " 9   loudness          52053 non-null  float64\n",
      " 10  mode              52053 non-null  int64  \n",
      " 11  name              52053 non-null  object \n",
      " 12  popularity        52053 non-null  int64  \n",
      " 13  release_date      52053 non-null  object \n",
      " 14  speechiness       52053 non-null  float64\n",
      " 15  tempo             52053 non-null  float64\n",
      " 16  valence           52053 non-null  float64\n",
      " 17  artist            52053 non-null  object \n",
      "dtypes: float64(9), int64(5), object(4)\n",
      "memory usage: 9.6+ MB\n"
     ]
    }
   ],
   "source": [
    "df.info()"
   ]
  },
  {
   "cell_type": "markdown",
   "id": "0e42bd7a",
   "metadata": {},
   "source": [
    "## Year of the track"
   ]
  },
  {
   "cell_type": "code",
   "execution_count": 118,
   "id": "15a1f622",
   "metadata": {
    "ExecuteTime": {
     "end_time": "2022-05-18T12:06:53.581872Z",
     "start_time": "2022-05-18T12:06:53.545274Z"
    },
    "collapsed": true
   },
   "outputs": [
    {
     "name": "stdout",
     "output_type": "stream",
     "text": [
      "<class 'pandas.core.frame.DataFrame'>\n",
      "Int64Index: 52053 entries, 0 to 52316\n",
      "Data columns (total 18 columns):\n",
      " #   Column            Non-Null Count  Dtype         \n",
      "---  ------            --------------  -----         \n",
      " 0   acousticness      52053 non-null  float64       \n",
      " 1   danceability      52053 non-null  float64       \n",
      " 2   duration_ms       52053 non-null  int64         \n",
      " 3   energy            52053 non-null  float64       \n",
      " 4   explicit          52053 non-null  int64         \n",
      " 5   id                52053 non-null  object        \n",
      " 6   instrumentalness  52053 non-null  float64       \n",
      " 7   key               52053 non-null  int64         \n",
      " 8   liveness          52053 non-null  float64       \n",
      " 9   loudness          52053 non-null  float64       \n",
      " 10  mode              52053 non-null  int64         \n",
      " 11  name              52053 non-null  object        \n",
      " 12  popularity        52053 non-null  int64         \n",
      " 13  release_date      52053 non-null  datetime64[ns]\n",
      " 14  speechiness       52053 non-null  float64       \n",
      " 15  tempo             52053 non-null  float64       \n",
      " 16  valence           52053 non-null  float64       \n",
      " 17  artist            52053 non-null  object        \n",
      "dtypes: datetime64[ns](1), float64(9), int64(5), object(3)\n",
      "memory usage: 9.6+ MB\n"
     ]
    }
   ],
   "source": [
    "# From release_date (which not in X_simple), we can extract the year of the tracks as an integer\n",
    "df['release_date'] = pd.to_datetime(df['release_date'])\n",
    "df.info()"
   ]
  },
  {
   "cell_type": "code",
   "execution_count": 119,
   "id": "0c2c2906",
   "metadata": {
    "ExecuteTime": {
     "end_time": "2022-05-18T12:09:44.595553Z",
     "start_time": "2022-05-18T12:09:44.281661Z"
    }
   },
   "outputs": [
    {
     "name": "stdout",
     "output_type": "stream",
     "text": [
      "<class 'pandas.core.frame.DataFrame'>\n",
      "Int64Index: 52053 entries, 0 to 52316\n",
      "Data columns (total 14 columns):\n",
      " #   Column            Non-Null Count  Dtype  \n",
      "---  ------            --------------  -----  \n",
      " 0   acousticness      52053 non-null  float64\n",
      " 1   danceability      52053 non-null  float64\n",
      " 2   duration_ms       52053 non-null  int64  \n",
      " 3   energy            52053 non-null  float64\n",
      " 4   explicit          52053 non-null  int64  \n",
      " 5   instrumentalness  52053 non-null  float64\n",
      " 6   key               52053 non-null  int64  \n",
      " 7   liveness          52053 non-null  float64\n",
      " 8   loudness          52053 non-null  float64\n",
      " 9   mode              52053 non-null  int64  \n",
      " 10  speechiness       52053 non-null  float64\n",
      " 11  tempo             52053 non-null  float64\n",
      " 12  valence           52053 non-null  float64\n",
      " 13  year              52053 non-null  int64  \n",
      "dtypes: float64(9), int64(5)\n",
      "memory usage: 8.0 MB\n"
     ]
    }
   ],
   "source": [
    "# Create X_eng which is X_simple + the year of the track\n",
    "X_eng = X_simple\n",
    "X_eng['year'] = df['release_date'].apply(lambda x: int(x.strftime('%Y')))\n",
    "X_eng.info()"
   ]
  },
  {
   "cell_type": "code",
   "execution_count": 121,
   "id": "9cb7fd13",
   "metadata": {
    "ExecuteTime": {
     "end_time": "2022-05-18T12:10:10.783503Z",
     "start_time": "2022-05-18T12:10:10.774216Z"
    }
   },
   "outputs": [
    {
     "data": {
      "text/plain": [
       "array([1971, 2015, 1968, 1926, 2008, 1986, 1963, 1978, 2010, 1962, 2020,\n",
       "       1950, 1965, 1955, 1930, 2019, 1994, 1979, 1956, 1940, 1997, 1924,\n",
       "       1961, 1969, 1959, 1952, 1975, 2016, 1990, 1991, 2012, 1935, 1987,\n",
       "       1980, 1995, 1996, 1998, 1946, 2014, 1993, 2018, 2003, 2011, 1957,\n",
       "       1977, 1942, 1988, 2006, 1943, 1929, 1934, 1989, 1945, 1958, 1932,\n",
       "       2009, 1976, 2021, 1983, 1984, 1982, 2017, 1941, 1928, 2007, 2004,\n",
       "       1970, 1999, 1948, 2013, 2005, 1985, 1951, 1922, 1974, 1953, 1936,\n",
       "       1947, 1954, 1973, 1960, 1964, 2002, 1972, 1967, 1920, 1939, 2000,\n",
       "       1937, 1992, 1949, 2001, 1921, 1933, 1981, 1966, 1927, 1931, 1944,\n",
       "       1925, 1923, 1938])"
      ]
     },
     "execution_count": 121,
     "metadata": {},
     "output_type": "execute_result"
    }
   ],
   "source": [
    "X_eng['year'].unique()"
   ]
  },
  {
   "cell_type": "code",
   "execution_count": 122,
   "id": "34e040c6",
   "metadata": {
    "ExecuteTime": {
     "end_time": "2022-05-18T12:12:23.923170Z",
     "start_time": "2022-05-18T12:12:23.751898Z"
    }
   },
   "outputs": [
    {
     "data": {
      "text/plain": [
       "{'fit_time': array([0.01900363, 0.0266459 , 0.02823853, 0.02510881, 0.02107501]),\n",
       " 'score_time': array([0.00937319, 0.00773621, 0.00649071, 0.00594497, 0.0039711 ]),\n",
       " 'test_score': array([-17.4412204 , -17.4317139 , -17.2453717 , -17.32187397,\n",
       "        -17.06965388])}"
      ]
     },
     "execution_count": 122,
     "metadata": {},
     "output_type": "execute_result"
    }
   ],
   "source": [
    "# Let's check the impact of the new feature 'year' on my model\n",
    "model_eng = LinearRegression()\n",
    "result_eng = cross_validate(model_eng, X_eng, y, cv=5, scoring='neg_root_mean_squared_error')\n",
    "result_eng"
   ]
  },
  {
   "cell_type": "code",
   "execution_count": 124,
   "id": "02ebffba",
   "metadata": {
    "ExecuteTime": {
     "end_time": "2022-05-18T12:15:41.489193Z",
     "start_time": "2022-05-18T12:15:41.482644Z"
    }
   },
   "outputs": [
    {
     "data": {
      "text/plain": [
       "-17.301966769706553"
      ]
     },
     "execution_count": 124,
     "metadata": {},
     "output_type": "execute_result"
    }
   ],
   "source": [
    "score_eng = result_eng['test_score'].mean()\n",
    "score_eng"
   ]
  },
  {
   "cell_type": "markdown",
   "id": "f2b78435",
   "metadata": {},
   "source": [
    "**The score is a little bit better with the feature Year !**"
   ]
  },
  {
   "cell_type": "markdown",
   "id": "e8440037",
   "metadata": {
    "heading_collapsed": true
   },
   "source": [
    "## Clustering"
   ]
  },
  {
   "cell_type": "markdown",
   "id": "355e5e4c",
   "metadata": {
    "hidden": true
   },
   "source": [
    "Now we want to assign each track to a cluster using Kmeans, with 5 clusters "
   ]
  },
  {
   "cell_type": "code",
   "execution_count": 125,
   "id": "807238c4",
   "metadata": {
    "ExecuteTime": {
     "end_time": "2022-05-18T12:23:23.352515Z",
     "start_time": "2022-05-18T12:23:20.879498Z"
    },
    "hidden": true
   },
   "outputs": [
    {
     "data": {
      "text/plain": [
       "KMeans(n_clusters=5)"
      ]
     },
     "execution_count": 125,
     "metadata": {},
     "output_type": "execute_result"
    }
   ],
   "source": [
    "# Kmeans with 5 clusters\n",
    "km = KMeans(n_clusters=5)\n",
    "km.fit(X_simple)"
   ]
  },
  {
   "cell_type": "code",
   "execution_count": 126,
   "id": "c7ed40f1",
   "metadata": {
    "ExecuteTime": {
     "end_time": "2022-05-18T12:23:40.427973Z",
     "start_time": "2022-05-18T12:23:40.422608Z"
    },
    "hidden": true
   },
   "outputs": [
    {
     "data": {
      "text/plain": [
       "(5, 14)"
      ]
     },
     "execution_count": 126,
     "metadata": {},
     "output_type": "execute_result"
    }
   ],
   "source": [
    "km.cluster_centers_.shape"
   ]
  },
  {
   "cell_type": "code",
   "execution_count": 135,
   "id": "52295b01",
   "metadata": {
    "ExecuteTime": {
     "end_time": "2022-05-18T12:26:09.213620Z",
     "start_time": "2022-05-18T12:26:09.204923Z"
    },
    "hidden": true
   },
   "outputs": [
    {
     "data": {
      "text/plain": [
       "array([0, 1, 0, ..., 0, 0, 0], dtype=int32)"
      ]
     },
     "execution_count": 135,
     "metadata": {},
     "output_type": "execute_result"
    }
   ],
   "source": [
    "km.labels_"
   ]
  },
  {
   "cell_type": "code",
   "execution_count": 138,
   "id": "ed3d5944",
   "metadata": {
    "ExecuteTime": {
     "end_time": "2022-05-18T12:27:47.372344Z",
     "start_time": "2022-05-18T12:27:46.470718Z"
    },
    "hidden": true
   },
   "outputs": [
    {
     "data": {
      "text/plain": [
       "Text(0, 0.5, 'PC 2')"
      ]
     },
     "execution_count": 138,
     "metadata": {},
     "output_type": "execute_result"
    },
    {
     "data": {
      "image/png": "[encoded data removed]",
      "text/plain": [
       "<Figure size 1080x360 with 1 Axes>"
      ]
     },
     "metadata": {
      "needs_background": "light"
     },
     "output_type": "display_data"
    }
   ],
   "source": [
    "# Plot of the clusters\n",
    "plt.figure(figsize=(15,5))\n",
    "plt.scatter(X_simple.iloc[:,0], X_simple.iloc[:,1], c=km.labels_)\n",
    "plt.title('KMeans clustering'); plt.xlabel('PC 1'); plt.ylabel('PC 2')"
   ]
  },
  {
   "cell_type": "code",
   "execution_count": 139,
   "id": "9b1581d7",
   "metadata": {
    "ExecuteTime": {
     "end_time": "2022-05-18T12:29:28.400882Z",
     "start_time": "2022-05-18T12:29:28.202810Z"
    },
    "hidden": true
   },
   "outputs": [
    {
     "data": {
      "text/html": [
       "<div>\n",
       "<style scoped>\n",
       "    .dataframe tbody tr th:only-of-type {\n",
       "        vertical-align: middle;\n",
       "    }\n",
       "\n",
       "    .dataframe tbody tr th {\n",
       "        vertical-align: top;\n",
       "    }\n",
       "\n",
       "    .dataframe thead th {\n",
       "        text-align: right;\n",
       "    }\n",
       "</style>\n",
       "<table border=\"1\" class=\"dataframe\">\n",
       "  <thead>\n",
       "    <tr style=\"text-align: right;\">\n",
       "      <th></th>\n",
       "      <th>acousticness</th>\n",
       "      <th>danceability</th>\n",
       "      <th>duration_ms</th>\n",
       "      <th>energy</th>\n",
       "      <th>explicit</th>\n",
       "      <th>instrumentalness</th>\n",
       "      <th>key</th>\n",
       "      <th>liveness</th>\n",
       "      <th>loudness</th>\n",
       "      <th>mode</th>\n",
       "      <th>speechiness</th>\n",
       "      <th>tempo</th>\n",
       "      <th>valence</th>\n",
       "      <th>year</th>\n",
       "      <th>clusters</th>\n",
       "    </tr>\n",
       "  </thead>\n",
       "  <tbody>\n",
       "    <tr>\n",
       "      <th>0</th>\n",
       "      <td>0.65400</td>\n",
       "      <td>0.499</td>\n",
       "      <td>219827</td>\n",
       "      <td>0.190</td>\n",
       "      <td>0</td>\n",
       "      <td>0.004090</td>\n",
       "      <td>7</td>\n",
       "      <td>0.0898</td>\n",
       "      <td>-16.435</td>\n",
       "      <td>1</td>\n",
       "      <td>0.0454</td>\n",
       "      <td>149.460</td>\n",
       "      <td>0.4300</td>\n",
       "      <td>1971</td>\n",
       "      <td>0</td>\n",
       "    </tr>\n",
       "    <tr>\n",
       "      <th>1</th>\n",
       "      <td>0.00592</td>\n",
       "      <td>0.439</td>\n",
       "      <td>483948</td>\n",
       "      <td>0.808</td>\n",
       "      <td>0</td>\n",
       "      <td>0.140000</td>\n",
       "      <td>2</td>\n",
       "      <td>0.0890</td>\n",
       "      <td>-8.497</td>\n",
       "      <td>1</td>\n",
       "      <td>0.0677</td>\n",
       "      <td>138.040</td>\n",
       "      <td>0.0587</td>\n",
       "      <td>2015</td>\n",
       "      <td>1</td>\n",
       "    </tr>\n",
       "    <tr>\n",
       "      <th>2</th>\n",
       "      <td>0.73400</td>\n",
       "      <td>0.523</td>\n",
       "      <td>245693</td>\n",
       "      <td>0.288</td>\n",
       "      <td>0</td>\n",
       "      <td>0.000000</td>\n",
       "      <td>0</td>\n",
       "      <td>0.0771</td>\n",
       "      <td>-11.506</td>\n",
       "      <td>1</td>\n",
       "      <td>0.2140</td>\n",
       "      <td>75.869</td>\n",
       "      <td>0.4640</td>\n",
       "      <td>1968</td>\n",
       "      <td>0</td>\n",
       "    </tr>\n",
       "    <tr>\n",
       "      <th>3</th>\n",
       "      <td>0.42900</td>\n",
       "      <td>0.681</td>\n",
       "      <td>130026</td>\n",
       "      <td>0.165</td>\n",
       "      <td>0</td>\n",
       "      <td>0.000000</td>\n",
       "      <td>11</td>\n",
       "      <td>0.3940</td>\n",
       "      <td>-21.457</td>\n",
       "      <td>0</td>\n",
       "      <td>0.9460</td>\n",
       "      <td>145.333</td>\n",
       "      <td>0.2880</td>\n",
       "      <td>1926</td>\n",
       "      <td>3</td>\n",
       "    </tr>\n",
       "    <tr>\n",
       "      <th>4</th>\n",
       "      <td>0.56200</td>\n",
       "      <td>0.543</td>\n",
       "      <td>129813</td>\n",
       "      <td>0.575</td>\n",
       "      <td>0</td>\n",
       "      <td>0.000004</td>\n",
       "      <td>2</td>\n",
       "      <td>0.1270</td>\n",
       "      <td>-7.374</td>\n",
       "      <td>1</td>\n",
       "      <td>0.0265</td>\n",
       "      <td>139.272</td>\n",
       "      <td>0.8010</td>\n",
       "      <td>2008</td>\n",
       "      <td>3</td>\n",
       "    </tr>\n",
       "  </tbody>\n",
       "</table>\n",
       "</div>"
      ],
      "text/plain": [
       "   acousticness  danceability  duration_ms  energy  explicit  \\\n",
       "0       0.65400         0.499       219827   0.190         0   \n",
       "1       0.00592         0.439       483948   0.808         0   \n",
       "2       0.73400         0.523       245693   0.288         0   \n",
       "3       0.42900         0.681       130026   0.165         0   \n",
       "4       0.56200         0.543       129813   0.575         0   \n",
       "\n",
       "   instrumentalness  key  liveness  loudness  mode  speechiness    tempo  \\\n",
       "0          0.004090    7    0.0898   -16.435     1       0.0454  149.460   \n",
       "1          0.140000    2    0.0890    -8.497     1       0.0677  138.040   \n",
       "2          0.000000    0    0.0771   -11.506     1       0.2140   75.869   \n",
       "3          0.000000   11    0.3940   -21.457     0       0.9460  145.333   \n",
       "4          0.000004    2    0.1270    -7.374     1       0.0265  139.272   \n",
       "\n",
       "   valence  year  clusters  \n",
       "0   0.4300  1971         0  \n",
       "1   0.0587  2015         1  \n",
       "2   0.4640  1968         0  \n",
       "3   0.2880  1926         3  \n",
       "4   0.8010  2008         3  "
      ]
     },
     "execution_count": 139,
     "metadata": {},
     "output_type": "execute_result"
    }
   ],
   "source": [
    "# Add the feature clusters in my X_eng\n",
    "X_eng['clusters'] = km.predict(X_simple)\n",
    "X_eng.head()"
   ]
  },
  {
   "cell_type": "code",
   "execution_count": 140,
   "id": "ac17e888",
   "metadata": {
    "ExecuteTime": {
     "end_time": "2022-05-18T12:29:45.709200Z",
     "start_time": "2022-05-18T12:29:45.698295Z"
    },
    "hidden": true
   },
   "outputs": [
    {
     "data": {
      "text/plain": [
       "array([0, 1, 3, 2, 4], dtype=int32)"
      ]
     },
     "execution_count": 140,
     "metadata": {},
     "output_type": "execute_result"
    }
   ],
   "source": [
    "X_eng['clusters'].unique()"
   ]
  },
  {
   "cell_type": "code",
   "execution_count": 141,
   "id": "e54822c2",
   "metadata": {
    "ExecuteTime": {
     "end_time": "2022-05-18T12:31:41.101557Z",
     "start_time": "2022-05-18T12:31:40.848349Z"
    },
    "hidden": true
   },
   "outputs": [
    {
     "data": {
      "text/plain": [
       "-17.242802136958584"
      ]
     },
     "execution_count": 141,
     "metadata": {},
     "output_type": "execute_result"
    }
   ],
   "source": [
    "# We can now check the impact in our model\n",
    "model_km = LinearRegression()\n",
    "result_km = cross_validate(model_km, X_eng, y, cv=5, scoring='neg_root_mean_squared_error')\n",
    "score_km = result_km['test_score'].mean()\n",
    "score_km"
   ]
  },
  {
   "cell_type": "markdown",
   "id": "91795b2c",
   "metadata": {
    "hidden": true
   },
   "source": [
    "**The score is similar with or without clustering.**"
   ]
  },
  {
   "cell_type": "markdown",
   "id": "d27f0dd3",
   "metadata": {},
   "source": [
    "# Preprocessing"
   ]
  },
  {
   "cell_type": "markdown",
   "id": "5cb45f96",
   "metadata": {},
   "source": [
    "Let's construct a preprocessing pipeline."
   ]
  },
  {
   "cell_type": "code",
   "execution_count": 144,
   "id": "1fd78672",
   "metadata": {
    "ExecuteTime": {
     "end_time": "2022-05-18T12:36:59.382686Z",
     "start_time": "2022-05-18T12:36:59.312988Z"
    }
   },
   "outputs": [
    {
     "name": "stdout",
     "output_type": "stream",
     "text": [
      "<class 'pandas.core.frame.DataFrame'>\n",
      "Int64Index: 52053 entries, 0 to 52316\n",
      "Data columns (total 18 columns):\n",
      " #   Column            Non-Null Count  Dtype         \n",
      "---  ------            --------------  -----         \n",
      " 0   acousticness      52053 non-null  float64       \n",
      " 1   danceability      52053 non-null  float64       \n",
      " 2   duration_ms       52053 non-null  int64         \n",
      " 3   energy            52053 non-null  float64       \n",
      " 4   explicit          52053 non-null  int64         \n",
      " 5   id                52053 non-null  object        \n",
      " 6   instrumentalness  52053 non-null  float64       \n",
      " 7   key               52053 non-null  int64         \n",
      " 8   liveness          52053 non-null  float64       \n",
      " 9   loudness          52053 non-null  float64       \n",
      " 10  mode              52053 non-null  int64         \n",
      " 11  name              52053 non-null  object        \n",
      " 12  popularity        52053 non-null  int64         \n",
      " 13  release_date      52053 non-null  datetime64[ns]\n",
      " 14  speechiness       52053 non-null  float64       \n",
      " 15  tempo             52053 non-null  float64       \n",
      " 16  valence           52053 non-null  float64       \n",
      " 17  artist            52053 non-null  object        \n",
      "dtypes: datetime64[ns](1), float64(9), int64(5), object(3)\n",
      "memory usage: 9.6+ MB\n"
     ]
    }
   ],
   "source": [
    "df.info()"
   ]
  },
  {
   "cell_type": "code",
   "execution_count": 145,
   "id": "2e968582",
   "metadata": {
    "ExecuteTime": {
     "end_time": "2022-05-18T12:38:44.402687Z",
     "start_time": "2022-05-18T12:38:44.081155Z"
    }
   },
   "outputs": [],
   "source": [
    "# Define X and y\n",
    "X = df.drop(columns='popularity')\n",
    "y = df['popularity']"
   ]
  },
  {
   "cell_type": "code",
   "execution_count": 147,
   "id": "cf112e04",
   "metadata": {
    "ExecuteTime": {
     "end_time": "2022-05-18T12:39:48.924226Z",
     "start_time": "2022-05-18T12:39:48.886261Z"
    }
   },
   "outputs": [
    {
     "name": "stdout",
     "output_type": "stream",
     "text": [
      "<class 'pandas.core.frame.DataFrame'>\n",
      "Int64Index: 52053 entries, 0 to 52316\n",
      "Data columns (total 3 columns):\n",
      " #   Column  Non-Null Count  Dtype \n",
      "---  ------  --------------  ----- \n",
      " 0   id      52053 non-null  object\n",
      " 1   name    52053 non-null  object\n",
      " 2   artist  52053 non-null  object\n",
      "dtypes: object(3)\n",
      "memory usage: 3.6+ MB\n"
     ]
    }
   ],
   "source": [
    "# Check of the 'object' features\n",
    "X.select_dtypes(include='object').info()"
   ]
  },
  {
   "cell_type": "code",
   "execution_count": 149,
   "id": "fc53a41c",
   "metadata": {
    "ExecuteTime": {
     "end_time": "2022-05-18T12:40:54.244949Z",
     "start_time": "2022-05-18T12:40:54.209822Z"
    }
   },
   "outputs": [
    {
     "name": "stdout",
     "output_type": "stream",
     "text": [
      "52053\n",
      "46641\n",
      "12577\n"
     ]
    }
   ],
   "source": [
    "# How many unique values do they have ?\n",
    "print(X.id.nunique())\n",
    "print(X.name.nunique())\n",
    "print(X.artist.nunique())"
   ]
  },
  {
   "cell_type": "markdown",
   "id": "d4fe924b",
   "metadata": {},
   "source": [
    "=> To many unique values, not possible to on-hot encode them"
   ]
  },
  {
   "cell_type": "markdown",
   "id": "0e831dc1",
   "metadata": {},
   "source": [
    "## Year of the track"
   ]
  },
  {
   "cell_type": "code",
   "execution_count": 196,
   "id": "b3539acb",
   "metadata": {
    "ExecuteTime": {
     "end_time": "2022-05-18T13:49:05.499590Z",
     "start_time": "2022-05-18T13:49:05.494753Z"
    }
   },
   "outputs": [],
   "source": [
    "# Method to extract the year of a track\n",
    "def extract_year(df):\n",
    "    df[\"release_date\"] = pd.to_datetime(df[\"release_date\"], format='%Y-%m-%d').apply(lambda x : x.year)\n",
    "    return df"
   ]
  },
  {
   "cell_type": "code",
   "execution_count": 197,
   "id": "2e5d4289",
   "metadata": {
    "ExecuteTime": {
     "end_time": "2022-05-18T13:49:15.583866Z",
     "start_time": "2022-05-18T13:49:15.578078Z"
    }
   },
   "outputs": [],
   "source": [
    "# Custom transformer function\n",
    "transformer_year = FunctionTransformer(extract_year)"
   ]
  },
  {
   "cell_type": "code",
   "execution_count": 198,
   "id": "e4515522",
   "metadata": {
    "ExecuteTime": {
     "end_time": "2022-05-18T13:49:41.025914Z",
     "start_time": "2022-05-18T13:49:41.021837Z"
    }
   },
   "outputs": [],
   "source": [
    "# Create the pipeline\n",
    "pipeline_year = Pipeline([\n",
    "    ('transform_year', transformer_year),\n",
    "    ('scaler', MinMaxScaler())\n",
    "])"
   ]
  },
  {
   "cell_type": "markdown",
   "id": "1f946cfc",
   "metadata": {},
   "source": [
    "## Clusters"
   ]
  },
  {
   "cell_type": "code",
   "execution_count": 159,
   "id": "9110b8c8",
   "metadata": {
    "ExecuteTime": {
     "end_time": "2022-05-18T12:58:21.325653Z",
     "start_time": "2022-05-18T12:58:21.321455Z"
    }
   },
   "outputs": [],
   "source": [
    "# Method of a Kmeans\n",
    "def process_clusters(clusters):\n",
    "    return np.argmin(clusters, axis=1).reshape((-1, 1))\n",
    "\n",
    "# The transform method of a 'KMeans' return an array of shape (n_samples, n_clusters) with the distance to cluster for each pair obs-cluster  \n",
    "# We then use an `np.argmin` on the rows to get the index of the center the observation is closest to  \n",
    "# This effectively yields clusters for each observation"
   ]
  },
  {
   "cell_type": "code",
   "execution_count": 160,
   "id": "57fbeff1",
   "metadata": {
    "ExecuteTime": {
     "end_time": "2022-05-18T12:59:11.338393Z",
     "start_time": "2022-05-18T12:59:11.334618Z"
    }
   },
   "outputs": [],
   "source": [
    "# Custom transformer function\n",
    "transformer_clusters = FunctionTransformer(process_clusters)"
   ]
  },
  {
   "cell_type": "code",
   "execution_count": 199,
   "id": "60adfcc0",
   "metadata": {
    "ExecuteTime": {
     "end_time": "2022-05-18T13:49:48.505323Z",
     "start_time": "2022-05-18T13:49:48.498473Z"
    }
   },
   "outputs": [],
   "source": [
    "# Create the pipeline\n",
    "pipeline_clusters = Pipeline([\n",
    "    ('kmeans', KMeans(n_clusters=5)),\n",
    "    ('transform_clusters', transformer_clusters),\n",
    "    ('encoderOHE', OneHotEncoder(sparse=False, drop='first', handle_unknown='ignore'))\n",
    "])"
   ]
  },
  {
   "cell_type": "markdown",
   "id": "39c21676",
   "metadata": {},
   "source": [
    "## Artist popularity"
   ]
  },
  {
   "cell_type": "code",
   "execution_count": 163,
   "id": "a28d2619",
   "metadata": {
    "ExecuteTime": {
     "end_time": "2022-05-18T13:04:56.652145Z",
     "start_time": "2022-05-18T13:04:56.642063Z"
    }
   },
   "outputs": [],
   "source": [
    "# Custom Transformer class for artist popularity\n",
    "# It computes the average popularity of songs, per artist, on the train set only  \n",
    "# If the artist is unknown in the test set, the average popularity will be equal to the mean popularity on the train set\n",
    "\n",
    "class ArtistPopularityTransformer(BaseEstimator, TransformerMixin):\n",
    "    \"\"\"\n",
    "    Compute, as a new feature the artist's popularity\n",
    "    Do so by computing the mean popularity of all songs from the artist\n",
    "    Notice that the popularity is computed on the train only to avoid leakage\n",
    "    \"\"\"\n",
    "\n",
    "    def __init__(self):\n",
    "        pass\n",
    "\n",
    "    def fit(self, X, y=None):\n",
    "        \"\"\"\n",
    "        process artist mean popularity from artists songs popularity\n",
    "        process song global mean popularity\n",
    "        \"\"\"\n",
    "\n",
    "        # process artist popularity\n",
    "        self.artist_popularity = y.groupby(X.artist).agg(\"mean\")\n",
    "        self.artist_popularity.name = \"artist_popularity\"\n",
    "\n",
    "        # process mean popularity\n",
    "        self.mean_popularity = y.mean()\n",
    "\n",
    "        return self\n",
    "\n",
    "    def transform(self, X, y=None):\n",
    "        \"\"\"\n",
    "        apply artist mean popularity vs song global mean popularity to songs\n",
    "        \"\"\"\n",
    "\n",
    "        # inject artist popularity\n",
    "        X_copy = X.merge(self.artist_popularity, how=\"left\", left_on=\"artist\", right_index=True)\n",
    "\n",
    "        # fills popularity of unknown artists with song global mean popularity\n",
    "        X_copy.replace(np.nan, self.mean_popularity, inplace=True)\n",
    "\n",
    "        return X_copy[[\"artist_popularity\"]]"
   ]
  },
  {
   "cell_type": "code",
   "execution_count": 165,
   "id": "7fcf0bea",
   "metadata": {
    "ExecuteTime": {
     "end_time": "2022-05-18T13:07:08.000101Z",
     "start_time": "2022-05-18T13:07:07.994153Z"
    }
   },
   "outputs": [],
   "source": [
    "# Create the pipeline\n",
    "pipeline_artist = Pipeline([\n",
    "    ('ArtistPopularityTransform', ArtistPopularityTransformer()),\n",
    "    ('scaler', MinMaxScaler())\n",
    "])"
   ]
  },
  {
   "cell_type": "markdown",
   "id": "911b744b",
   "metadata": {},
   "source": [
    "## Preprocessing pipeline"
   ]
  },
  {
   "cell_type": "code",
   "execution_count": 191,
   "id": "86623a36",
   "metadata": {
    "ExecuteTime": {
     "end_time": "2022-05-18T13:45:50.194370Z",
     "start_time": "2022-05-18T13:45:50.172028Z"
    },
    "scrolled": true
   },
   "outputs": [
    {
     "name": "stdout",
     "output_type": "stream",
     "text": [
      "<class 'pandas.core.frame.DataFrame'>\n",
      "Int64Index: 52053 entries, 0 to 52316\n",
      "Data columns (total 17 columns):\n",
      " #   Column            Non-Null Count  Dtype         \n",
      "---  ------            --------------  -----         \n",
      " 0   acousticness      52053 non-null  float64       \n",
      " 1   danceability      52053 non-null  float64       \n",
      " 2   duration_ms       52053 non-null  int64         \n",
      " 3   energy            52053 non-null  float64       \n",
      " 4   explicit          52053 non-null  int64         \n",
      " 5   id                52053 non-null  object        \n",
      " 6   instrumentalness  52053 non-null  float64       \n",
      " 7   key               52053 non-null  int64         \n",
      " 8   liveness          52053 non-null  float64       \n",
      " 9   loudness          52053 non-null  float64       \n",
      " 10  mode              52053 non-null  int64         \n",
      " 11  name              52053 non-null  object        \n",
      " 12  release_date      52053 non-null  datetime64[ns]\n",
      " 13  speechiness       52053 non-null  float64       \n",
      " 14  tempo             52053 non-null  float64       \n",
      " 15  valence           52053 non-null  float64       \n",
      " 16  artist            52053 non-null  object        \n",
      "dtypes: datetime64[ns](1), float64(9), int64(4), object(3)\n",
      "memory usage: 9.2+ MB\n"
     ]
    }
   ],
   "source": [
    "# Let's create the preproc pipeline\n",
    "X.info()"
   ]
  },
  {
   "cell_type": "code",
   "execution_count": 200,
   "id": "1b8a6b7f",
   "metadata": {
    "ExecuteTime": {
     "end_time": "2022-05-18T13:49:54.871333Z",
     "start_time": "2022-05-18T13:49:54.821473Z"
    }
   },
   "outputs": [
    {
     "data": {
      "text/html": [
       "<style>#sk-5e7557b0-dabc-4d9d-b889-b2b1a028e7fe {color: black;background-color: white;}#sk-5e7557b0-dabc-4d9d-b889-b2b1a028e7fe pre{padding: 0;}#sk-5e7557b0-dabc-4d9d-b889-b2b1a028e7fe div.sk-toggleable {background-color: white;}#sk-5e7557b0-dabc-4d9d-b889-b2b1a028e7fe label.sk-toggleable__label {cursor: pointer;display: block;width: 100%;margin-bottom: 0;padding: 0.3em;box-sizing: border-box;text-align: center;}#sk-5e7557b0-dabc-4d9d-b889-b2b1a028e7fe label.sk-toggleable__label-arrow:before {content: \"▸\";float: left;margin-right: 0.25em;color: #696969;}#sk-5e7557b0-dabc-4d9d-b889-b2b1a028e7fe label.sk-toggleable__label-arrow:hover:before {color: black;}#sk-5e7557b0-dabc-4d9d-b889-b2b1a028e7fe div.sk-estimator:hover label.sk-toggleable__label-arrow:before {color: black;}#sk-5e7557b0-dabc-4d9d-b889-b2b1a028e7fe div.sk-toggleable__content {max-height: 0;max-width: 0;overflow: hidden;text-align: left;background-color: #f0f8ff;}#sk-5e7557b0-dabc-4d9d-b889-b2b1a028e7fe div.sk-toggleable__content pre {margin: 0.2em;color: black;border-radius: 0.25em;background-color: #f0f8ff;}#sk-5e7557b0-dabc-4d9d-b889-b2b1a028e7fe input.sk-toggleable__control:checked~div.sk-toggleable__content {max-height: 200px;max-width: 100%;overflow: auto;}#sk-5e7557b0-dabc-4d9d-b889-b2b1a028e7fe input.sk-toggleable__control:checked~label.sk-toggleable__label-arrow:before {content: \"▾\";}#sk-5e7557b0-dabc-4d9d-b889-b2b1a028e7fe div.sk-estimator input.sk-toggleable__control:checked~label.sk-toggleable__label {background-color: #d4ebff;}#sk-5e7557b0-dabc-4d9d-b889-b2b1a028e7fe div.sk-label input.sk-toggleable__control:checked~label.sk-toggleable__label {background-color: #d4ebff;}#sk-5e7557b0-dabc-4d9d-b889-b2b1a028e7fe input.sk-hidden--visually {border: 0;clip: rect(1px 1px 1px 1px);clip: rect(1px, 1px, 1px, 1px);height: 1px;margin: -1px;overflow: hidden;padding: 0;position: absolute;width: 1px;}#sk-5e7557b0-dabc-4d9d-b889-b2b1a028e7fe div.sk-estimator {font-family: monospace;background-color: #f0f8ff;border: 1px dotted black;border-radius: 0.25em;box-sizing: border-box;margin-bottom: 0.5em;}#sk-5e7557b0-dabc-4d9d-b889-b2b1a028e7fe div.sk-estimator:hover {background-color: #d4ebff;}#sk-5e7557b0-dabc-4d9d-b889-b2b1a028e7fe div.sk-parallel-item::after {content: \"\";width: 100%;border-bottom: 1px solid gray;flex-grow: 1;}#sk-5e7557b0-dabc-4d9d-b889-b2b1a028e7fe div.sk-label:hover label.sk-toggleable__label {background-color: #d4ebff;}#sk-5e7557b0-dabc-4d9d-b889-b2b1a028e7fe div.sk-serial::before {content: \"\";position: absolute;border-left: 1px solid gray;box-sizing: border-box;top: 2em;bottom: 0;left: 50%;}#sk-5e7557b0-dabc-4d9d-b889-b2b1a028e7fe div.sk-serial {display: flex;flex-direction: column;align-items: center;background-color: white;padding-right: 0.2em;padding-left: 0.2em;}#sk-5e7557b0-dabc-4d9d-b889-b2b1a028e7fe div.sk-item {z-index: 1;}#sk-5e7557b0-dabc-4d9d-b889-b2b1a028e7fe div.sk-parallel {display: flex;align-items: stretch;justify-content: center;background-color: white;}#sk-5e7557b0-dabc-4d9d-b889-b2b1a028e7fe div.sk-parallel::before {content: \"\";position: absolute;border-left: 1px solid gray;box-sizing: border-box;top: 2em;bottom: 0;left: 50%;}#sk-5e7557b0-dabc-4d9d-b889-b2b1a028e7fe div.sk-parallel-item {display: flex;flex-direction: column;position: relative;background-color: white;}#sk-5e7557b0-dabc-4d9d-b889-b2b1a028e7fe div.sk-parallel-item:first-child::after {align-self: flex-end;width: 50%;}#sk-5e7557b0-dabc-4d9d-b889-b2b1a028e7fe div.sk-parallel-item:last-child::after {align-self: flex-start;width: 50%;}#sk-5e7557b0-dabc-4d9d-b889-b2b1a028e7fe div.sk-parallel-item:only-child::after {width: 0;}#sk-5e7557b0-dabc-4d9d-b889-b2b1a028e7fe div.sk-dashed-wrapped {border: 1px dashed gray;margin: 0 0.4em 0.5em 0.4em;box-sizing: border-box;padding-bottom: 0.4em;background-color: white;position: relative;}#sk-5e7557b0-dabc-4d9d-b889-b2b1a028e7fe div.sk-label label {font-family: monospace;font-weight: bold;background-color: white;display: inline-block;line-height: 1.2em;}#sk-5e7557b0-dabc-4d9d-b889-b2b1a028e7fe div.sk-label-container {position: relative;z-index: 2;text-align: center;}#sk-5e7557b0-dabc-4d9d-b889-b2b1a028e7fe div.sk-container {/* jupyter's `normalize.less` sets `[hidden] { display: none; }` but bootstrap.min.css set `[hidden] { display: none !important; }` so we also need the `!important` here to be able to override the default hidden behavior on the sphinx rendered scikit-learn.org. See: https://github.com/scikit-learn/scikit-learn/issues/21755 */display: inline-block !important;position: relative;}#sk-5e7557b0-dabc-4d9d-b889-b2b1a028e7fe div.sk-text-repr-fallback {display: none;}</style><div id=\"sk-5e7557b0-dabc-4d9d-b889-b2b1a028e7fe\" class=\"sk-top-container\"><div class=\"sk-text-repr-fallback\"><pre>ColumnTransformer(transformers=[(&#x27;year_pipe&#x27;,\n",
       "                                 Pipeline(steps=[(&#x27;transform_year&#x27;,\n",
       "                                                  FunctionTransformer(func=&lt;function extract_year at 0x7f60647be3a0&gt;)),\n",
       "                                                 (&#x27;scaler&#x27;, MinMaxScaler())]),\n",
       "                                 [&#x27;release_date&#x27;]),\n",
       "                                (&#x27;clusters_pipe&#x27;,\n",
       "                                 Pipeline(steps=[(&#x27;kmeans&#x27;,\n",
       "                                                  KMeans(n_clusters=5)),\n",
       "                                                 (&#x27;transform_clusters&#x27;,\n",
       "                                                  FunctionTransformer(func=&lt;function process_clusters at 0x7f6058391d30&gt;)),\n",
       "                                                 (&#x27;...\n",
       "                                                                handle_unknown=&#x27;ignore&#x27;,\n",
       "                                                                sparse=False))]),\n",
       "                                 &lt;sklearn.compose._column_transformer.make_column_selector object at 0x7f604fd37400&gt;),\n",
       "                                (&#x27;artist_pipe&#x27;,\n",
       "                                 Pipeline(steps=[(&#x27;ArtistPopularityTransform&#x27;,\n",
       "                                                  ArtistPopularityTransformer()),\n",
       "                                                 (&#x27;scaler&#x27;, MinMaxScaler())]),\n",
       "                                 [&#x27;artist&#x27;]),\n",
       "                                (&#x27;scaled_num&#x27;, MinMaxScaler(),\n",
       "                                 &lt;sklearn.compose._column_transformer.make_column_selector object at 0x7f604fd37d90&gt;)])</pre><b>Please rerun this cell to show the HTML repr or trust the notebook.</b></div><div class=\"sk-container\" hidden><div class=\"sk-item sk-dashed-wrapped\"><div class=\"sk-label-container\"><div class=\"sk-label sk-toggleable\"><input class=\"sk-toggleable__control sk-hidden--visually\" id=\"34dafc5e-6dc5-4342-87f0-76e7ab707e53\" type=\"checkbox\" ><label for=\"34dafc5e-6dc5-4342-87f0-76e7ab707e53\" class=\"sk-toggleable__label sk-toggleable__label-arrow\">ColumnTransformer</label><div class=\"sk-toggleable__content\"><pre>ColumnTransformer(transformers=[(&#x27;year_pipe&#x27;,\n",
       "                                 Pipeline(steps=[(&#x27;transform_year&#x27;,\n",
       "                                                  FunctionTransformer(func=&lt;function extract_year at 0x7f60647be3a0&gt;)),\n",
       "                                                 (&#x27;scaler&#x27;, MinMaxScaler())]),\n",
       "                                 [&#x27;release_date&#x27;]),\n",
       "                                (&#x27;clusters_pipe&#x27;,\n",
       "                                 Pipeline(steps=[(&#x27;kmeans&#x27;,\n",
       "                                                  KMeans(n_clusters=5)),\n",
       "                                                 (&#x27;transform_clusters&#x27;,\n",
       "                                                  FunctionTransformer(func=&lt;function process_clusters at 0x7f6058391d30&gt;)),\n",
       "                                                 (&#x27;...\n",
       "                                                                handle_unknown=&#x27;ignore&#x27;,\n",
       "                                                                sparse=False))]),\n",
       "                                 &lt;sklearn.compose._column_transformer.make_column_selector object at 0x7f604fd37400&gt;),\n",
       "                                (&#x27;artist_pipe&#x27;,\n",
       "                                 Pipeline(steps=[(&#x27;ArtistPopularityTransform&#x27;,\n",
       "                                                  ArtistPopularityTransformer()),\n",
       "                                                 (&#x27;scaler&#x27;, MinMaxScaler())]),\n",
       "                                 [&#x27;artist&#x27;]),\n",
       "                                (&#x27;scaled_num&#x27;, MinMaxScaler(),\n",
       "                                 &lt;sklearn.compose._column_transformer.make_column_selector object at 0x7f604fd37d90&gt;)])</pre></div></div></div><div class=\"sk-parallel\"><div class=\"sk-parallel-item\"><div class=\"sk-item\"><div class=\"sk-label-container\"><div class=\"sk-label sk-toggleable\"><input class=\"sk-toggleable__control sk-hidden--visually\" id=\"f4fe0e9f-91b0-4c20-a33c-f8fea4a3825d\" type=\"checkbox\" ><label for=\"f4fe0e9f-91b0-4c20-a33c-f8fea4a3825d\" class=\"sk-toggleable__label sk-toggleable__label-arrow\">year_pipe</label><div class=\"sk-toggleable__content\"><pre>[&#x27;release_date&#x27;]</pre></div></div></div><div class=\"sk-serial\"><div class=\"sk-item\"><div class=\"sk-serial\"><div class=\"sk-item\"><div class=\"sk-estimator sk-toggleable\"><input class=\"sk-toggleable__control sk-hidden--visually\" id=\"8b681101-eedc-44a0-8a1e-f0f820d87d37\" type=\"checkbox\" ><label for=\"8b681101-eedc-44a0-8a1e-f0f820d87d37\" class=\"sk-toggleable__label sk-toggleable__label-arrow\">FunctionTransformer</label><div class=\"sk-toggleable__content\"><pre>FunctionTransformer(func=&lt;function extract_year at 0x7f60647be3a0&gt;)</pre></div></div></div><div class=\"sk-item\"><div class=\"sk-estimator sk-toggleable\"><input class=\"sk-toggleable__control sk-hidden--visually\" id=\"595b62a7-99fe-49e5-b17d-3217815a092a\" type=\"checkbox\" ><label for=\"595b62a7-99fe-49e5-b17d-3217815a092a\" class=\"sk-toggleable__label sk-toggleable__label-arrow\">MinMaxScaler</label><div class=\"sk-toggleable__content\"><pre>MinMaxScaler()</pre></div></div></div></div></div></div></div></div><div class=\"sk-parallel-item\"><div class=\"sk-item\"><div class=\"sk-label-container\"><div class=\"sk-label sk-toggleable\"><input class=\"sk-toggleable__control sk-hidden--visually\" id=\"3088a63f-ad4d-4f93-b651-5ce2ab57f260\" type=\"checkbox\" ><label for=\"3088a63f-ad4d-4f93-b651-5ce2ab57f260\" class=\"sk-toggleable__label sk-toggleable__label-arrow\">clusters_pipe</label><div class=\"sk-toggleable__content\"><pre>&lt;sklearn.compose._column_transformer.make_column_selector object at 0x7f604fd37400&gt;</pre></div></div></div><div class=\"sk-serial\"><div class=\"sk-item\"><div class=\"sk-serial\"><div class=\"sk-item\"><div class=\"sk-estimator sk-toggleable\"><input class=\"sk-toggleable__control sk-hidden--visually\" id=\"7113f951-3274-4843-a8a3-d8e651bbf0d0\" type=\"checkbox\" ><label for=\"7113f951-3274-4843-a8a3-d8e651bbf0d0\" class=\"sk-toggleable__label sk-toggleable__label-arrow\">KMeans</label><div class=\"sk-toggleable__content\"><pre>KMeans(n_clusters=5)</pre></div></div></div><div class=\"sk-item\"><div class=\"sk-estimator sk-toggleable\"><input class=\"sk-toggleable__control sk-hidden--visually\" id=\"b7d03543-6bb3-4c12-b667-de9a7cdff2a0\" type=\"checkbox\" ><label for=\"b7d03543-6bb3-4c12-b667-de9a7cdff2a0\" class=\"sk-toggleable__label sk-toggleable__label-arrow\">FunctionTransformer</label><div class=\"sk-toggleable__content\"><pre>FunctionTransformer(func=&lt;function process_clusters at 0x7f6058391d30&gt;)</pre></div></div></div><div class=\"sk-item\"><div class=\"sk-estimator sk-toggleable\"><input class=\"sk-toggleable__control sk-hidden--visually\" id=\"9f82d246-00ed-474a-a765-f172173ca350\" type=\"checkbox\" ><label for=\"9f82d246-00ed-474a-a765-f172173ca350\" class=\"sk-toggleable__label sk-toggleable__label-arrow\">OneHotEncoder</label><div class=\"sk-toggleable__content\"><pre>OneHotEncoder(drop=&#x27;first&#x27;, handle_unknown=&#x27;ignore&#x27;, sparse=False)</pre></div></div></div></div></div></div></div></div><div class=\"sk-parallel-item\"><div class=\"sk-item\"><div class=\"sk-label-container\"><div class=\"sk-label sk-toggleable\"><input class=\"sk-toggleable__control sk-hidden--visually\" id=\"a42a7fb1-5740-460d-8461-8757f5a2ba30\" type=\"checkbox\" ><label for=\"a42a7fb1-5740-460d-8461-8757f5a2ba30\" class=\"sk-toggleable__label sk-toggleable__label-arrow\">artist_pipe</label><div class=\"sk-toggleable__content\"><pre>[&#x27;artist&#x27;]</pre></div></div></div><div class=\"sk-serial\"><div class=\"sk-item\"><div class=\"sk-serial\"><div class=\"sk-item\"><div class=\"sk-estimator sk-toggleable\"><input class=\"sk-toggleable__control sk-hidden--visually\" id=\"67fe3854-ae9a-4fba-b697-2ffe05b998cd\" type=\"checkbox\" ><label for=\"67fe3854-ae9a-4fba-b697-2ffe05b998cd\" class=\"sk-toggleable__label sk-toggleable__label-arrow\">ArtistPopularityTransformer</label><div class=\"sk-toggleable__content\"><pre>ArtistPopularityTransformer()</pre></div></div></div><div class=\"sk-item\"><div class=\"sk-estimator sk-toggleable\"><input class=\"sk-toggleable__control sk-hidden--visually\" id=\"09e5687a-0253-4cfb-81f0-91d0dcbcfced\" type=\"checkbox\" ><label for=\"09e5687a-0253-4cfb-81f0-91d0dcbcfced\" class=\"sk-toggleable__label sk-toggleable__label-arrow\">MinMaxScaler</label><div class=\"sk-toggleable__content\"><pre>MinMaxScaler()</pre></div></div></div></div></div></div></div></div><div class=\"sk-parallel-item\"><div class=\"sk-item\"><div class=\"sk-label-container\"><div class=\"sk-label sk-toggleable\"><input class=\"sk-toggleable__control sk-hidden--visually\" id=\"e06ffa36-3f20-4235-91bb-9402ac24378b\" type=\"checkbox\" ><label for=\"e06ffa36-3f20-4235-91bb-9402ac24378b\" class=\"sk-toggleable__label sk-toggleable__label-arrow\">scaled_num</label><div class=\"sk-toggleable__content\"><pre>&lt;sklearn.compose._column_transformer.make_column_selector object at 0x7f604fd37d90&gt;</pre></div></div></div><div class=\"sk-serial\"><div class=\"sk-item\"><div class=\"sk-estimator sk-toggleable\"><input class=\"sk-toggleable__control sk-hidden--visually\" id=\"2dbe044a-b1a3-44ab-896e-f5a7c526d131\" type=\"checkbox\" ><label for=\"2dbe044a-b1a3-44ab-896e-f5a7c526d131\" class=\"sk-toggleable__label sk-toggleable__label-arrow\">MinMaxScaler</label><div class=\"sk-toggleable__content\"><pre>MinMaxScaler()</pre></div></div></div></div></div></div></div></div></div></div>"
      ],
      "text/plain": [
       "ColumnTransformer(transformers=[('year_pipe',\n",
       "                                 Pipeline(steps=[('transform_year',\n",
       "                                                  FunctionTransformer(func=<function extract_year at 0x7f60647be3a0>)),\n",
       "                                                 ('scaler', MinMaxScaler())]),\n",
       "                                 ['release_date']),\n",
       "                                ('clusters_pipe',\n",
       "                                 Pipeline(steps=[('kmeans',\n",
       "                                                  KMeans(n_clusters=5)),\n",
       "                                                 ('transform_clusters',\n",
       "                                                  FunctionTransformer(func=<function process_clusters at 0x7f6058391d30>)),\n",
       "                                                 ('...\n",
       "                                                                handle_unknown='ignore',\n",
       "                                                                sparse=False))]),\n",
       "                                 <sklearn.compose._column_transformer.make_column_selector object at 0x7f604fd37400>),\n",
       "                                ('artist_pipe',\n",
       "                                 Pipeline(steps=[('ArtistPopularityTransform',\n",
       "                                                  ArtistPopularityTransformer()),\n",
       "                                                 ('scaler', MinMaxScaler())]),\n",
       "                                 ['artist']),\n",
       "                                ('scaled_num', MinMaxScaler(),\n",
       "                                 <sklearn.compose._column_transformer.make_column_selector object at 0x7f604fd37d90>)])"
      ]
     },
     "execution_count": 200,
     "metadata": {},
     "output_type": "execute_result"
    }
   ],
   "source": [
    "preproc_pipe =  ColumnTransformer([\n",
    "    ('year_pipe', pipeline_year, ['release_date']),\n",
    "    ('clusters_pipe', pipeline_clusters, make_column_selector(dtype_include=['int64', 'float64'])),\n",
    "    ('artist_pipe', pipeline_artist, ['artist']),\n",
    "    ('scaled_num', MinMaxScaler(), make_column_selector(dtype_include=['int64', 'float64']))\n",
    "], remainder='drop')\n",
    "preproc_pipe"
   ]
  },
  {
   "cell_type": "markdown",
   "id": "1d5d5977",
   "metadata": {},
   "source": [
    "# Models"
   ]
  },
  {
   "cell_type": "markdown",
   "id": "047937a7",
   "metadata": {},
   "source": [
    "## Linear Model"
   ]
  },
  {
   "cell_type": "code",
   "execution_count": 201,
   "id": "2bb88f74",
   "metadata": {
    "ExecuteTime": {
     "end_time": "2022-05-18T13:50:15.847692Z",
     "start_time": "2022-05-18T13:50:15.722473Z"
    }
   },
   "outputs": [
    {
     "data": {
      "text/html": [
       "<style>#sk-07e8a4ab-b70a-4638-bd31-8f29f1b2ec24 {color: black;background-color: white;}#sk-07e8a4ab-b70a-4638-bd31-8f29f1b2ec24 pre{padding: 0;}#sk-07e8a4ab-b70a-4638-bd31-8f29f1b2ec24 div.sk-toggleable {background-color: white;}#sk-07e8a4ab-b70a-4638-bd31-8f29f1b2ec24 label.sk-toggleable__label {cursor: pointer;display: block;width: 100%;margin-bottom: 0;padding: 0.3em;box-sizing: border-box;text-align: center;}#sk-07e8a4ab-b70a-4638-bd31-8f29f1b2ec24 label.sk-toggleable__label-arrow:before {content: \"▸\";float: left;margin-right: 0.25em;color: #696969;}#sk-07e8a4ab-b70a-4638-bd31-8f29f1b2ec24 label.sk-toggleable__label-arrow:hover:before {color: black;}#sk-07e8a4ab-b70a-4638-bd31-8f29f1b2ec24 div.sk-estimator:hover label.sk-toggleable__label-arrow:before {color: black;}#sk-07e8a4ab-b70a-4638-bd31-8f29f1b2ec24 div.sk-toggleable__content {max-height: 0;max-width: 0;overflow: hidden;text-align: left;background-color: #f0f8ff;}#sk-07e8a4ab-b70a-4638-bd31-8f29f1b2ec24 div.sk-toggleable__content pre {margin: 0.2em;color: black;border-radius: 0.25em;background-color: #f0f8ff;}#sk-07e8a4ab-b70a-4638-bd31-8f29f1b2ec24 input.sk-toggleable__control:checked~div.sk-toggleable__content {max-height: 200px;max-width: 100%;overflow: auto;}#sk-07e8a4ab-b70a-4638-bd31-8f29f1b2ec24 input.sk-toggleable__control:checked~label.sk-toggleable__label-arrow:before {content: \"▾\";}#sk-07e8a4ab-b70a-4638-bd31-8f29f1b2ec24 div.sk-estimator input.sk-toggleable__control:checked~label.sk-toggleable__label {background-color: #d4ebff;}#sk-07e8a4ab-b70a-4638-bd31-8f29f1b2ec24 div.sk-label input.sk-toggleable__control:checked~label.sk-toggleable__label {background-color: #d4ebff;}#sk-07e8a4ab-b70a-4638-bd31-8f29f1b2ec24 input.sk-hidden--visually {border: 0;clip: rect(1px 1px 1px 1px);clip: rect(1px, 1px, 1px, 1px);height: 1px;margin: -1px;overflow: hidden;padding: 0;position: absolute;width: 1px;}#sk-07e8a4ab-b70a-4638-bd31-8f29f1b2ec24 div.sk-estimator {font-family: monospace;background-color: #f0f8ff;border: 1px dotted black;border-radius: 0.25em;box-sizing: border-box;margin-bottom: 0.5em;}#sk-07e8a4ab-b70a-4638-bd31-8f29f1b2ec24 div.sk-estimator:hover {background-color: #d4ebff;}#sk-07e8a4ab-b70a-4638-bd31-8f29f1b2ec24 div.sk-parallel-item::after {content: \"\";width: 100%;border-bottom: 1px solid gray;flex-grow: 1;}#sk-07e8a4ab-b70a-4638-bd31-8f29f1b2ec24 div.sk-label:hover label.sk-toggleable__label {background-color: #d4ebff;}#sk-07e8a4ab-b70a-4638-bd31-8f29f1b2ec24 div.sk-serial::before {content: \"\";position: absolute;border-left: 1px solid gray;box-sizing: border-box;top: 2em;bottom: 0;left: 50%;}#sk-07e8a4ab-b70a-4638-bd31-8f29f1b2ec24 div.sk-serial {display: flex;flex-direction: column;align-items: center;background-color: white;padding-right: 0.2em;padding-left: 0.2em;}#sk-07e8a4ab-b70a-4638-bd31-8f29f1b2ec24 div.sk-item {z-index: 1;}#sk-07e8a4ab-b70a-4638-bd31-8f29f1b2ec24 div.sk-parallel {display: flex;align-items: stretch;justify-content: center;background-color: white;}#sk-07e8a4ab-b70a-4638-bd31-8f29f1b2ec24 div.sk-parallel::before {content: \"\";position: absolute;border-left: 1px solid gray;box-sizing: border-box;top: 2em;bottom: 0;left: 50%;}#sk-07e8a4ab-b70a-4638-bd31-8f29f1b2ec24 div.sk-parallel-item {display: flex;flex-direction: column;position: relative;background-color: white;}#sk-07e8a4ab-b70a-4638-bd31-8f29f1b2ec24 div.sk-parallel-item:first-child::after {align-self: flex-end;width: 50%;}#sk-07e8a4ab-b70a-4638-bd31-8f29f1b2ec24 div.sk-parallel-item:last-child::after {align-self: flex-start;width: 50%;}#sk-07e8a4ab-b70a-4638-bd31-8f29f1b2ec24 div.sk-parallel-item:only-child::after {width: 0;}#sk-07e8a4ab-b70a-4638-bd31-8f29f1b2ec24 div.sk-dashed-wrapped {border: 1px dashed gray;margin: 0 0.4em 0.5em 0.4em;box-sizing: border-box;padding-bottom: 0.4em;background-color: white;position: relative;}#sk-07e8a4ab-b70a-4638-bd31-8f29f1b2ec24 div.sk-label label {font-family: monospace;font-weight: bold;background-color: white;display: inline-block;line-height: 1.2em;}#sk-07e8a4ab-b70a-4638-bd31-8f29f1b2ec24 div.sk-label-container {position: relative;z-index: 2;text-align: center;}#sk-07e8a4ab-b70a-4638-bd31-8f29f1b2ec24 div.sk-container {/* jupyter's `normalize.less` sets `[hidden] { display: none; }` but bootstrap.min.css set `[hidden] { display: none !important; }` so we also need the `!important` here to be able to override the default hidden behavior on the sphinx rendered scikit-learn.org. See: https://github.com/scikit-learn/scikit-learn/issues/21755 */display: inline-block !important;position: relative;}#sk-07e8a4ab-b70a-4638-bd31-8f29f1b2ec24 div.sk-text-repr-fallback {display: none;}</style><div id=\"sk-07e8a4ab-b70a-4638-bd31-8f29f1b2ec24\" class=\"sk-top-container\"><div class=\"sk-text-repr-fallback\"><pre>Pipeline(steps=[(&#x27;columntransformer&#x27;,\n",
       "                 ColumnTransformer(transformers=[(&#x27;year_pipe&#x27;,\n",
       "                                                  Pipeline(steps=[(&#x27;transform_year&#x27;,\n",
       "                                                                   FunctionTransformer(func=&lt;function extract_year at 0x7f60647be3a0&gt;)),\n",
       "                                                                  (&#x27;scaler&#x27;,\n",
       "                                                                   MinMaxScaler())]),\n",
       "                                                  [&#x27;release_date&#x27;]),\n",
       "                                                 (&#x27;clusters_pipe&#x27;,\n",
       "                                                  Pipeline(steps=[(&#x27;kmeans&#x27;,\n",
       "                                                                   KMeans(n_clusters=5)),\n",
       "                                                                  (&#x27;transform_clusters&#x27;,\n",
       "                                                                   FunctionTransformer(func=&lt;function p...\n",
       "                                                  &lt;sklearn.compose._column_transformer.make_column_selector object at 0x7f604fd37400&gt;),\n",
       "                                                 (&#x27;artist_pipe&#x27;,\n",
       "                                                  Pipeline(steps=[(&#x27;ArtistPopularityTransform&#x27;,\n",
       "                                                                   ArtistPopularityTransformer()),\n",
       "                                                                  (&#x27;scaler&#x27;,\n",
       "                                                                   MinMaxScaler())]),\n",
       "                                                  [&#x27;artist&#x27;]),\n",
       "                                                 (&#x27;scaled_num&#x27;, MinMaxScaler(),\n",
       "                                                  &lt;sklearn.compose._column_transformer.make_column_selector object at 0x7f604fd37d90&gt;)])),\n",
       "                (&#x27;linearregression&#x27;, LinearRegression())])</pre><b>Please rerun this cell to show the HTML repr or trust the notebook.</b></div><div class=\"sk-container\" hidden><div class=\"sk-item sk-dashed-wrapped\"><div class=\"sk-label-container\"><div class=\"sk-label sk-toggleable\"><input class=\"sk-toggleable__control sk-hidden--visually\" id=\"b775586d-93e5-4a34-ba2a-9cebe02a233a\" type=\"checkbox\" ><label for=\"b775586d-93e5-4a34-ba2a-9cebe02a233a\" class=\"sk-toggleable__label sk-toggleable__label-arrow\">Pipeline</label><div class=\"sk-toggleable__content\"><pre>Pipeline(steps=[(&#x27;columntransformer&#x27;,\n",
       "                 ColumnTransformer(transformers=[(&#x27;year_pipe&#x27;,\n",
       "                                                  Pipeline(steps=[(&#x27;transform_year&#x27;,\n",
       "                                                                   FunctionTransformer(func=&lt;function extract_year at 0x7f60647be3a0&gt;)),\n",
       "                                                                  (&#x27;scaler&#x27;,\n",
       "                                                                   MinMaxScaler())]),\n",
       "                                                  [&#x27;release_date&#x27;]),\n",
       "                                                 (&#x27;clusters_pipe&#x27;,\n",
       "                                                  Pipeline(steps=[(&#x27;kmeans&#x27;,\n",
       "                                                                   KMeans(n_clusters=5)),\n",
       "                                                                  (&#x27;transform_clusters&#x27;,\n",
       "                                                                   FunctionTransformer(func=&lt;function p...\n",
       "                                                  &lt;sklearn.compose._column_transformer.make_column_selector object at 0x7f604fd37400&gt;),\n",
       "                                                 (&#x27;artist_pipe&#x27;,\n",
       "                                                  Pipeline(steps=[(&#x27;ArtistPopularityTransform&#x27;,\n",
       "                                                                   ArtistPopularityTransformer()),\n",
       "                                                                  (&#x27;scaler&#x27;,\n",
       "                                                                   MinMaxScaler())]),\n",
       "                                                  [&#x27;artist&#x27;]),\n",
       "                                                 (&#x27;scaled_num&#x27;, MinMaxScaler(),\n",
       "                                                  &lt;sklearn.compose._column_transformer.make_column_selector object at 0x7f604fd37d90&gt;)])),\n",
       "                (&#x27;linearregression&#x27;, LinearRegression())])</pre></div></div></div><div class=\"sk-serial\"><div class=\"sk-item sk-dashed-wrapped\"><div class=\"sk-label-container\"><div class=\"sk-label sk-toggleable\"><input class=\"sk-toggleable__control sk-hidden--visually\" id=\"0372eba8-eed8-44fc-9551-36b9fac40b68\" type=\"checkbox\" ><label for=\"0372eba8-eed8-44fc-9551-36b9fac40b68\" class=\"sk-toggleable__label sk-toggleable__label-arrow\">columntransformer: ColumnTransformer</label><div class=\"sk-toggleable__content\"><pre>ColumnTransformer(transformers=[(&#x27;year_pipe&#x27;,\n",
       "                                 Pipeline(steps=[(&#x27;transform_year&#x27;,\n",
       "                                                  FunctionTransformer(func=&lt;function extract_year at 0x7f60647be3a0&gt;)),\n",
       "                                                 (&#x27;scaler&#x27;, MinMaxScaler())]),\n",
       "                                 [&#x27;release_date&#x27;]),\n",
       "                                (&#x27;clusters_pipe&#x27;,\n",
       "                                 Pipeline(steps=[(&#x27;kmeans&#x27;,\n",
       "                                                  KMeans(n_clusters=5)),\n",
       "                                                 (&#x27;transform_clusters&#x27;,\n",
       "                                                  FunctionTransformer(func=&lt;function process_clusters at 0x7f6058391d30&gt;)),\n",
       "                                                 (&#x27;...\n",
       "                                                                handle_unknown=&#x27;ignore&#x27;,\n",
       "                                                                sparse=False))]),\n",
       "                                 &lt;sklearn.compose._column_transformer.make_column_selector object at 0x7f604fd37400&gt;),\n",
       "                                (&#x27;artist_pipe&#x27;,\n",
       "                                 Pipeline(steps=[(&#x27;ArtistPopularityTransform&#x27;,\n",
       "                                                  ArtistPopularityTransformer()),\n",
       "                                                 (&#x27;scaler&#x27;, MinMaxScaler())]),\n",
       "                                 [&#x27;artist&#x27;]),\n",
       "                                (&#x27;scaled_num&#x27;, MinMaxScaler(),\n",
       "                                 &lt;sklearn.compose._column_transformer.make_column_selector object at 0x7f604fd37d90&gt;)])</pre></div></div></div><div class=\"sk-parallel\"><div class=\"sk-parallel-item\"><div class=\"sk-item\"><div class=\"sk-label-container\"><div class=\"sk-label sk-toggleable\"><input class=\"sk-toggleable__control sk-hidden--visually\" id=\"d86fc93a-13dd-46b1-93c7-e1da64319688\" type=\"checkbox\" ><label for=\"d86fc93a-13dd-46b1-93c7-e1da64319688\" class=\"sk-toggleable__label sk-toggleable__label-arrow\">year_pipe</label><div class=\"sk-toggleable__content\"><pre>[&#x27;release_date&#x27;]</pre></div></div></div><div class=\"sk-serial\"><div class=\"sk-item\"><div class=\"sk-serial\"><div class=\"sk-item\"><div class=\"sk-estimator sk-toggleable\"><input class=\"sk-toggleable__control sk-hidden--visually\" id=\"a257d0ed-761f-4055-b4fe-41b8bf35609a\" type=\"checkbox\" ><label for=\"a257d0ed-761f-4055-b4fe-41b8bf35609a\" class=\"sk-toggleable__label sk-toggleable__label-arrow\">FunctionTransformer</label><div class=\"sk-toggleable__content\"><pre>FunctionTransformer(func=&lt;function extract_year at 0x7f60647be3a0&gt;)</pre></div></div></div><div class=\"sk-item\"><div class=\"sk-estimator sk-toggleable\"><input class=\"sk-toggleable__control sk-hidden--visually\" id=\"5d81cd76-efc1-4efa-87e8-16dba84712ff\" type=\"checkbox\" ><label for=\"5d81cd76-efc1-4efa-87e8-16dba84712ff\" class=\"sk-toggleable__label sk-toggleable__label-arrow\">MinMaxScaler</label><div class=\"sk-toggleable__content\"><pre>MinMaxScaler()</pre></div></div></div></div></div></div></div></div><div class=\"sk-parallel-item\"><div class=\"sk-item\"><div class=\"sk-label-container\"><div class=\"sk-label sk-toggleable\"><input class=\"sk-toggleable__control sk-hidden--visually\" id=\"eb5dcfd9-a733-4502-b3ed-06bb646faa67\" type=\"checkbox\" ><label for=\"eb5dcfd9-a733-4502-b3ed-06bb646faa67\" class=\"sk-toggleable__label sk-toggleable__label-arrow\">clusters_pipe</label><div class=\"sk-toggleable__content\"><pre>&lt;sklearn.compose._column_transformer.make_column_selector object at 0x7f604fd37400&gt;</pre></div></div></div><div class=\"sk-serial\"><div class=\"sk-item\"><div class=\"sk-serial\"><div class=\"sk-item\"><div class=\"sk-estimator sk-toggleable\"><input class=\"sk-toggleable__control sk-hidden--visually\" id=\"156362ab-ed02-417c-b3f8-fb9d41fd17ac\" type=\"checkbox\" ><label for=\"156362ab-ed02-417c-b3f8-fb9d41fd17ac\" class=\"sk-toggleable__label sk-toggleable__label-arrow\">KMeans</label><div class=\"sk-toggleable__content\"><pre>KMeans(n_clusters=5)</pre></div></div></div><div class=\"sk-item\"><div class=\"sk-estimator sk-toggleable\"><input class=\"sk-toggleable__control sk-hidden--visually\" id=\"00829e6c-efe1-48ab-8aaf-8b41f45aa0ea\" type=\"checkbox\" ><label for=\"00829e6c-efe1-48ab-8aaf-8b41f45aa0ea\" class=\"sk-toggleable__label sk-toggleable__label-arrow\">FunctionTransformer</label><div class=\"sk-toggleable__content\"><pre>FunctionTransformer(func=&lt;function process_clusters at 0x7f6058391d30&gt;)</pre></div></div></div><div class=\"sk-item\"><div class=\"sk-estimator sk-toggleable\"><input class=\"sk-toggleable__control sk-hidden--visually\" id=\"957e26c3-bfae-4303-8cc1-e145d038ccbc\" type=\"checkbox\" ><label for=\"957e26c3-bfae-4303-8cc1-e145d038ccbc\" class=\"sk-toggleable__label sk-toggleable__label-arrow\">OneHotEncoder</label><div class=\"sk-toggleable__content\"><pre>OneHotEncoder(drop=&#x27;first&#x27;, handle_unknown=&#x27;ignore&#x27;, sparse=False)</pre></div></div></div></div></div></div></div></div><div class=\"sk-parallel-item\"><div class=\"sk-item\"><div class=\"sk-label-container\"><div class=\"sk-label sk-toggleable\"><input class=\"sk-toggleable__control sk-hidden--visually\" id=\"9fa2769d-e530-4cc5-b9cb-e08345fa38ed\" type=\"checkbox\" ><label for=\"9fa2769d-e530-4cc5-b9cb-e08345fa38ed\" class=\"sk-toggleable__label sk-toggleable__label-arrow\">artist_pipe</label><div class=\"sk-toggleable__content\"><pre>[&#x27;artist&#x27;]</pre></div></div></div><div class=\"sk-serial\"><div class=\"sk-item\"><div class=\"sk-serial\"><div class=\"sk-item\"><div class=\"sk-estimator sk-toggleable\"><input class=\"sk-toggleable__control sk-hidden--visually\" id=\"3618d968-e624-481b-9ab2-7b1f9f9c32f6\" type=\"checkbox\" ><label for=\"3618d968-e624-481b-9ab2-7b1f9f9c32f6\" class=\"sk-toggleable__label sk-toggleable__label-arrow\">ArtistPopularityTransformer</label><div class=\"sk-toggleable__content\"><pre>ArtistPopularityTransformer()</pre></div></div></div><div class=\"sk-item\"><div class=\"sk-estimator sk-toggleable\"><input class=\"sk-toggleable__control sk-hidden--visually\" id=\"8d2e920a-fe5f-44ce-94c1-db7e34313375\" type=\"checkbox\" ><label for=\"8d2e920a-fe5f-44ce-94c1-db7e34313375\" class=\"sk-toggleable__label sk-toggleable__label-arrow\">MinMaxScaler</label><div class=\"sk-toggleable__content\"><pre>MinMaxScaler()</pre></div></div></div></div></div></div></div></div><div class=\"sk-parallel-item\"><div class=\"sk-item\"><div class=\"sk-label-container\"><div class=\"sk-label sk-toggleable\"><input class=\"sk-toggleable__control sk-hidden--visually\" id=\"820f247a-4a5f-4bed-9034-55a51d98de34\" type=\"checkbox\" ><label for=\"820f247a-4a5f-4bed-9034-55a51d98de34\" class=\"sk-toggleable__label sk-toggleable__label-arrow\">scaled_num</label><div class=\"sk-toggleable__content\"><pre>&lt;sklearn.compose._column_transformer.make_column_selector object at 0x7f604fd37d90&gt;</pre></div></div></div><div class=\"sk-serial\"><div class=\"sk-item\"><div class=\"sk-estimator sk-toggleable\"><input class=\"sk-toggleable__control sk-hidden--visually\" id=\"497ae721-39e9-49de-9543-88432c982db0\" type=\"checkbox\" ><label for=\"497ae721-39e9-49de-9543-88432c982db0\" class=\"sk-toggleable__label sk-toggleable__label-arrow\">MinMaxScaler</label><div class=\"sk-toggleable__content\"><pre>MinMaxScaler()</pre></div></div></div></div></div></div></div></div><div class=\"sk-item\"><div class=\"sk-estimator sk-toggleable\"><input class=\"sk-toggleable__control sk-hidden--visually\" id=\"f7805d35-8f71-46ff-9037-467f67f795bf\" type=\"checkbox\" ><label for=\"f7805d35-8f71-46ff-9037-467f67f795bf\" class=\"sk-toggleable__label sk-toggleable__label-arrow\">LinearRegression</label><div class=\"sk-toggleable__content\"><pre>LinearRegression()</pre></div></div></div></div></div></div></div>"
      ],
      "text/plain": [
       "Pipeline(steps=[('columntransformer',\n",
       "                 ColumnTransformer(transformers=[('year_pipe',\n",
       "                                                  Pipeline(steps=[('transform_year',\n",
       "                                                                   FunctionTransformer(func=<function extract_year at 0x7f60647be3a0>)),\n",
       "                                                                  ('scaler',\n",
       "                                                                   MinMaxScaler())]),\n",
       "                                                  ['release_date']),\n",
       "                                                 ('clusters_pipe',\n",
       "                                                  Pipeline(steps=[('kmeans',\n",
       "                                                                   KMeans(n_clusters=5)),\n",
       "                                                                  ('transform_clusters',\n",
       "                                                                   FunctionTransformer(func=<function p...\n",
       "                                                  <sklearn.compose._column_transformer.make_column_selector object at 0x7f604fd37400>),\n",
       "                                                 ('artist_pipe',\n",
       "                                                  Pipeline(steps=[('ArtistPopularityTransform',\n",
       "                                                                   ArtistPopularityTransformer()),\n",
       "                                                                  ('scaler',\n",
       "                                                                   MinMaxScaler())]),\n",
       "                                                  ['artist']),\n",
       "                                                 ('scaled_num', MinMaxScaler(),\n",
       "                                                  <sklearn.compose._column_transformer.make_column_selector object at 0x7f604fd37d90>)])),\n",
       "                ('linearregression', LinearRegression())])"
      ]
     },
     "execution_count": 201,
     "metadata": {},
     "output_type": "execute_result"
    }
   ],
   "source": [
    "# Lets'use the linear regression & the pipeline\n",
    "pipe_linear = make_pipeline(preproc_pipe, LinearRegression())\n",
    "pipe_linear"
   ]
  },
  {
   "cell_type": "code",
   "execution_count": 202,
   "id": "880ec708",
   "metadata": {
    "ExecuteTime": {
     "end_time": "2022-05-18T13:50:29.517405Z",
     "start_time": "2022-05-18T13:50:17.323682Z"
    }
   },
   "outputs": [
    {
     "data": {
      "text/plain": [
       "-13.493459190388762"
      ]
     },
     "execution_count": 202,
     "metadata": {},
     "output_type": "execute_result"
    }
   ],
   "source": [
    "# Cross val and score\n",
    "result_pipe_lin = cross_validate(pipe_linear, X, y, cv=5, scoring='neg_root_mean_squared_error', error_score='raise')\n",
    "score_pipe_lin = result_pipe_lin['test_score'].mean()\n",
    "score_pipe_lin"
   ]
  },
  {
   "cell_type": "markdown",
   "id": "d95860fd",
   "metadata": {},
   "source": [
    "**Our score is improved, and much beter than the baseline (baseline = -21)**"
   ]
  },
  {
   "cell_type": "markdown",
   "id": "33ddd714",
   "metadata": {},
   "source": [
    "## Ensemble Methods"
   ]
  },
  {
   "cell_type": "code",
   "execution_count": 203,
   "id": "77fc367b",
   "metadata": {
    "ExecuteTime": {
     "end_time": "2022-05-18T13:53:14.843697Z",
     "start_time": "2022-05-18T13:53:14.723737Z"
    }
   },
   "outputs": [
    {
     "data": {
      "text/html": [
       "<style>#sk-eb36ea3d-ffba-46e0-b3ba-61c1a6175d52 {color: black;background-color: white;}#sk-eb36ea3d-ffba-46e0-b3ba-61c1a6175d52 pre{padding: 0;}#sk-eb36ea3d-ffba-46e0-b3ba-61c1a6175d52 div.sk-toggleable {background-color: white;}#sk-eb36ea3d-ffba-46e0-b3ba-61c1a6175d52 label.sk-toggleable__label {cursor: pointer;display: block;width: 100%;margin-bottom: 0;padding: 0.3em;box-sizing: border-box;text-align: center;}#sk-eb36ea3d-ffba-46e0-b3ba-61c1a6175d52 label.sk-toggleable__label-arrow:before {content: \"▸\";float: left;margin-right: 0.25em;color: #696969;}#sk-eb36ea3d-ffba-46e0-b3ba-61c1a6175d52 label.sk-toggleable__label-arrow:hover:before {color: black;}#sk-eb36ea3d-ffba-46e0-b3ba-61c1a6175d52 div.sk-estimator:hover label.sk-toggleable__label-arrow:before {color: black;}#sk-eb36ea3d-ffba-46e0-b3ba-61c1a6175d52 div.sk-toggleable__content {max-height: 0;max-width: 0;overflow: hidden;text-align: left;background-color: #f0f8ff;}#sk-eb36ea3d-ffba-46e0-b3ba-61c1a6175d52 div.sk-toggleable__content pre {margin: 0.2em;color: black;border-radius: 0.25em;background-color: #f0f8ff;}#sk-eb36ea3d-ffba-46e0-b3ba-61c1a6175d52 input.sk-toggleable__control:checked~div.sk-toggleable__content {max-height: 200px;max-width: 100%;overflow: auto;}#sk-eb36ea3d-ffba-46e0-b3ba-61c1a6175d52 input.sk-toggleable__control:checked~label.sk-toggleable__label-arrow:before {content: \"▾\";}#sk-eb36ea3d-ffba-46e0-b3ba-61c1a6175d52 div.sk-estimator input.sk-toggleable__control:checked~label.sk-toggleable__label {background-color: #d4ebff;}#sk-eb36ea3d-ffba-46e0-b3ba-61c1a6175d52 div.sk-label input.sk-toggleable__control:checked~label.sk-toggleable__label {background-color: #d4ebff;}#sk-eb36ea3d-ffba-46e0-b3ba-61c1a6175d52 input.sk-hidden--visually {border: 0;clip: rect(1px 1px 1px 1px);clip: rect(1px, 1px, 1px, 1px);height: 1px;margin: -1px;overflow: hidden;padding: 0;position: absolute;width: 1px;}#sk-eb36ea3d-ffba-46e0-b3ba-61c1a6175d52 div.sk-estimator {font-family: monospace;background-color: #f0f8ff;border: 1px dotted black;border-radius: 0.25em;box-sizing: border-box;margin-bottom: 0.5em;}#sk-eb36ea3d-ffba-46e0-b3ba-61c1a6175d52 div.sk-estimator:hover {background-color: #d4ebff;}#sk-eb36ea3d-ffba-46e0-b3ba-61c1a6175d52 div.sk-parallel-item::after {content: \"\";width: 100%;border-bottom: 1px solid gray;flex-grow: 1;}#sk-eb36ea3d-ffba-46e0-b3ba-61c1a6175d52 div.sk-label:hover label.sk-toggleable__label {background-color: #d4ebff;}#sk-eb36ea3d-ffba-46e0-b3ba-61c1a6175d52 div.sk-serial::before {content: \"\";position: absolute;border-left: 1px solid gray;box-sizing: border-box;top: 2em;bottom: 0;left: 50%;}#sk-eb36ea3d-ffba-46e0-b3ba-61c1a6175d52 div.sk-serial {display: flex;flex-direction: column;align-items: center;background-color: white;padding-right: 0.2em;padding-left: 0.2em;}#sk-eb36ea3d-ffba-46e0-b3ba-61c1a6175d52 div.sk-item {z-index: 1;}#sk-eb36ea3d-ffba-46e0-b3ba-61c1a6175d52 div.sk-parallel {display: flex;align-items: stretch;justify-content: center;background-color: white;}#sk-eb36ea3d-ffba-46e0-b3ba-61c1a6175d52 div.sk-parallel::before {content: \"\";position: absolute;border-left: 1px solid gray;box-sizing: border-box;top: 2em;bottom: 0;left: 50%;}#sk-eb36ea3d-ffba-46e0-b3ba-61c1a6175d52 div.sk-parallel-item {display: flex;flex-direction: column;position: relative;background-color: white;}#sk-eb36ea3d-ffba-46e0-b3ba-61c1a6175d52 div.sk-parallel-item:first-child::after {align-self: flex-end;width: 50%;}#sk-eb36ea3d-ffba-46e0-b3ba-61c1a6175d52 div.sk-parallel-item:last-child::after {align-self: flex-start;width: 50%;}#sk-eb36ea3d-ffba-46e0-b3ba-61c1a6175d52 div.sk-parallel-item:only-child::after {width: 0;}#sk-eb36ea3d-ffba-46e0-b3ba-61c1a6175d52 div.sk-dashed-wrapped {border: 1px dashed gray;margin: 0 0.4em 0.5em 0.4em;box-sizing: border-box;padding-bottom: 0.4em;background-color: white;position: relative;}#sk-eb36ea3d-ffba-46e0-b3ba-61c1a6175d52 div.sk-label label {font-family: monospace;font-weight: bold;background-color: white;display: inline-block;line-height: 1.2em;}#sk-eb36ea3d-ffba-46e0-b3ba-61c1a6175d52 div.sk-label-container {position: relative;z-index: 2;text-align: center;}#sk-eb36ea3d-ffba-46e0-b3ba-61c1a6175d52 div.sk-container {/* jupyter's `normalize.less` sets `[hidden] { display: none; }` but bootstrap.min.css set `[hidden] { display: none !important; }` so we also need the `!important` here to be able to override the default hidden behavior on the sphinx rendered scikit-learn.org. See: https://github.com/scikit-learn/scikit-learn/issues/21755 */display: inline-block !important;position: relative;}#sk-eb36ea3d-ffba-46e0-b3ba-61c1a6175d52 div.sk-text-repr-fallback {display: none;}</style><div id=\"sk-eb36ea3d-ffba-46e0-b3ba-61c1a6175d52\" class=\"sk-top-container\"><div class=\"sk-text-repr-fallback\"><pre>Pipeline(steps=[(&#x27;columntransformer&#x27;,\n",
       "                 ColumnTransformer(transformers=[(&#x27;year_pipe&#x27;,\n",
       "                                                  Pipeline(steps=[(&#x27;transform_year&#x27;,\n",
       "                                                                   FunctionTransformer(func=&lt;function extract_year at 0x7f60647be3a0&gt;)),\n",
       "                                                                  (&#x27;scaler&#x27;,\n",
       "                                                                   MinMaxScaler())]),\n",
       "                                                  [&#x27;release_date&#x27;]),\n",
       "                                                 (&#x27;clusters_pipe&#x27;,\n",
       "                                                  Pipeline(steps=[(&#x27;kmeans&#x27;,\n",
       "                                                                   KMeans(n_clusters=5)),\n",
       "                                                                  (&#x27;transform_clusters&#x27;,\n",
       "                                                                   FunctionTransformer(func=&lt;function p...\n",
       "                                                  &lt;sklearn.compose._column_transformer.make_column_selector object at 0x7f604fd37400&gt;),\n",
       "                                                 (&#x27;artist_pipe&#x27;,\n",
       "                                                  Pipeline(steps=[(&#x27;ArtistPopularityTransform&#x27;,\n",
       "                                                                   ArtistPopularityTransformer()),\n",
       "                                                                  (&#x27;scaler&#x27;,\n",
       "                                                                   MinMaxScaler())]),\n",
       "                                                  [&#x27;artist&#x27;]),\n",
       "                                                 (&#x27;scaled_num&#x27;, MinMaxScaler(),\n",
       "                                                  &lt;sklearn.compose._column_transformer.make_column_selector object at 0x7f604fd37d90&gt;)])),\n",
       "                (&#x27;randomforestregressor&#x27;, RandomForestRegressor())])</pre><b>Please rerun this cell to show the HTML repr or trust the notebook.</b></div><div class=\"sk-container\" hidden><div class=\"sk-item sk-dashed-wrapped\"><div class=\"sk-label-container\"><div class=\"sk-label sk-toggleable\"><input class=\"sk-toggleable__control sk-hidden--visually\" id=\"23b76896-66f0-4935-a54c-27698f049c93\" type=\"checkbox\" ><label for=\"23b76896-66f0-4935-a54c-27698f049c93\" class=\"sk-toggleable__label sk-toggleable__label-arrow\">Pipeline</label><div class=\"sk-toggleable__content\"><pre>Pipeline(steps=[(&#x27;columntransformer&#x27;,\n",
       "                 ColumnTransformer(transformers=[(&#x27;year_pipe&#x27;,\n",
       "                                                  Pipeline(steps=[(&#x27;transform_year&#x27;,\n",
       "                                                                   FunctionTransformer(func=&lt;function extract_year at 0x7f60647be3a0&gt;)),\n",
       "                                                                  (&#x27;scaler&#x27;,\n",
       "                                                                   MinMaxScaler())]),\n",
       "                                                  [&#x27;release_date&#x27;]),\n",
       "                                                 (&#x27;clusters_pipe&#x27;,\n",
       "                                                  Pipeline(steps=[(&#x27;kmeans&#x27;,\n",
       "                                                                   KMeans(n_clusters=5)),\n",
       "                                                                  (&#x27;transform_clusters&#x27;,\n",
       "                                                                   FunctionTransformer(func=&lt;function p...\n",
       "                                                  &lt;sklearn.compose._column_transformer.make_column_selector object at 0x7f604fd37400&gt;),\n",
       "                                                 (&#x27;artist_pipe&#x27;,\n",
       "                                                  Pipeline(steps=[(&#x27;ArtistPopularityTransform&#x27;,\n",
       "                                                                   ArtistPopularityTransformer()),\n",
       "                                                                  (&#x27;scaler&#x27;,\n",
       "                                                                   MinMaxScaler())]),\n",
       "                                                  [&#x27;artist&#x27;]),\n",
       "                                                 (&#x27;scaled_num&#x27;, MinMaxScaler(),\n",
       "                                                  &lt;sklearn.compose._column_transformer.make_column_selector object at 0x7f604fd37d90&gt;)])),\n",
       "                (&#x27;randomforestregressor&#x27;, RandomForestRegressor())])</pre></div></div></div><div class=\"sk-serial\"><div class=\"sk-item sk-dashed-wrapped\"><div class=\"sk-label-container\"><div class=\"sk-label sk-toggleable\"><input class=\"sk-toggleable__control sk-hidden--visually\" id=\"25ef506f-52e3-4271-aa52-5ea3e9dd695c\" type=\"checkbox\" ><label for=\"25ef506f-52e3-4271-aa52-5ea3e9dd695c\" class=\"sk-toggleable__label sk-toggleable__label-arrow\">columntransformer: ColumnTransformer</label><div class=\"sk-toggleable__content\"><pre>ColumnTransformer(transformers=[(&#x27;year_pipe&#x27;,\n",
       "                                 Pipeline(steps=[(&#x27;transform_year&#x27;,\n",
       "                                                  FunctionTransformer(func=&lt;function extract_year at 0x7f60647be3a0&gt;)),\n",
       "                                                 (&#x27;scaler&#x27;, MinMaxScaler())]),\n",
       "                                 [&#x27;release_date&#x27;]),\n",
       "                                (&#x27;clusters_pipe&#x27;,\n",
       "                                 Pipeline(steps=[(&#x27;kmeans&#x27;,\n",
       "                                                  KMeans(n_clusters=5)),\n",
       "                                                 (&#x27;transform_clusters&#x27;,\n",
       "                                                  FunctionTransformer(func=&lt;function process_clusters at 0x7f6058391d30&gt;)),\n",
       "                                                 (&#x27;...\n",
       "                                                                handle_unknown=&#x27;ignore&#x27;,\n",
       "                                                                sparse=False))]),\n",
       "                                 &lt;sklearn.compose._column_transformer.make_column_selector object at 0x7f604fd37400&gt;),\n",
       "                                (&#x27;artist_pipe&#x27;,\n",
       "                                 Pipeline(steps=[(&#x27;ArtistPopularityTransform&#x27;,\n",
       "                                                  ArtistPopularityTransformer()),\n",
       "                                                 (&#x27;scaler&#x27;, MinMaxScaler())]),\n",
       "                                 [&#x27;artist&#x27;]),\n",
       "                                (&#x27;scaled_num&#x27;, MinMaxScaler(),\n",
       "                                 &lt;sklearn.compose._column_transformer.make_column_selector object at 0x7f604fd37d90&gt;)])</pre></div></div></div><div class=\"sk-parallel\"><div class=\"sk-parallel-item\"><div class=\"sk-item\"><div class=\"sk-label-container\"><div class=\"sk-label sk-toggleable\"><input class=\"sk-toggleable__control sk-hidden--visually\" id=\"141e2369-7d9c-45aa-9f68-643ad38ce6e7\" type=\"checkbox\" ><label for=\"141e2369-7d9c-45aa-9f68-643ad38ce6e7\" class=\"sk-toggleable__label sk-toggleable__label-arrow\">year_pipe</label><div class=\"sk-toggleable__content\"><pre>[&#x27;release_date&#x27;]</pre></div></div></div><div class=\"sk-serial\"><div class=\"sk-item\"><div class=\"sk-serial\"><div class=\"sk-item\"><div class=\"sk-estimator sk-toggleable\"><input class=\"sk-toggleable__control sk-hidden--visually\" id=\"4bf8ceac-89ae-4d44-9f4c-6ba66f44aee1\" type=\"checkbox\" ><label for=\"4bf8ceac-89ae-4d44-9f4c-6ba66f44aee1\" class=\"sk-toggleable__label sk-toggleable__label-arrow\">FunctionTransformer</label><div class=\"sk-toggleable__content\"><pre>FunctionTransformer(func=&lt;function extract_year at 0x7f60647be3a0&gt;)</pre></div></div></div><div class=\"sk-item\"><div class=\"sk-estimator sk-toggleable\"><input class=\"sk-toggleable__control sk-hidden--visually\" id=\"7305bb67-789d-46f9-b84a-96f0f0e265bb\" type=\"checkbox\" ><label for=\"7305bb67-789d-46f9-b84a-96f0f0e265bb\" class=\"sk-toggleable__label sk-toggleable__label-arrow\">MinMaxScaler</label><div class=\"sk-toggleable__content\"><pre>MinMaxScaler()</pre></div></div></div></div></div></div></div></div><div class=\"sk-parallel-item\"><div class=\"sk-item\"><div class=\"sk-label-container\"><div class=\"sk-label sk-toggleable\"><input class=\"sk-toggleable__control sk-hidden--visually\" id=\"39f6f45e-cdb6-4680-8d65-471f30460a27\" type=\"checkbox\" ><label for=\"39f6f45e-cdb6-4680-8d65-471f30460a27\" class=\"sk-toggleable__label sk-toggleable__label-arrow\">clusters_pipe</label><div class=\"sk-toggleable__content\"><pre>&lt;sklearn.compose._column_transformer.make_column_selector object at 0x7f604fd37400&gt;</pre></div></div></div><div class=\"sk-serial\"><div class=\"sk-item\"><div class=\"sk-serial\"><div class=\"sk-item\"><div class=\"sk-estimator sk-toggleable\"><input class=\"sk-toggleable__control sk-hidden--visually\" id=\"360e7725-fd43-4fb3-8c8c-d3fcb56f1a17\" type=\"checkbox\" ><label for=\"360e7725-fd43-4fb3-8c8c-d3fcb56f1a17\" class=\"sk-toggleable__label sk-toggleable__label-arrow\">KMeans</label><div class=\"sk-toggleable__content\"><pre>KMeans(n_clusters=5)</pre></div></div></div><div class=\"sk-item\"><div class=\"sk-estimator sk-toggleable\"><input class=\"sk-toggleable__control sk-hidden--visually\" id=\"ac4e851d-84fe-448f-b78b-51ea11b361e7\" type=\"checkbox\" ><label for=\"ac4e851d-84fe-448f-b78b-51ea11b361e7\" class=\"sk-toggleable__label sk-toggleable__label-arrow\">FunctionTransformer</label><div class=\"sk-toggleable__content\"><pre>FunctionTransformer(func=&lt;function process_clusters at 0x7f6058391d30&gt;)</pre></div></div></div><div class=\"sk-item\"><div class=\"sk-estimator sk-toggleable\"><input class=\"sk-toggleable__control sk-hidden--visually\" id=\"52e1d2d6-af25-4072-aa73-bc76ea948a5a\" type=\"checkbox\" ><label for=\"52e1d2d6-af25-4072-aa73-bc76ea948a5a\" class=\"sk-toggleable__label sk-toggleable__label-arrow\">OneHotEncoder</label><div class=\"sk-toggleable__content\"><pre>OneHotEncoder(drop=&#x27;first&#x27;, handle_unknown=&#x27;ignore&#x27;, sparse=False)</pre></div></div></div></div></div></div></div></div><div class=\"sk-parallel-item\"><div class=\"sk-item\"><div class=\"sk-label-container\"><div class=\"sk-label sk-toggleable\"><input class=\"sk-toggleable__control sk-hidden--visually\" id=\"2a4018fb-677f-45b4-b6c6-bb9778fcf47a\" type=\"checkbox\" ><label for=\"2a4018fb-677f-45b4-b6c6-bb9778fcf47a\" class=\"sk-toggleable__label sk-toggleable__label-arrow\">artist_pipe</label><div class=\"sk-toggleable__content\"><pre>[&#x27;artist&#x27;]</pre></div></div></div><div class=\"sk-serial\"><div class=\"sk-item\"><div class=\"sk-serial\"><div class=\"sk-item\"><div class=\"sk-estimator sk-toggleable\"><input class=\"sk-toggleable__control sk-hidden--visually\" id=\"5feb3d52-e044-41cc-bea2-b0108ec9fdf2\" type=\"checkbox\" ><label for=\"5feb3d52-e044-41cc-bea2-b0108ec9fdf2\" class=\"sk-toggleable__label sk-toggleable__label-arrow\">ArtistPopularityTransformer</label><div class=\"sk-toggleable__content\"><pre>ArtistPopularityTransformer()</pre></div></div></div><div class=\"sk-item\"><div class=\"sk-estimator sk-toggleable\"><input class=\"sk-toggleable__control sk-hidden--visually\" id=\"7bdf53f8-7431-49f7-9f30-d024ea4cb065\" type=\"checkbox\" ><label for=\"7bdf53f8-7431-49f7-9f30-d024ea4cb065\" class=\"sk-toggleable__label sk-toggleable__label-arrow\">MinMaxScaler</label><div class=\"sk-toggleable__content\"><pre>MinMaxScaler()</pre></div></div></div></div></div></div></div></div><div class=\"sk-parallel-item\"><div class=\"sk-item\"><div class=\"sk-label-container\"><div class=\"sk-label sk-toggleable\"><input class=\"sk-toggleable__control sk-hidden--visually\" id=\"b6d90045-9836-49a8-a0cb-f1e820172e8e\" type=\"checkbox\" ><label for=\"b6d90045-9836-49a8-a0cb-f1e820172e8e\" class=\"sk-toggleable__label sk-toggleable__label-arrow\">scaled_num</label><div class=\"sk-toggleable__content\"><pre>&lt;sklearn.compose._column_transformer.make_column_selector object at 0x7f604fd37d90&gt;</pre></div></div></div><div class=\"sk-serial\"><div class=\"sk-item\"><div class=\"sk-estimator sk-toggleable\"><input class=\"sk-toggleable__control sk-hidden--visually\" id=\"8e7664bb-c197-4c15-9ce6-c3172c4f6441\" type=\"checkbox\" ><label for=\"8e7664bb-c197-4c15-9ce6-c3172c4f6441\" class=\"sk-toggleable__label sk-toggleable__label-arrow\">MinMaxScaler</label><div class=\"sk-toggleable__content\"><pre>MinMaxScaler()</pre></div></div></div></div></div></div></div></div><div class=\"sk-item\"><div class=\"sk-estimator sk-toggleable\"><input class=\"sk-toggleable__control sk-hidden--visually\" id=\"3f7510d7-2306-4e97-bdd6-f13e90a9bc07\" type=\"checkbox\" ><label for=\"3f7510d7-2306-4e97-bdd6-f13e90a9bc07\" class=\"sk-toggleable__label sk-toggleable__label-arrow\">RandomForestRegressor</label><div class=\"sk-toggleable__content\"><pre>RandomForestRegressor()</pre></div></div></div></div></div></div></div>"
      ],
      "text/plain": [
       "Pipeline(steps=[('columntransformer',\n",
       "                 ColumnTransformer(transformers=[('year_pipe',\n",
       "                                                  Pipeline(steps=[('transform_year',\n",
       "                                                                   FunctionTransformer(func=<function extract_year at 0x7f60647be3a0>)),\n",
       "                                                                  ('scaler',\n",
       "                                                                   MinMaxScaler())]),\n",
       "                                                  ['release_date']),\n",
       "                                                 ('clusters_pipe',\n",
       "                                                  Pipeline(steps=[('kmeans',\n",
       "                                                                   KMeans(n_clusters=5)),\n",
       "                                                                  ('transform_clusters',\n",
       "                                                                   FunctionTransformer(func=<function p...\n",
       "                                                  <sklearn.compose._column_transformer.make_column_selector object at 0x7f604fd37400>),\n",
       "                                                 ('artist_pipe',\n",
       "                                                  Pipeline(steps=[('ArtistPopularityTransform',\n",
       "                                                                   ArtistPopularityTransformer()),\n",
       "                                                                  ('scaler',\n",
       "                                                                   MinMaxScaler())]),\n",
       "                                                  ['artist']),\n",
       "                                                 ('scaled_num', MinMaxScaler(),\n",
       "                                                  <sklearn.compose._column_transformer.make_column_selector object at 0x7f604fd37d90>)])),\n",
       "                ('randomforestregressor', RandomForestRegressor())])"
      ]
     },
     "execution_count": 203,
     "metadata": {},
     "output_type": "execute_result"
    }
   ],
   "source": [
    "# Let's try an ensemble method : i choose the Random Forest Regressor\n",
    "pipe_ensemble = make_pipeline(preproc_pipe, RandomForestRegressor())\n",
    "pipe_ensemble"
   ]
  },
  {
   "cell_type": "code",
   "execution_count": 204,
   "id": "9a3e391d",
   "metadata": {
    "ExecuteTime": {
     "end_time": "2022-05-18T13:57:05.932270Z",
     "start_time": "2022-05-18T13:54:02.455149Z"
    }
   },
   "outputs": [
    {
     "data": {
      "text/plain": [
       "-12.002235704659565"
      ]
     },
     "execution_count": 204,
     "metadata": {},
     "output_type": "execute_result"
    }
   ],
   "source": [
    "# Cross val and score\n",
    "result_pipe_ens = cross_validate(pipe_ensemble, X, y, cv=5, scoring='neg_root_mean_squared_error', error_score='raise')\n",
    "score_pipe_ens = result_pipe_ens['test_score'].mean()\n",
    "score_pipe_ens"
   ]
  },
  {
   "cell_type": "markdown",
   "id": "98a6c4e4",
   "metadata": {},
   "source": [
    "**The score is even better with the Random Forest Regressor !**"
   ]
  },
  {
   "cell_type": "markdown",
   "id": "219b3202",
   "metadata": {},
   "source": [
    "# Fine-tuning"
   ]
  },
  {
   "cell_type": "code",
   "execution_count": 205,
   "id": "e84cbef1",
   "metadata": {
    "ExecuteTime": {
     "end_time": "2022-05-18T13:59:53.986493Z",
     "start_time": "2022-05-18T13:59:53.929996Z"
    }
   },
   "outputs": [
    {
     "data": {
      "text/plain": [
       "{'memory': None,\n",
       " 'steps': [('columntransformer',\n",
       "   ColumnTransformer(transformers=[('year_pipe',\n",
       "                                    Pipeline(steps=[('transform_year',\n",
       "                                                     FunctionTransformer(func=<function extract_year at 0x7f60647be3a0>)),\n",
       "                                                    ('scaler', MinMaxScaler())]),\n",
       "                                    ['release_date']),\n",
       "                                   ('clusters_pipe',\n",
       "                                    Pipeline(steps=[('kmeans',\n",
       "                                                     KMeans(n_clusters=5)),\n",
       "                                                    ('transform_clusters',\n",
       "                                                     FunctionTransformer(func=<function process_clusters at 0x7f6058391d30>)),\n",
       "                                                    ('...\n",
       "                                                                   handle_unknown='ignore',\n",
       "                                                                   sparse=False))]),\n",
       "                                    <sklearn.compose._column_transformer.make_column_selector object at 0x7f604fd37400>),\n",
       "                                   ('artist_pipe',\n",
       "                                    Pipeline(steps=[('ArtistPopularityTransform',\n",
       "                                                     ArtistPopularityTransformer()),\n",
       "                                                    ('scaler', MinMaxScaler())]),\n",
       "                                    ['artist']),\n",
       "                                   ('scaled_num', MinMaxScaler(),\n",
       "                                    <sklearn.compose._column_transformer.make_column_selector object at 0x7f604fd37d90>)])),\n",
       "  ('randomforestregressor', RandomForestRegressor())],\n",
       " 'verbose': False,\n",
       " 'columntransformer': ColumnTransformer(transformers=[('year_pipe',\n",
       "                                  Pipeline(steps=[('transform_year',\n",
       "                                                   FunctionTransformer(func=<function extract_year at 0x7f60647be3a0>)),\n",
       "                                                  ('scaler', MinMaxScaler())]),\n",
       "                                  ['release_date']),\n",
       "                                 ('clusters_pipe',\n",
       "                                  Pipeline(steps=[('kmeans',\n",
       "                                                   KMeans(n_clusters=5)),\n",
       "                                                  ('transform_clusters',\n",
       "                                                   FunctionTransformer(func=<function process_clusters at 0x7f6058391d30>)),\n",
       "                                                  ('...\n",
       "                                                                 handle_unknown='ignore',\n",
       "                                                                 sparse=False))]),\n",
       "                                  <sklearn.compose._column_transformer.make_column_selector object at 0x7f604fd37400>),\n",
       "                                 ('artist_pipe',\n",
       "                                  Pipeline(steps=[('ArtistPopularityTransform',\n",
       "                                                   ArtistPopularityTransformer()),\n",
       "                                                  ('scaler', MinMaxScaler())]),\n",
       "                                  ['artist']),\n",
       "                                 ('scaled_num', MinMaxScaler(),\n",
       "                                  <sklearn.compose._column_transformer.make_column_selector object at 0x7f604fd37d90>)]),\n",
       " 'randomforestregressor': RandomForestRegressor(),\n",
       " 'columntransformer__n_jobs': None,\n",
       " 'columntransformer__remainder': 'drop',\n",
       " 'columntransformer__sparse_threshold': 0.3,\n",
       " 'columntransformer__transformer_weights': None,\n",
       " 'columntransformer__transformers': [('year_pipe',\n",
       "   Pipeline(steps=[('transform_year',\n",
       "                    FunctionTransformer(func=<function extract_year at 0x7f60647be3a0>)),\n",
       "                   ('scaler', MinMaxScaler())]),\n",
       "   ['release_date']),\n",
       "  ('clusters_pipe',\n",
       "   Pipeline(steps=[('kmeans', KMeans(n_clusters=5)),\n",
       "                   ('transform_clusters',\n",
       "                    FunctionTransformer(func=<function process_clusters at 0x7f6058391d30>)),\n",
       "                   ('encoderOHE',\n",
       "                    OneHotEncoder(drop='first', handle_unknown='ignore',\n",
       "                                  sparse=False))]),\n",
       "   <sklearn.compose._column_transformer.make_column_selector at 0x7f604fd37400>),\n",
       "  ('artist_pipe',\n",
       "   Pipeline(steps=[('ArtistPopularityTransform', ArtistPopularityTransformer()),\n",
       "                   ('scaler', MinMaxScaler())]),\n",
       "   ['artist']),\n",
       "  ('scaled_num',\n",
       "   MinMaxScaler(),\n",
       "   <sklearn.compose._column_transformer.make_column_selector at 0x7f604fd37d90>)],\n",
       " 'columntransformer__verbose': False,\n",
       " 'columntransformer__verbose_feature_names_out': True,\n",
       " 'columntransformer__year_pipe': Pipeline(steps=[('transform_year',\n",
       "                  FunctionTransformer(func=<function extract_year at 0x7f60647be3a0>)),\n",
       "                 ('scaler', MinMaxScaler())]),\n",
       " 'columntransformer__clusters_pipe': Pipeline(steps=[('kmeans', KMeans(n_clusters=5)),\n",
       "                 ('transform_clusters',\n",
       "                  FunctionTransformer(func=<function process_clusters at 0x7f6058391d30>)),\n",
       "                 ('encoderOHE',\n",
       "                  OneHotEncoder(drop='first', handle_unknown='ignore',\n",
       "                                sparse=False))]),\n",
       " 'columntransformer__artist_pipe': Pipeline(steps=[('ArtistPopularityTransform', ArtistPopularityTransformer()),\n",
       "                 ('scaler', MinMaxScaler())]),\n",
       " 'columntransformer__scaled_num': MinMaxScaler(),\n",
       " 'columntransformer__year_pipe__memory': None,\n",
       " 'columntransformer__year_pipe__steps': [('transform_year',\n",
       "   FunctionTransformer(func=<function extract_year at 0x7f60647be3a0>)),\n",
       "  ('scaler', MinMaxScaler())],\n",
       " 'columntransformer__year_pipe__verbose': False,\n",
       " 'columntransformer__year_pipe__transform_year': FunctionTransformer(func=<function extract_year at 0x7f60647be3a0>),\n",
       " 'columntransformer__year_pipe__scaler': MinMaxScaler(),\n",
       " 'columntransformer__year_pipe__transform_year__accept_sparse': False,\n",
       " 'columntransformer__year_pipe__transform_year__check_inverse': True,\n",
       " 'columntransformer__year_pipe__transform_year__func': <function __main__.extract_year(df)>,\n",
       " 'columntransformer__year_pipe__transform_year__inv_kw_args': None,\n",
       " 'columntransformer__year_pipe__transform_year__inverse_func': None,\n",
       " 'columntransformer__year_pipe__transform_year__kw_args': None,\n",
       " 'columntransformer__year_pipe__transform_year__validate': False,\n",
       " 'columntransformer__year_pipe__scaler__clip': False,\n",
       " 'columntransformer__year_pipe__scaler__copy': True,\n",
       " 'columntransformer__year_pipe__scaler__feature_range': (0, 1),\n",
       " 'columntransformer__clusters_pipe__memory': None,\n",
       " 'columntransformer__clusters_pipe__steps': [('kmeans', KMeans(n_clusters=5)),\n",
       "  ('transform_clusters',\n",
       "   FunctionTransformer(func=<function process_clusters at 0x7f6058391d30>)),\n",
       "  ('encoderOHE',\n",
       "   OneHotEncoder(drop='first', handle_unknown='ignore', sparse=False))],\n",
       " 'columntransformer__clusters_pipe__verbose': False,\n",
       " 'columntransformer__clusters_pipe__kmeans': KMeans(n_clusters=5),\n",
       " 'columntransformer__clusters_pipe__transform_clusters': FunctionTransformer(func=<function process_clusters at 0x7f6058391d30>),\n",
       " 'columntransformer__clusters_pipe__encoderOHE': OneHotEncoder(drop='first', handle_unknown='ignore', sparse=False),\n",
       " 'columntransformer__clusters_pipe__kmeans__algorithm': 'auto',\n",
       " 'columntransformer__clusters_pipe__kmeans__copy_x': True,\n",
       " 'columntransformer__clusters_pipe__kmeans__init': 'k-means++',\n",
       " 'columntransformer__clusters_pipe__kmeans__max_iter': 300,\n",
       " 'columntransformer__clusters_pipe__kmeans__n_clusters': 5,\n",
       " 'columntransformer__clusters_pipe__kmeans__n_init': 10,\n",
       " 'columntransformer__clusters_pipe__kmeans__random_state': None,\n",
       " 'columntransformer__clusters_pipe__kmeans__tol': 0.0001,\n",
       " 'columntransformer__clusters_pipe__kmeans__verbose': 0,\n",
       " 'columntransformer__clusters_pipe__transform_clusters__accept_sparse': False,\n",
       " 'columntransformer__clusters_pipe__transform_clusters__check_inverse': True,\n",
       " 'columntransformer__clusters_pipe__transform_clusters__func': <function __main__.process_clusters(clusters)>,\n",
       " 'columntransformer__clusters_pipe__transform_clusters__inv_kw_args': None,\n",
       " 'columntransformer__clusters_pipe__transform_clusters__inverse_func': None,\n",
       " 'columntransformer__clusters_pipe__transform_clusters__kw_args': None,\n",
       " 'columntransformer__clusters_pipe__transform_clusters__validate': False,\n",
       " 'columntransformer__clusters_pipe__encoderOHE__categories': 'auto',\n",
       " 'columntransformer__clusters_pipe__encoderOHE__drop': 'first',\n",
       " 'columntransformer__clusters_pipe__encoderOHE__dtype': numpy.float64,\n",
       " 'columntransformer__clusters_pipe__encoderOHE__handle_unknown': 'ignore',\n",
       " 'columntransformer__clusters_pipe__encoderOHE__sparse': False,\n",
       " 'columntransformer__artist_pipe__memory': None,\n",
       " 'columntransformer__artist_pipe__steps': [('ArtistPopularityTransform',\n",
       "   ArtistPopularityTransformer()),\n",
       "  ('scaler', MinMaxScaler())],\n",
       " 'columntransformer__artist_pipe__verbose': False,\n",
       " 'columntransformer__artist_pipe__ArtistPopularityTransform': ArtistPopularityTransformer(),\n",
       " 'columntransformer__artist_pipe__scaler': MinMaxScaler(),\n",
       " 'columntransformer__artist_pipe__scaler__clip': False,\n",
       " 'columntransformer__artist_pipe__scaler__copy': True,\n",
       " 'columntransformer__artist_pipe__scaler__feature_range': (0, 1),\n",
       " 'columntransformer__scaled_num__clip': False,\n",
       " 'columntransformer__scaled_num__copy': True,\n",
       " 'columntransformer__scaled_num__feature_range': (0, 1),\n",
       " 'randomforestregressor__bootstrap': True,\n",
       " 'randomforestregressor__ccp_alpha': 0.0,\n",
       " 'randomforestregressor__criterion': 'squared_error',\n",
       " 'randomforestregressor__max_depth': None,\n",
       " 'randomforestregressor__max_features': 'auto',\n",
       " 'randomforestregressor__max_leaf_nodes': None,\n",
       " 'randomforestregressor__max_samples': None,\n",
       " 'randomforestregressor__min_impurity_decrease': 0.0,\n",
       " 'randomforestregressor__min_samples_leaf': 1,\n",
       " 'randomforestregressor__min_samples_split': 2,\n",
       " 'randomforestregressor__min_weight_fraction_leaf': 0.0,\n",
       " 'randomforestregressor__n_estimators': 100,\n",
       " 'randomforestregressor__n_jobs': None,\n",
       " 'randomforestregressor__oob_score': False,\n",
       " 'randomforestregressor__random_state': None,\n",
       " 'randomforestregressor__verbose': 0,\n",
       " 'randomforestregressor__warm_start': False}"
      ]
     },
     "execution_count": 205,
     "metadata": {},
     "output_type": "execute_result"
    }
   ],
   "source": [
    "# Let's try a Grid Search to find the best hyperparameters for our best model (the Random Forest Regressor)\n",
    "pipe_ensemble.get_params()"
   ]
  },
  {
   "cell_type": "code",
   "execution_count": 206,
   "id": "fd889ce0",
   "metadata": {
    "ExecuteTime": {
     "end_time": "2022-05-18T14:06:11.865631Z",
     "start_time": "2022-05-18T14:06:11.861123Z"
    }
   },
   "outputs": [],
   "source": [
    "# Select the hyperparameters\n",
    "grid = {\n",
    "    'randomforestregressor__n_estimators': (10, 50, 100),\n",
    "    'randomforestregressor__min_samples_split': (1, 2, 3)\n",
    "}"
   ]
  },
  {
   "cell_type": "code",
   "execution_count": 207,
   "id": "29570bfa",
   "metadata": {
    "ExecuteTime": {
     "end_time": "2022-05-18T14:07:02.391167Z",
     "start_time": "2022-05-18T14:07:02.386276Z"
    }
   },
   "outputs": [],
   "source": [
    "# Grid Search \n",
    "search = GridSearchCV(\n",
    "    pipe_ensemble,\n",
    "    param_grid=grid,\n",
    "    cv=5,\n",
    "    scoring='neg_root_mean_squared_error',\n",
    "    verbose=3\n",
    ")"
   ]
  },
  {
   "cell_type": "code",
   "execution_count": 208,
   "id": "238f4633",
   "metadata": {
    "ExecuteTime": {
     "end_time": "2022-05-18T14:18:22.917684Z",
     "start_time": "2022-05-18T14:07:23.640455Z"
    }
   },
   "outputs": [
    {
     "name": "stdout",
     "output_type": "stream",
     "text": [
      "Fitting 5 folds for each of 9 candidates, totalling 45 fits\n",
      "[CV 1/5] END randomforestregressor__min_samples_split=1, randomforestregressor__n_estimators=10;, score=nan total time=   2.3s\n",
      "[CV 2/5] END randomforestregressor__min_samples_split=1, randomforestregressor__n_estimators=10;, score=nan total time=   2.3s\n",
      "[CV 3/5] END randomforestregressor__min_samples_split=1, randomforestregressor__n_estimators=10;, score=nan total time=   2.2s\n",
      "[CV 4/5] END randomforestregressor__min_samples_split=1, randomforestregressor__n_estimators=10;, score=nan total time=   2.5s\n",
      "[CV 5/5] END randomforestregressor__min_samples_split=1, randomforestregressor__n_estimators=10;, score=nan total time=   2.2s\n",
      "[CV 1/5] END randomforestregressor__min_samples_split=1, randomforestregressor__n_estimators=50;, score=nan total time=   2.3s\n",
      "[CV 2/5] END randomforestregressor__min_samples_split=1, randomforestregressor__n_estimators=50;, score=nan total time=   2.5s\n",
      "[CV 3/5] END randomforestregressor__min_samples_split=1, randomforestregressor__n_estimators=50;, score=nan total time=   2.3s\n",
      "[CV 4/5] END randomforestregressor__min_samples_split=1, randomforestregressor__n_estimators=50;, score=nan total time=   2.4s\n",
      "[CV 5/5] END randomforestregressor__min_samples_split=1, randomforestregressor__n_estimators=50;, score=nan total time=   2.4s\n",
      "[CV 1/5] END randomforestregressor__min_samples_split=1, randomforestregressor__n_estimators=100;, score=nan total time=   2.3s\n",
      "[CV 2/5] END randomforestregressor__min_samples_split=1, randomforestregressor__n_estimators=100;, score=nan total time=   2.2s\n",
      "[CV 3/5] END randomforestregressor__min_samples_split=1, randomforestregressor__n_estimators=100;, score=nan total time=   2.3s\n",
      "[CV 4/5] END randomforestregressor__min_samples_split=1, randomforestregressor__n_estimators=100;, score=nan total time=   2.8s\n",
      "[CV 5/5] END randomforestregressor__min_samples_split=1, randomforestregressor__n_estimators=100;, score=nan total time=   2.3s\n",
      "[CV 1/5] END randomforestregressor__min_samples_split=2, randomforestregressor__n_estimators=10;, score=-12.665 total time=   5.3s\n",
      "[CV 2/5] END randomforestregressor__min_samples_split=2, randomforestregressor__n_estimators=10;, score=-12.481 total time=   5.4s\n",
      "[CV 3/5] END randomforestregressor__min_samples_split=2, randomforestregressor__n_estimators=10;, score=-12.277 total time=   5.4s\n",
      "[CV 4/5] END randomforestregressor__min_samples_split=2, randomforestregressor__n_estimators=10;, score=-12.190 total time=   6.0s\n",
      "[CV 5/5] END randomforestregressor__min_samples_split=2, randomforestregressor__n_estimators=10;, score=-11.967 total time=   5.4s\n",
      "[CV 1/5] END randomforestregressor__min_samples_split=2, randomforestregressor__n_estimators=50;, score=-12.298 total time=  17.6s\n",
      "[CV 2/5] END randomforestregressor__min_samples_split=2, randomforestregressor__n_estimators=50;, score=-11.895 total time=  17.9s\n",
      "[CV 3/5] END randomforestregressor__min_samples_split=2, randomforestregressor__n_estimators=50;, score=-12.003 total time=  18.4s\n",
      "[CV 4/5] END randomforestregressor__min_samples_split=2, randomforestregressor__n_estimators=50;, score=-11.873 total time=  18.1s\n",
      "[CV 5/5] END randomforestregressor__min_samples_split=2, randomforestregressor__n_estimators=50;, score=-11.744 total time=  18.3s\n",
      "[CV 1/5] END randomforestregressor__min_samples_split=2, randomforestregressor__n_estimators=100;, score=-12.353 total time=  33.0s\n",
      "[CV 2/5] END randomforestregressor__min_samples_split=2, randomforestregressor__n_estimators=100;, score=-11.850 total time=  34.4s\n",
      "[CV 3/5] END randomforestregressor__min_samples_split=2, randomforestregressor__n_estimators=100;, score=-11.951 total time=  33.4s\n",
      "[CV 4/5] END randomforestregressor__min_samples_split=2, randomforestregressor__n_estimators=100;, score=-11.827 total time=  33.7s\n",
      "[CV 5/5] END randomforestregressor__min_samples_split=2, randomforestregressor__n_estimators=100;, score=-11.765 total time=  36.0s\n",
      "[CV 1/5] END randomforestregressor__min_samples_split=3, randomforestregressor__n_estimators=10;, score=-12.684 total time=   5.8s\n",
      "[CV 2/5] END randomforestregressor__min_samples_split=3, randomforestregressor__n_estimators=10;, score=-12.193 total time=   5.8s\n",
      "[CV 3/5] END randomforestregressor__min_samples_split=3, randomforestregressor__n_estimators=10;, score=-12.272 total time=   5.9s\n",
      "[CV 4/5] END randomforestregressor__min_samples_split=3, randomforestregressor__n_estimators=10;, score=-12.214 total time=   5.9s\n",
      "[CV 5/5] END randomforestregressor__min_samples_split=3, randomforestregressor__n_estimators=10;, score=-12.106 total time=   5.8s\n",
      "[CV 1/5] END randomforestregressor__min_samples_split=3, randomforestregressor__n_estimators=50;, score=-12.421 total time=  19.4s\n",
      "[CV 2/5] END randomforestregressor__min_samples_split=3, randomforestregressor__n_estimators=50;, score=-11.891 total time=  18.1s\n",
      "[CV 3/5] END randomforestregressor__min_samples_split=3, randomforestregressor__n_estimators=50;, score=-11.950 total time=  17.6s\n",
      "[CV 4/5] END randomforestregressor__min_samples_split=3, randomforestregressor__n_estimators=50;, score=-11.871 total time=  17.5s\n",
      "[CV 5/5] END randomforestregressor__min_samples_split=3, randomforestregressor__n_estimators=50;, score=-11.836 total time=  17.3s\n",
      "[CV 1/5] END randomforestregressor__min_samples_split=3, randomforestregressor__n_estimators=100;, score=-12.362 total time=  33.8s\n",
      "[CV 2/5] END randomforestregressor__min_samples_split=3, randomforestregressor__n_estimators=100;, score=-11.890 total time=  35.1s\n",
      "[CV 3/5] END randomforestregressor__min_samples_split=3, randomforestregressor__n_estimators=100;, score=-12.007 total time=  36.0s\n",
      "[CV 4/5] END randomforestregressor__min_samples_split=3, randomforestregressor__n_estimators=100;, score=-11.903 total time=  34.1s\n",
      "[CV 5/5] END randomforestregressor__min_samples_split=3, randomforestregressor__n_estimators=100;, score=-11.760 total time=  33.9s\n"
     ]
    },
    {
     "name": "stderr",
     "output_type": "stream",
     "text": [
      "/home/ameliermd/.pyenv/versions/3.8.12/envs/lewagon/lib/python3.8/site-packages/sklearn/model_selection/_validation.py:372: FitFailedWarning: \n",
      "15 fits failed out of a total of 45.\n",
      "The score on these train-test partitions for these parameters will be set to nan.\n",
      "If these failures are not expected, you can try to debug them by setting error_score='raise'.\n",
      "\n",
      "Below are more details about the failures:\n",
      "--------------------------------------------------------------------------------\n",
      "15 fits failed with the following error:\n",
      "Traceback (most recent call last):\n",
      "  File \"/home/ameliermd/.pyenv/versions/3.8.12/envs/lewagon/lib/python3.8/site-packages/sklearn/model_selection/_validation.py\", line 680, in _fit_and_score\n",
      "    estimator.fit(X_train, y_train, **fit_params)\n",
      "  File \"/home/ameliermd/.pyenv/versions/3.8.12/envs/lewagon/lib/python3.8/site-packages/sklearn/pipeline.py\", line 394, in fit\n",
      "    self._final_estimator.fit(Xt, y, **fit_params_last_step)\n",
      "  File \"/home/ameliermd/.pyenv/versions/3.8.12/envs/lewagon/lib/python3.8/site-packages/sklearn/ensemble/_forest.py\", line 450, in fit\n",
      "    trees = Parallel(\n",
      "  File \"/home/ameliermd/.pyenv/versions/3.8.12/envs/lewagon/lib/python3.8/site-packages/joblib/parallel.py\", line 1041, in __call__\n",
      "    if self.dispatch_one_batch(iterator):\n",
      "  File \"/home/ameliermd/.pyenv/versions/3.8.12/envs/lewagon/lib/python3.8/site-packages/joblib/parallel.py\", line 859, in dispatch_one_batch\n",
      "    self._dispatch(tasks)\n",
      "  File \"/home/ameliermd/.pyenv/versions/3.8.12/envs/lewagon/lib/python3.8/site-packages/joblib/parallel.py\", line 777, in _dispatch\n",
      "    job = self._backend.apply_async(batch, callback=cb)\n",
      "  File \"/home/ameliermd/.pyenv/versions/3.8.12/envs/lewagon/lib/python3.8/site-packages/joblib/_parallel_backends.py\", line 208, in apply_async\n",
      "    result = ImmediateResult(func)\n",
      "  File \"/home/ameliermd/.pyenv/versions/3.8.12/envs/lewagon/lib/python3.8/site-packages/joblib/_parallel_backends.py\", line 572, in __init__\n",
      "    self.results = batch()\n",
      "  File \"/home/ameliermd/.pyenv/versions/3.8.12/envs/lewagon/lib/python3.8/site-packages/joblib/parallel.py\", line 262, in __call__\n",
      "    return [func(*args, **kwargs)\n",
      "  File \"/home/ameliermd/.pyenv/versions/3.8.12/envs/lewagon/lib/python3.8/site-packages/joblib/parallel.py\", line 262, in <listcomp>\n",
      "    return [func(*args, **kwargs)\n",
      "  File \"/home/ameliermd/.pyenv/versions/3.8.12/envs/lewagon/lib/python3.8/site-packages/sklearn/utils/fixes.py\", line 216, in __call__\n",
      "    return self.function(*args, **kwargs)\n",
      "  File \"/home/ameliermd/.pyenv/versions/3.8.12/envs/lewagon/lib/python3.8/site-packages/sklearn/ensemble/_forest.py\", line 185, in _parallel_build_trees\n",
      "    tree.fit(X, y, sample_weight=curr_sample_weight, check_input=False)\n",
      "  File \"/home/ameliermd/.pyenv/versions/3.8.12/envs/lewagon/lib/python3.8/site-packages/sklearn/tree/_classes.py\", line 1315, in fit\n",
      "    super().fit(\n",
      "  File \"/home/ameliermd/.pyenv/versions/3.8.12/envs/lewagon/lib/python3.8/site-packages/sklearn/tree/_classes.py\", line 250, in fit\n",
      "    raise ValueError(\n",
      "ValueError: min_samples_split must be an integer greater than 1 or a float in (0.0, 1.0]; got the integer 1\n",
      "\n",
      "  warnings.warn(some_fits_failed_message, FitFailedWarning)\n",
      "/home/ameliermd/.pyenv/versions/3.8.12/envs/lewagon/lib/python3.8/site-packages/sklearn/model_selection/_search.py:969: UserWarning: One or more of the test scores are non-finite: [         nan          nan          nan -12.31599985 -11.96277163\n",
      " -11.94909528 -12.29393114 -11.99366749 -11.98440337]\n",
      "  warnings.warn(\n"
     ]
    },
    {
     "data": {
      "text/html": [
       "<style>#sk-e0c10d84-b8b5-4baf-bd0d-3f53e5b8adee {color: black;background-color: white;}#sk-e0c10d84-b8b5-4baf-bd0d-3f53e5b8adee pre{padding: 0;}#sk-e0c10d84-b8b5-4baf-bd0d-3f53e5b8adee div.sk-toggleable {background-color: white;}#sk-e0c10d84-b8b5-4baf-bd0d-3f53e5b8adee label.sk-toggleable__label {cursor: pointer;display: block;width: 100%;margin-bottom: 0;padding: 0.3em;box-sizing: border-box;text-align: center;}#sk-e0c10d84-b8b5-4baf-bd0d-3f53e5b8adee label.sk-toggleable__label-arrow:before {content: \"▸\";float: left;margin-right: 0.25em;color: #696969;}#sk-e0c10d84-b8b5-4baf-bd0d-3f53e5b8adee label.sk-toggleable__label-arrow:hover:before {color: black;}#sk-e0c10d84-b8b5-4baf-bd0d-3f53e5b8adee div.sk-estimator:hover label.sk-toggleable__label-arrow:before {color: black;}#sk-e0c10d84-b8b5-4baf-bd0d-3f53e5b8adee div.sk-toggleable__content {max-height: 0;max-width: 0;overflow: hidden;text-align: left;background-color: #f0f8ff;}#sk-e0c10d84-b8b5-4baf-bd0d-3f53e5b8adee div.sk-toggleable__content pre {margin: 0.2em;color: black;border-radius: 0.25em;background-color: #f0f8ff;}#sk-e0c10d84-b8b5-4baf-bd0d-3f53e5b8adee input.sk-toggleable__control:checked~div.sk-toggleable__content {max-height: 200px;max-width: 100%;overflow: auto;}#sk-e0c10d84-b8b5-4baf-bd0d-3f53e5b8adee input.sk-toggleable__control:checked~label.sk-toggleable__label-arrow:before {content: \"▾\";}#sk-e0c10d84-b8b5-4baf-bd0d-3f53e5b8adee div.sk-estimator input.sk-toggleable__control:checked~label.sk-toggleable__label {background-color: #d4ebff;}#sk-e0c10d84-b8b5-4baf-bd0d-3f53e5b8adee div.sk-label input.sk-toggleable__control:checked~label.sk-toggleable__label {background-color: #d4ebff;}#sk-e0c10d84-b8b5-4baf-bd0d-3f53e5b8adee input.sk-hidden--visually {border: 0;clip: rect(1px 1px 1px 1px);clip: rect(1px, 1px, 1px, 1px);height: 1px;margin: -1px;overflow: hidden;padding: 0;position: absolute;width: 1px;}#sk-e0c10d84-b8b5-4baf-bd0d-3f53e5b8adee div.sk-estimator {font-family: monospace;background-color: #f0f8ff;border: 1px dotted black;border-radius: 0.25em;box-sizing: border-box;margin-bottom: 0.5em;}#sk-e0c10d84-b8b5-4baf-bd0d-3f53e5b8adee div.sk-estimator:hover {background-color: #d4ebff;}#sk-e0c10d84-b8b5-4baf-bd0d-3f53e5b8adee div.sk-parallel-item::after {content: \"\";width: 100%;border-bottom: 1px solid gray;flex-grow: 1;}#sk-e0c10d84-b8b5-4baf-bd0d-3f53e5b8adee div.sk-label:hover label.sk-toggleable__label {background-color: #d4ebff;}#sk-e0c10d84-b8b5-4baf-bd0d-3f53e5b8adee div.sk-serial::before {content: \"\";position: absolute;border-left: 1px solid gray;box-sizing: border-box;top: 2em;bottom: 0;left: 50%;}#sk-e0c10d84-b8b5-4baf-bd0d-3f53e5b8adee div.sk-serial {display: flex;flex-direction: column;align-items: center;background-color: white;padding-right: 0.2em;padding-left: 0.2em;}#sk-e0c10d84-b8b5-4baf-bd0d-3f53e5b8adee div.sk-item {z-index: 1;}#sk-e0c10d84-b8b5-4baf-bd0d-3f53e5b8adee div.sk-parallel {display: flex;align-items: stretch;justify-content: center;background-color: white;}#sk-e0c10d84-b8b5-4baf-bd0d-3f53e5b8adee div.sk-parallel::before {content: \"\";position: absolute;border-left: 1px solid gray;box-sizing: border-box;top: 2em;bottom: 0;left: 50%;}#sk-e0c10d84-b8b5-4baf-bd0d-3f53e5b8adee div.sk-parallel-item {display: flex;flex-direction: column;position: relative;background-color: white;}#sk-e0c10d84-b8b5-4baf-bd0d-3f53e5b8adee div.sk-parallel-item:first-child::after {align-self: flex-end;width: 50%;}#sk-e0c10d84-b8b5-4baf-bd0d-3f53e5b8adee div.sk-parallel-item:last-child::after {align-self: flex-start;width: 50%;}#sk-e0c10d84-b8b5-4baf-bd0d-3f53e5b8adee div.sk-parallel-item:only-child::after {width: 0;}#sk-e0c10d84-b8b5-4baf-bd0d-3f53e5b8adee div.sk-dashed-wrapped {border: 1px dashed gray;margin: 0 0.4em 0.5em 0.4em;box-sizing: border-box;padding-bottom: 0.4em;background-color: white;position: relative;}#sk-e0c10d84-b8b5-4baf-bd0d-3f53e5b8adee div.sk-label label {font-family: monospace;font-weight: bold;background-color: white;display: inline-block;line-height: 1.2em;}#sk-e0c10d84-b8b5-4baf-bd0d-3f53e5b8adee div.sk-label-container {position: relative;z-index: 2;text-align: center;}#sk-e0c10d84-b8b5-4baf-bd0d-3f53e5b8adee div.sk-container {/* jupyter's `normalize.less` sets `[hidden] { display: none; }` but bootstrap.min.css set `[hidden] { display: none !important; }` so we also need the `!important` here to be able to override the default hidden behavior on the sphinx rendered scikit-learn.org. See: https://github.com/scikit-learn/scikit-learn/issues/21755 */display: inline-block !important;position: relative;}#sk-e0c10d84-b8b5-4baf-bd0d-3f53e5b8adee div.sk-text-repr-fallback {display: none;}</style><div id=\"sk-e0c10d84-b8b5-4baf-bd0d-3f53e5b8adee\" class=\"sk-top-container\"><div class=\"sk-text-repr-fallback\"><pre>GridSearchCV(cv=5,\n",
       "             estimator=Pipeline(steps=[(&#x27;columntransformer&#x27;,\n",
       "                                        ColumnTransformer(transformers=[(&#x27;year_pipe&#x27;,\n",
       "                                                                         Pipeline(steps=[(&#x27;transform_year&#x27;,\n",
       "                                                                                          FunctionTransformer(func=&lt;function extract_year at 0x7f60647be3a0&gt;)),\n",
       "                                                                                         (&#x27;scaler&#x27;,\n",
       "                                                                                          MinMaxScaler())]),\n",
       "                                                                         [&#x27;release_date&#x27;]),\n",
       "                                                                        (&#x27;clusters_pipe&#x27;,\n",
       "                                                                         Pipeline(steps=[(&#x27;kmeans&#x27;,\n",
       "                                                                                          KMeans(n_clusters=5)),\n",
       "                                                                                         (&#x27;transform_clusters&#x27;,\n",
       "                                                                                          Functio...\n",
       "                                                                                          MinMaxScaler())]),\n",
       "                                                                         [&#x27;artist&#x27;]),\n",
       "                                                                        (&#x27;scaled_num&#x27;,\n",
       "                                                                         MinMaxScaler(),\n",
       "                                                                         &lt;sklearn.compose._column_transformer.make_column_selector object at 0x7f604fd37d90&gt;)])),\n",
       "                                       (&#x27;randomforestregressor&#x27;,\n",
       "                                        RandomForestRegressor())]),\n",
       "             param_grid={&#x27;randomforestregressor__min_samples_split&#x27;: (1, 2, 3),\n",
       "                         &#x27;randomforestregressor__n_estimators&#x27;: (10, 50, 100)},\n",
       "             scoring=&#x27;neg_root_mean_squared_error&#x27;, verbose=3)</pre><b>Please rerun this cell to show the HTML repr or trust the notebook.</b></div><div class=\"sk-container\" hidden><div class=\"sk-item sk-dashed-wrapped\"><div class=\"sk-label-container\"><div class=\"sk-label sk-toggleable\"><input class=\"sk-toggleable__control sk-hidden--visually\" id=\"99fabf66-1b53-4572-a8d8-f1b8b585c632\" type=\"checkbox\" ><label for=\"99fabf66-1b53-4572-a8d8-f1b8b585c632\" class=\"sk-toggleable__label sk-toggleable__label-arrow\">GridSearchCV</label><div class=\"sk-toggleable__content\"><pre>GridSearchCV(cv=5,\n",
       "             estimator=Pipeline(steps=[(&#x27;columntransformer&#x27;,\n",
       "                                        ColumnTransformer(transformers=[(&#x27;year_pipe&#x27;,\n",
       "                                                                         Pipeline(steps=[(&#x27;transform_year&#x27;,\n",
       "                                                                                          FunctionTransformer(func=&lt;function extract_year at 0x7f60647be3a0&gt;)),\n",
       "                                                                                         (&#x27;scaler&#x27;,\n",
       "                                                                                          MinMaxScaler())]),\n",
       "                                                                         [&#x27;release_date&#x27;]),\n",
       "                                                                        (&#x27;clusters_pipe&#x27;,\n",
       "                                                                         Pipeline(steps=[(&#x27;kmeans&#x27;,\n",
       "                                                                                          KMeans(n_clusters=5)),\n",
       "                                                                                         (&#x27;transform_clusters&#x27;,\n",
       "                                                                                          Functio...\n",
       "                                                                                          MinMaxScaler())]),\n",
       "                                                                         [&#x27;artist&#x27;]),\n",
       "                                                                        (&#x27;scaled_num&#x27;,\n",
       "                                                                         MinMaxScaler(),\n",
       "                                                                         &lt;sklearn.compose._column_transformer.make_column_selector object at 0x7f604fd37d90&gt;)])),\n",
       "                                       (&#x27;randomforestregressor&#x27;,\n",
       "                                        RandomForestRegressor())]),\n",
       "             param_grid={&#x27;randomforestregressor__min_samples_split&#x27;: (1, 2, 3),\n",
       "                         &#x27;randomforestregressor__n_estimators&#x27;: (10, 50, 100)},\n",
       "             scoring=&#x27;neg_root_mean_squared_error&#x27;, verbose=3)</pre></div></div></div><div class=\"sk-parallel\"><div class=\"sk-parallel-item\"><div class=\"sk-item\"><div class=\"sk-serial\"><div class=\"sk-item\"><div class=\"sk-serial\"><div class=\"sk-item sk-dashed-wrapped\"><div class=\"sk-label-container\"><div class=\"sk-label sk-toggleable\"><input class=\"sk-toggleable__control sk-hidden--visually\" id=\"8aca552b-f630-431f-bc0e-b525b4a74f4d\" type=\"checkbox\" ><label for=\"8aca552b-f630-431f-bc0e-b525b4a74f4d\" class=\"sk-toggleable__label sk-toggleable__label-arrow\">columntransformer: ColumnTransformer</label><div class=\"sk-toggleable__content\"><pre>ColumnTransformer(transformers=[(&#x27;year_pipe&#x27;,\n",
       "                                 Pipeline(steps=[(&#x27;transform_year&#x27;,\n",
       "                                                  FunctionTransformer(func=&lt;function extract_year at 0x7f60647be3a0&gt;)),\n",
       "                                                 (&#x27;scaler&#x27;, MinMaxScaler())]),\n",
       "                                 [&#x27;release_date&#x27;]),\n",
       "                                (&#x27;clusters_pipe&#x27;,\n",
       "                                 Pipeline(steps=[(&#x27;kmeans&#x27;,\n",
       "                                                  KMeans(n_clusters=5)),\n",
       "                                                 (&#x27;transform_clusters&#x27;,\n",
       "                                                  FunctionTransformer(func=&lt;function process_clusters at 0x7f6058391d30&gt;)),\n",
       "                                                 (&#x27;...\n",
       "                                                                handle_unknown=&#x27;ignore&#x27;,\n",
       "                                                                sparse=False))]),\n",
       "                                 &lt;sklearn.compose._column_transformer.make_column_selector object at 0x7f604fd37400&gt;),\n",
       "                                (&#x27;artist_pipe&#x27;,\n",
       "                                 Pipeline(steps=[(&#x27;ArtistPopularityTransform&#x27;,\n",
       "                                                  ArtistPopularityTransformer()),\n",
       "                                                 (&#x27;scaler&#x27;, MinMaxScaler())]),\n",
       "                                 [&#x27;artist&#x27;]),\n",
       "                                (&#x27;scaled_num&#x27;, MinMaxScaler(),\n",
       "                                 &lt;sklearn.compose._column_transformer.make_column_selector object at 0x7f604fd37d90&gt;)])</pre></div></div></div><div class=\"sk-parallel\"><div class=\"sk-parallel-item\"><div class=\"sk-item\"><div class=\"sk-label-container\"><div class=\"sk-label sk-toggleable\"><input class=\"sk-toggleable__control sk-hidden--visually\" id=\"b94df6d2-a0b3-42a4-9096-81ce56d58c7b\" type=\"checkbox\" ><label for=\"b94df6d2-a0b3-42a4-9096-81ce56d58c7b\" class=\"sk-toggleable__label sk-toggleable__label-arrow\">year_pipe</label><div class=\"sk-toggleable__content\"><pre>[&#x27;release_date&#x27;]</pre></div></div></div><div class=\"sk-serial\"><div class=\"sk-item\"><div class=\"sk-serial\"><div class=\"sk-item\"><div class=\"sk-estimator sk-toggleable\"><input class=\"sk-toggleable__control sk-hidden--visually\" id=\"6c54df8b-44eb-4692-983a-c1808541606d\" type=\"checkbox\" ><label for=\"6c54df8b-44eb-4692-983a-c1808541606d\" class=\"sk-toggleable__label sk-toggleable__label-arrow\">FunctionTransformer</label><div class=\"sk-toggleable__content\"><pre>FunctionTransformer(func=&lt;function extract_year at 0x7f60647be3a0&gt;)</pre></div></div></div><div class=\"sk-item\"><div class=\"sk-estimator sk-toggleable\"><input class=\"sk-toggleable__control sk-hidden--visually\" id=\"10c5c5dd-e868-47b9-955a-f6c5e26b4e70\" type=\"checkbox\" ><label for=\"10c5c5dd-e868-47b9-955a-f6c5e26b4e70\" class=\"sk-toggleable__label sk-toggleable__label-arrow\">MinMaxScaler</label><div class=\"sk-toggleable__content\"><pre>MinMaxScaler()</pre></div></div></div></div></div></div></div></div><div class=\"sk-parallel-item\"><div class=\"sk-item\"><div class=\"sk-label-container\"><div class=\"sk-label sk-toggleable\"><input class=\"sk-toggleable__control sk-hidden--visually\" id=\"7ecf200b-02a8-4eb8-b0c3-45adafc6534d\" type=\"checkbox\" ><label for=\"7ecf200b-02a8-4eb8-b0c3-45adafc6534d\" class=\"sk-toggleable__label sk-toggleable__label-arrow\">clusters_pipe</label><div class=\"sk-toggleable__content\"><pre>&lt;sklearn.compose._column_transformer.make_column_selector object at 0x7f604fd37400&gt;</pre></div></div></div><div class=\"sk-serial\"><div class=\"sk-item\"><div class=\"sk-serial\"><div class=\"sk-item\"><div class=\"sk-estimator sk-toggleable\"><input class=\"sk-toggleable__control sk-hidden--visually\" id=\"ebc9e3d7-226e-4330-89fc-b70aa0015ba6\" type=\"checkbox\" ><label for=\"ebc9e3d7-226e-4330-89fc-b70aa0015ba6\" class=\"sk-toggleable__label sk-toggleable__label-arrow\">KMeans</label><div class=\"sk-toggleable__content\"><pre>KMeans(n_clusters=5)</pre></div></div></div><div class=\"sk-item\"><div class=\"sk-estimator sk-toggleable\"><input class=\"sk-toggleable__control sk-hidden--visually\" id=\"56ae4dba-e95d-4942-baf8-27d43c884b47\" type=\"checkbox\" ><label for=\"56ae4dba-e95d-4942-baf8-27d43c884b47\" class=\"sk-toggleable__label sk-toggleable__label-arrow\">FunctionTransformer</label><div class=\"sk-toggleable__content\"><pre>FunctionTransformer(func=&lt;function process_clusters at 0x7f6058391d30&gt;)</pre></div></div></div><div class=\"sk-item\"><div class=\"sk-estimator sk-toggleable\"><input class=\"sk-toggleable__control sk-hidden--visually\" id=\"69c104e6-b96f-4210-8e6f-53f7043ffcf1\" type=\"checkbox\" ><label for=\"69c104e6-b96f-4210-8e6f-53f7043ffcf1\" class=\"sk-toggleable__label sk-toggleable__label-arrow\">OneHotEncoder</label><div class=\"sk-toggleable__content\"><pre>OneHotEncoder(drop=&#x27;first&#x27;, handle_unknown=&#x27;ignore&#x27;, sparse=False)</pre></div></div></div></div></div></div></div></div><div class=\"sk-parallel-item\"><div class=\"sk-item\"><div class=\"sk-label-container\"><div class=\"sk-label sk-toggleable\"><input class=\"sk-toggleable__control sk-hidden--visually\" id=\"59544ddc-dcdd-4b2d-838d-d79bba32acba\" type=\"checkbox\" ><label for=\"59544ddc-dcdd-4b2d-838d-d79bba32acba\" class=\"sk-toggleable__label sk-toggleable__label-arrow\">artist_pipe</label><div class=\"sk-toggleable__content\"><pre>[&#x27;artist&#x27;]</pre></div></div></div><div class=\"sk-serial\"><div class=\"sk-item\"><div class=\"sk-serial\"><div class=\"sk-item\"><div class=\"sk-estimator sk-toggleable\"><input class=\"sk-toggleable__control sk-hidden--visually\" id=\"5296b0ba-5bc2-4a88-94af-febf2af809af\" type=\"checkbox\" ><label for=\"5296b0ba-5bc2-4a88-94af-febf2af809af\" class=\"sk-toggleable__label sk-toggleable__label-arrow\">ArtistPopularityTransformer</label><div class=\"sk-toggleable__content\"><pre>ArtistPopularityTransformer()</pre></div></div></div><div class=\"sk-item\"><div class=\"sk-estimator sk-toggleable\"><input class=\"sk-toggleable__control sk-hidden--visually\" id=\"e98c5d58-3a65-41b5-9063-3b7680fa7c09\" type=\"checkbox\" ><label for=\"e98c5d58-3a65-41b5-9063-3b7680fa7c09\" class=\"sk-toggleable__label sk-toggleable__label-arrow\">MinMaxScaler</label><div class=\"sk-toggleable__content\"><pre>MinMaxScaler()</pre></div></div></div></div></div></div></div></div><div class=\"sk-parallel-item\"><div class=\"sk-item\"><div class=\"sk-label-container\"><div class=\"sk-label sk-toggleable\"><input class=\"sk-toggleable__control sk-hidden--visually\" id=\"972a223c-c25b-4c7f-bef4-53e172087d66\" type=\"checkbox\" ><label for=\"972a223c-c25b-4c7f-bef4-53e172087d66\" class=\"sk-toggleable__label sk-toggleable__label-arrow\">scaled_num</label><div class=\"sk-toggleable__content\"><pre>&lt;sklearn.compose._column_transformer.make_column_selector object at 0x7f604fd37d90&gt;</pre></div></div></div><div class=\"sk-serial\"><div class=\"sk-item\"><div class=\"sk-estimator sk-toggleable\"><input class=\"sk-toggleable__control sk-hidden--visually\" id=\"998a2737-16b3-41c7-a358-64b5a956b443\" type=\"checkbox\" ><label for=\"998a2737-16b3-41c7-a358-64b5a956b443\" class=\"sk-toggleable__label sk-toggleable__label-arrow\">MinMaxScaler</label><div class=\"sk-toggleable__content\"><pre>MinMaxScaler()</pre></div></div></div></div></div></div></div></div><div class=\"sk-item\"><div class=\"sk-estimator sk-toggleable\"><input class=\"sk-toggleable__control sk-hidden--visually\" id=\"be440bc3-143c-4ee3-8c4c-1d0e6ef7fc7a\" type=\"checkbox\" ><label for=\"be440bc3-143c-4ee3-8c4c-1d0e6ef7fc7a\" class=\"sk-toggleable__label sk-toggleable__label-arrow\">RandomForestRegressor</label><div class=\"sk-toggleable__content\"><pre>RandomForestRegressor()</pre></div></div></div></div></div></div></div></div></div></div></div></div>"
      ],
      "text/plain": [
       "GridSearchCV(cv=5,\n",
       "             estimator=Pipeline(steps=[('columntransformer',\n",
       "                                        ColumnTransformer(transformers=[('year_pipe',\n",
       "                                                                         Pipeline(steps=[('transform_year',\n",
       "                                                                                          FunctionTransformer(func=<function extract_year at 0x7f60647be3a0>)),\n",
       "                                                                                         ('scaler',\n",
       "                                                                                          MinMaxScaler())]),\n",
       "                                                                         ['release_date']),\n",
       "                                                                        ('clusters_pipe',\n",
       "                                                                         Pipeline(steps=[('kmeans',\n",
       "                                                                                          KMeans(n_clusters=5)),\n",
       "                                                                                         ('transform_clusters',\n",
       "                                                                                          Functio...\n",
       "                                                                                          MinMaxScaler())]),\n",
       "                                                                         ['artist']),\n",
       "                                                                        ('scaled_num',\n",
       "                                                                         MinMaxScaler(),\n",
       "                                                                         <sklearn.compose._column_transformer.make_column_selector object at 0x7f604fd37d90>)])),\n",
       "                                       ('randomforestregressor',\n",
       "                                        RandomForestRegressor())]),\n",
       "             param_grid={'randomforestregressor__min_samples_split': (1, 2, 3),\n",
       "                         'randomforestregressor__n_estimators': (10, 50, 100)},\n",
       "             scoring='neg_root_mean_squared_error', verbose=3)"
      ]
     },
     "execution_count": 208,
     "metadata": {},
     "output_type": "execute_result"
    }
   ],
   "source": [
    "# Fit\n",
    "search.fit(X,y)"
   ]
  },
  {
   "cell_type": "code",
   "execution_count": 209,
   "id": "00e9a0b2",
   "metadata": {
    "ExecuteTime": {
     "end_time": "2022-05-18T14:18:56.236105Z",
     "start_time": "2022-05-18T14:18:56.227809Z"
    }
   },
   "outputs": [
    {
     "data": {
      "text/plain": [
       "{'randomforestregressor__min_samples_split': 2,\n",
       " 'randomforestregressor__n_estimators': 100}"
      ]
     },
     "execution_count": 209,
     "metadata": {},
     "output_type": "execute_result"
    }
   ],
   "source": [
    "search.best_params_"
   ]
  },
  {
   "cell_type": "code",
   "execution_count": 210,
   "id": "d433c05d",
   "metadata": {
    "ExecuteTime": {
     "end_time": "2022-05-18T14:19:19.935370Z",
     "start_time": "2022-05-18T14:19:19.929645Z"
    }
   },
   "outputs": [
    {
     "data": {
      "text/plain": [
       "-11.949095282816458"
      ]
     },
     "execution_count": 210,
     "metadata": {},
     "output_type": "execute_result"
    }
   ],
   "source": [
    "# Best score ?\n",
    "search.best_score_"
   ]
  },
  {
   "cell_type": "markdown",
   "id": "b15025c9",
   "metadata": {},
   "source": [
    "**This score is the best for our model. For the record, the baseline score was -21**"
   ]
  },
  {
   "cell_type": "markdown",
   "id": "969601d8",
   "metadata": {},
   "source": [
    "# Classification Task"
   ]
  },
  {
   "cell_type": "markdown",
   "id": "3c1b3fb1",
   "metadata": {},
   "source": [
    "It seems to be difficult to improve our model. \n",
    "\n",
    "We can try to convert our problem in a classification task : to know whether a song is above or below popularity median."
   ]
  },
  {
   "cell_type": "code",
   "execution_count": 213,
   "id": "0d686a51",
   "metadata": {
    "ExecuteTime": {
     "end_time": "2022-05-18T14:25:27.293457Z",
     "start_time": "2022-05-18T14:25:27.281445Z"
    }
   },
   "outputs": [
    {
     "name": "stdout",
     "output_type": "stream",
     "text": [
      "26.0\n"
     ]
    },
    {
     "data": {
      "text/plain": [
       "0        1\n",
       "1        0\n",
       "2        1\n",
       "3        0\n",
       "4        0\n",
       "        ..\n",
       "52312    0\n",
       "52313    1\n",
       "52314    0\n",
       "52315    0\n",
       "52316    1\n",
       "Name: popularity, Length: 52053, dtype: int64"
      ]
     },
     "execution_count": 213,
     "metadata": {},
     "output_type": "execute_result"
    }
   ],
   "source": [
    "# Create the new target\n",
    "print(y.median())\n",
    "y_cat = (y >= y.median()) * 1\n",
    "y_cat"
   ]
  },
  {
   "cell_type": "code",
   "execution_count": 214,
   "id": "ccb0beb6",
   "metadata": {
    "ExecuteTime": {
     "end_time": "2022-05-18T14:26:54.679450Z",
     "start_time": "2022-05-18T14:26:54.571857Z"
    }
   },
   "outputs": [
    {
     "data": {
      "text/html": [
       "<style>#sk-1d2f5768-01aa-4413-85c1-43663cc73c5e {color: black;background-color: white;}#sk-1d2f5768-01aa-4413-85c1-43663cc73c5e pre{padding: 0;}#sk-1d2f5768-01aa-4413-85c1-43663cc73c5e div.sk-toggleable {background-color: white;}#sk-1d2f5768-01aa-4413-85c1-43663cc73c5e label.sk-toggleable__label {cursor: pointer;display: block;width: 100%;margin-bottom: 0;padding: 0.3em;box-sizing: border-box;text-align: center;}#sk-1d2f5768-01aa-4413-85c1-43663cc73c5e label.sk-toggleable__label-arrow:before {content: \"▸\";float: left;margin-right: 0.25em;color: #696969;}#sk-1d2f5768-01aa-4413-85c1-43663cc73c5e label.sk-toggleable__label-arrow:hover:before {color: black;}#sk-1d2f5768-01aa-4413-85c1-43663cc73c5e div.sk-estimator:hover label.sk-toggleable__label-arrow:before {color: black;}#sk-1d2f5768-01aa-4413-85c1-43663cc73c5e div.sk-toggleable__content {max-height: 0;max-width: 0;overflow: hidden;text-align: left;background-color: #f0f8ff;}#sk-1d2f5768-01aa-4413-85c1-43663cc73c5e div.sk-toggleable__content pre {margin: 0.2em;color: black;border-radius: 0.25em;background-color: #f0f8ff;}#sk-1d2f5768-01aa-4413-85c1-43663cc73c5e input.sk-toggleable__control:checked~div.sk-toggleable__content {max-height: 200px;max-width: 100%;overflow: auto;}#sk-1d2f5768-01aa-4413-85c1-43663cc73c5e input.sk-toggleable__control:checked~label.sk-toggleable__label-arrow:before {content: \"▾\";}#sk-1d2f5768-01aa-4413-85c1-43663cc73c5e div.sk-estimator input.sk-toggleable__control:checked~label.sk-toggleable__label {background-color: #d4ebff;}#sk-1d2f5768-01aa-4413-85c1-43663cc73c5e div.sk-label input.sk-toggleable__control:checked~label.sk-toggleable__label {background-color: #d4ebff;}#sk-1d2f5768-01aa-4413-85c1-43663cc73c5e input.sk-hidden--visually {border: 0;clip: rect(1px 1px 1px 1px);clip: rect(1px, 1px, 1px, 1px);height: 1px;margin: -1px;overflow: hidden;padding: 0;position: absolute;width: 1px;}#sk-1d2f5768-01aa-4413-85c1-43663cc73c5e div.sk-estimator {font-family: monospace;background-color: #f0f8ff;border: 1px dotted black;border-radius: 0.25em;box-sizing: border-box;margin-bottom: 0.5em;}#sk-1d2f5768-01aa-4413-85c1-43663cc73c5e div.sk-estimator:hover {background-color: #d4ebff;}#sk-1d2f5768-01aa-4413-85c1-43663cc73c5e div.sk-parallel-item::after {content: \"\";width: 100%;border-bottom: 1px solid gray;flex-grow: 1;}#sk-1d2f5768-01aa-4413-85c1-43663cc73c5e div.sk-label:hover label.sk-toggleable__label {background-color: #d4ebff;}#sk-1d2f5768-01aa-4413-85c1-43663cc73c5e div.sk-serial::before {content: \"\";position: absolute;border-left: 1px solid gray;box-sizing: border-box;top: 2em;bottom: 0;left: 50%;}#sk-1d2f5768-01aa-4413-85c1-43663cc73c5e div.sk-serial {display: flex;flex-direction: column;align-items: center;background-color: white;padding-right: 0.2em;padding-left: 0.2em;}#sk-1d2f5768-01aa-4413-85c1-43663cc73c5e div.sk-item {z-index: 1;}#sk-1d2f5768-01aa-4413-85c1-43663cc73c5e div.sk-parallel {display: flex;align-items: stretch;justify-content: center;background-color: white;}#sk-1d2f5768-01aa-4413-85c1-43663cc73c5e div.sk-parallel::before {content: \"\";position: absolute;border-left: 1px solid gray;box-sizing: border-box;top: 2em;bottom: 0;left: 50%;}#sk-1d2f5768-01aa-4413-85c1-43663cc73c5e div.sk-parallel-item {display: flex;flex-direction: column;position: relative;background-color: white;}#sk-1d2f5768-01aa-4413-85c1-43663cc73c5e div.sk-parallel-item:first-child::after {align-self: flex-end;width: 50%;}#sk-1d2f5768-01aa-4413-85c1-43663cc73c5e div.sk-parallel-item:last-child::after {align-self: flex-start;width: 50%;}#sk-1d2f5768-01aa-4413-85c1-43663cc73c5e div.sk-parallel-item:only-child::after {width: 0;}#sk-1d2f5768-01aa-4413-85c1-43663cc73c5e div.sk-dashed-wrapped {border: 1px dashed gray;margin: 0 0.4em 0.5em 0.4em;box-sizing: border-box;padding-bottom: 0.4em;background-color: white;position: relative;}#sk-1d2f5768-01aa-4413-85c1-43663cc73c5e div.sk-label label {font-family: monospace;font-weight: bold;background-color: white;display: inline-block;line-height: 1.2em;}#sk-1d2f5768-01aa-4413-85c1-43663cc73c5e div.sk-label-container {position: relative;z-index: 2;text-align: center;}#sk-1d2f5768-01aa-4413-85c1-43663cc73c5e div.sk-container {/* jupyter's `normalize.less` sets `[hidden] { display: none; }` but bootstrap.min.css set `[hidden] { display: none !important; }` so we also need the `!important` here to be able to override the default hidden behavior on the sphinx rendered scikit-learn.org. See: https://github.com/scikit-learn/scikit-learn/issues/21755 */display: inline-block !important;position: relative;}#sk-1d2f5768-01aa-4413-85c1-43663cc73c5e div.sk-text-repr-fallback {display: none;}</style><div id=\"sk-1d2f5768-01aa-4413-85c1-43663cc73c5e\" class=\"sk-top-container\"><div class=\"sk-text-repr-fallback\"><pre>Pipeline(steps=[(&#x27;columntransformer&#x27;,\n",
       "                 ColumnTransformer(transformers=[(&#x27;year_pipe&#x27;,\n",
       "                                                  Pipeline(steps=[(&#x27;transform_year&#x27;,\n",
       "                                                                   FunctionTransformer(func=&lt;function extract_year at 0x7f60647be3a0&gt;)),\n",
       "                                                                  (&#x27;scaler&#x27;,\n",
       "                                                                   MinMaxScaler())]),\n",
       "                                                  [&#x27;release_date&#x27;]),\n",
       "                                                 (&#x27;clusters_pipe&#x27;,\n",
       "                                                  Pipeline(steps=[(&#x27;kmeans&#x27;,\n",
       "                                                                   KMeans(n_clusters=5)),\n",
       "                                                                  (&#x27;transform_clusters&#x27;,\n",
       "                                                                   FunctionTransformer(func=&lt;function p...\n",
       "                                                  &lt;sklearn.compose._column_transformer.make_column_selector object at 0x7f604fd37400&gt;),\n",
       "                                                 (&#x27;artist_pipe&#x27;,\n",
       "                                                  Pipeline(steps=[(&#x27;ArtistPopularityTransform&#x27;,\n",
       "                                                                   ArtistPopularityTransformer()),\n",
       "                                                                  (&#x27;scaler&#x27;,\n",
       "                                                                   MinMaxScaler())]),\n",
       "                                                  [&#x27;artist&#x27;]),\n",
       "                                                 (&#x27;scaled_num&#x27;, MinMaxScaler(),\n",
       "                                                  &lt;sklearn.compose._column_transformer.make_column_selector object at 0x7f604fd37d90&gt;)])),\n",
       "                (&#x27;logisticregression&#x27;, LogisticRegression())])</pre><b>Please rerun this cell to show the HTML repr or trust the notebook.</b></div><div class=\"sk-container\" hidden><div class=\"sk-item sk-dashed-wrapped\"><div class=\"sk-label-container\"><div class=\"sk-label sk-toggleable\"><input class=\"sk-toggleable__control sk-hidden--visually\" id=\"0971a32c-1fdc-407e-9909-eb2f6d408113\" type=\"checkbox\" ><label for=\"0971a32c-1fdc-407e-9909-eb2f6d408113\" class=\"sk-toggleable__label sk-toggleable__label-arrow\">Pipeline</label><div class=\"sk-toggleable__content\"><pre>Pipeline(steps=[(&#x27;columntransformer&#x27;,\n",
       "                 ColumnTransformer(transformers=[(&#x27;year_pipe&#x27;,\n",
       "                                                  Pipeline(steps=[(&#x27;transform_year&#x27;,\n",
       "                                                                   FunctionTransformer(func=&lt;function extract_year at 0x7f60647be3a0&gt;)),\n",
       "                                                                  (&#x27;scaler&#x27;,\n",
       "                                                                   MinMaxScaler())]),\n",
       "                                                  [&#x27;release_date&#x27;]),\n",
       "                                                 (&#x27;clusters_pipe&#x27;,\n",
       "                                                  Pipeline(steps=[(&#x27;kmeans&#x27;,\n",
       "                                                                   KMeans(n_clusters=5)),\n",
       "                                                                  (&#x27;transform_clusters&#x27;,\n",
       "                                                                   FunctionTransformer(func=&lt;function p...\n",
       "                                                  &lt;sklearn.compose._column_transformer.make_column_selector object at 0x7f604fd37400&gt;),\n",
       "                                                 (&#x27;artist_pipe&#x27;,\n",
       "                                                  Pipeline(steps=[(&#x27;ArtistPopularityTransform&#x27;,\n",
       "                                                                   ArtistPopularityTransformer()),\n",
       "                                                                  (&#x27;scaler&#x27;,\n",
       "                                                                   MinMaxScaler())]),\n",
       "                                                  [&#x27;artist&#x27;]),\n",
       "                                                 (&#x27;scaled_num&#x27;, MinMaxScaler(),\n",
       "                                                  &lt;sklearn.compose._column_transformer.make_column_selector object at 0x7f604fd37d90&gt;)])),\n",
       "                (&#x27;logisticregression&#x27;, LogisticRegression())])</pre></div></div></div><div class=\"sk-serial\"><div class=\"sk-item sk-dashed-wrapped\"><div class=\"sk-label-container\"><div class=\"sk-label sk-toggleable\"><input class=\"sk-toggleable__control sk-hidden--visually\" id=\"ffc3bd14-d612-435a-a824-8cccc21fb502\" type=\"checkbox\" ><label for=\"ffc3bd14-d612-435a-a824-8cccc21fb502\" class=\"sk-toggleable__label sk-toggleable__label-arrow\">columntransformer: ColumnTransformer</label><div class=\"sk-toggleable__content\"><pre>ColumnTransformer(transformers=[(&#x27;year_pipe&#x27;,\n",
       "                                 Pipeline(steps=[(&#x27;transform_year&#x27;,\n",
       "                                                  FunctionTransformer(func=&lt;function extract_year at 0x7f60647be3a0&gt;)),\n",
       "                                                 (&#x27;scaler&#x27;, MinMaxScaler())]),\n",
       "                                 [&#x27;release_date&#x27;]),\n",
       "                                (&#x27;clusters_pipe&#x27;,\n",
       "                                 Pipeline(steps=[(&#x27;kmeans&#x27;,\n",
       "                                                  KMeans(n_clusters=5)),\n",
       "                                                 (&#x27;transform_clusters&#x27;,\n",
       "                                                  FunctionTransformer(func=&lt;function process_clusters at 0x7f6058391d30&gt;)),\n",
       "                                                 (&#x27;...\n",
       "                                                                handle_unknown=&#x27;ignore&#x27;,\n",
       "                                                                sparse=False))]),\n",
       "                                 &lt;sklearn.compose._column_transformer.make_column_selector object at 0x7f604fd37400&gt;),\n",
       "                                (&#x27;artist_pipe&#x27;,\n",
       "                                 Pipeline(steps=[(&#x27;ArtistPopularityTransform&#x27;,\n",
       "                                                  ArtistPopularityTransformer()),\n",
       "                                                 (&#x27;scaler&#x27;, MinMaxScaler())]),\n",
       "                                 [&#x27;artist&#x27;]),\n",
       "                                (&#x27;scaled_num&#x27;, MinMaxScaler(),\n",
       "                                 &lt;sklearn.compose._column_transformer.make_column_selector object at 0x7f604fd37d90&gt;)])</pre></div></div></div><div class=\"sk-parallel\"><div class=\"sk-parallel-item\"><div class=\"sk-item\"><div class=\"sk-label-container\"><div class=\"sk-label sk-toggleable\"><input class=\"sk-toggleable__control sk-hidden--visually\" id=\"624df761-43db-4d0b-98f5-32a354d62bac\" type=\"checkbox\" ><label for=\"624df761-43db-4d0b-98f5-32a354d62bac\" class=\"sk-toggleable__label sk-toggleable__label-arrow\">year_pipe</label><div class=\"sk-toggleable__content\"><pre>[&#x27;release_date&#x27;]</pre></div></div></div><div class=\"sk-serial\"><div class=\"sk-item\"><div class=\"sk-serial\"><div class=\"sk-item\"><div class=\"sk-estimator sk-toggleable\"><input class=\"sk-toggleable__control sk-hidden--visually\" id=\"9ef73266-a1b4-44c3-8887-965bea012a3c\" type=\"checkbox\" ><label for=\"9ef73266-a1b4-44c3-8887-965bea012a3c\" class=\"sk-toggleable__label sk-toggleable__label-arrow\">FunctionTransformer</label><div class=\"sk-toggleable__content\"><pre>FunctionTransformer(func=&lt;function extract_year at 0x7f60647be3a0&gt;)</pre></div></div></div><div class=\"sk-item\"><div class=\"sk-estimator sk-toggleable\"><input class=\"sk-toggleable__control sk-hidden--visually\" id=\"dd43ab3b-16be-48ad-bc59-90df604844fe\" type=\"checkbox\" ><label for=\"dd43ab3b-16be-48ad-bc59-90df604844fe\" class=\"sk-toggleable__label sk-toggleable__label-arrow\">MinMaxScaler</label><div class=\"sk-toggleable__content\"><pre>MinMaxScaler()</pre></div></div></div></div></div></div></div></div><div class=\"sk-parallel-item\"><div class=\"sk-item\"><div class=\"sk-label-container\"><div class=\"sk-label sk-toggleable\"><input class=\"sk-toggleable__control sk-hidden--visually\" id=\"71fb3132-e416-4218-bf13-3fe348182b7c\" type=\"checkbox\" ><label for=\"71fb3132-e416-4218-bf13-3fe348182b7c\" class=\"sk-toggleable__label sk-toggleable__label-arrow\">clusters_pipe</label><div class=\"sk-toggleable__content\"><pre>&lt;sklearn.compose._column_transformer.make_column_selector object at 0x7f604fd37400&gt;</pre></div></div></div><div class=\"sk-serial\"><div class=\"sk-item\"><div class=\"sk-serial\"><div class=\"sk-item\"><div class=\"sk-estimator sk-toggleable\"><input class=\"sk-toggleable__control sk-hidden--visually\" id=\"2229e454-eab0-4621-888d-cba83f5720a8\" type=\"checkbox\" ><label for=\"2229e454-eab0-4621-888d-cba83f5720a8\" class=\"sk-toggleable__label sk-toggleable__label-arrow\">KMeans</label><div class=\"sk-toggleable__content\"><pre>KMeans(n_clusters=5)</pre></div></div></div><div class=\"sk-item\"><div class=\"sk-estimator sk-toggleable\"><input class=\"sk-toggleable__control sk-hidden--visually\" id=\"d9a5c2d5-c4e3-476d-bf47-e033172f5a4c\" type=\"checkbox\" ><label for=\"d9a5c2d5-c4e3-476d-bf47-e033172f5a4c\" class=\"sk-toggleable__label sk-toggleable__label-arrow\">FunctionTransformer</label><div class=\"sk-toggleable__content\"><pre>FunctionTransformer(func=&lt;function process_clusters at 0x7f6058391d30&gt;)</pre></div></div></div><div class=\"sk-item\"><div class=\"sk-estimator sk-toggleable\"><input class=\"sk-toggleable__control sk-hidden--visually\" id=\"010f04f4-74dd-4419-a5fb-bf25a3607427\" type=\"checkbox\" ><label for=\"010f04f4-74dd-4419-a5fb-bf25a3607427\" class=\"sk-toggleable__label sk-toggleable__label-arrow\">OneHotEncoder</label><div class=\"sk-toggleable__content\"><pre>OneHotEncoder(drop=&#x27;first&#x27;, handle_unknown=&#x27;ignore&#x27;, sparse=False)</pre></div></div></div></div></div></div></div></div><div class=\"sk-parallel-item\"><div class=\"sk-item\"><div class=\"sk-label-container\"><div class=\"sk-label sk-toggleable\"><input class=\"sk-toggleable__control sk-hidden--visually\" id=\"c02780fb-0668-4b25-b792-ffd003534c13\" type=\"checkbox\" ><label for=\"c02780fb-0668-4b25-b792-ffd003534c13\" class=\"sk-toggleable__label sk-toggleable__label-arrow\">artist_pipe</label><div class=\"sk-toggleable__content\"><pre>[&#x27;artist&#x27;]</pre></div></div></div><div class=\"sk-serial\"><div class=\"sk-item\"><div class=\"sk-serial\"><div class=\"sk-item\"><div class=\"sk-estimator sk-toggleable\"><input class=\"sk-toggleable__control sk-hidden--visually\" id=\"ba7fef8f-cfce-4565-a215-d2870ebd1021\" type=\"checkbox\" ><label for=\"ba7fef8f-cfce-4565-a215-d2870ebd1021\" class=\"sk-toggleable__label sk-toggleable__label-arrow\">ArtistPopularityTransformer</label><div class=\"sk-toggleable__content\"><pre>ArtistPopularityTransformer()</pre></div></div></div><div class=\"sk-item\"><div class=\"sk-estimator sk-toggleable\"><input class=\"sk-toggleable__control sk-hidden--visually\" id=\"09f941a2-866f-4af2-945e-e22a773c349e\" type=\"checkbox\" ><label for=\"09f941a2-866f-4af2-945e-e22a773c349e\" class=\"sk-toggleable__label sk-toggleable__label-arrow\">MinMaxScaler</label><div class=\"sk-toggleable__content\"><pre>MinMaxScaler()</pre></div></div></div></div></div></div></div></div><div class=\"sk-parallel-item\"><div class=\"sk-item\"><div class=\"sk-label-container\"><div class=\"sk-label sk-toggleable\"><input class=\"sk-toggleable__control sk-hidden--visually\" id=\"ff0bcc58-2662-4ade-8303-4c860cabe473\" type=\"checkbox\" ><label for=\"ff0bcc58-2662-4ade-8303-4c860cabe473\" class=\"sk-toggleable__label sk-toggleable__label-arrow\">scaled_num</label><div class=\"sk-toggleable__content\"><pre>&lt;sklearn.compose._column_transformer.make_column_selector object at 0x7f604fd37d90&gt;</pre></div></div></div><div class=\"sk-serial\"><div class=\"sk-item\"><div class=\"sk-estimator sk-toggleable\"><input class=\"sk-toggleable__control sk-hidden--visually\" id=\"7c9710e0-42cc-4ed0-87b0-4ab4dce79949\" type=\"checkbox\" ><label for=\"7c9710e0-42cc-4ed0-87b0-4ab4dce79949\" class=\"sk-toggleable__label sk-toggleable__label-arrow\">MinMaxScaler</label><div class=\"sk-toggleable__content\"><pre>MinMaxScaler()</pre></div></div></div></div></div></div></div></div><div class=\"sk-item\"><div class=\"sk-estimator sk-toggleable\"><input class=\"sk-toggleable__control sk-hidden--visually\" id=\"913b0437-816b-47e9-be9b-7171745d3025\" type=\"checkbox\" ><label for=\"913b0437-816b-47e9-be9b-7171745d3025\" class=\"sk-toggleable__label sk-toggleable__label-arrow\">LogisticRegression</label><div class=\"sk-toggleable__content\"><pre>LogisticRegression()</pre></div></div></div></div></div></div></div>"
      ],
      "text/plain": [
       "Pipeline(steps=[('columntransformer',\n",
       "                 ColumnTransformer(transformers=[('year_pipe',\n",
       "                                                  Pipeline(steps=[('transform_year',\n",
       "                                                                   FunctionTransformer(func=<function extract_year at 0x7f60647be3a0>)),\n",
       "                                                                  ('scaler',\n",
       "                                                                   MinMaxScaler())]),\n",
       "                                                  ['release_date']),\n",
       "                                                 ('clusters_pipe',\n",
       "                                                  Pipeline(steps=[('kmeans',\n",
       "                                                                   KMeans(n_clusters=5)),\n",
       "                                                                  ('transform_clusters',\n",
       "                                                                   FunctionTransformer(func=<function p...\n",
       "                                                  <sklearn.compose._column_transformer.make_column_selector object at 0x7f604fd37400>),\n",
       "                                                 ('artist_pipe',\n",
       "                                                  Pipeline(steps=[('ArtistPopularityTransform',\n",
       "                                                                   ArtistPopularityTransformer()),\n",
       "                                                                  ('scaler',\n",
       "                                                                   MinMaxScaler())]),\n",
       "                                                  ['artist']),\n",
       "                                                 ('scaled_num', MinMaxScaler(),\n",
       "                                                  <sklearn.compose._column_transformer.make_column_selector object at 0x7f604fd37d90>)])),\n",
       "                ('logisticregression', LogisticRegression())])"
      ]
     },
     "execution_count": 214,
     "metadata": {},
     "output_type": "execute_result"
    }
   ],
   "source": [
    "# Pipeline\n",
    "pipe_cat = make_pipeline(preproc_pipe, LogisticRegression())\n",
    "pipe_cat"
   ]
  },
  {
   "cell_type": "code",
   "execution_count": 216,
   "id": "c0f44d8b",
   "metadata": {
    "ExecuteTime": {
     "end_time": "2022-05-18T14:29:44.979258Z",
     "start_time": "2022-05-18T14:29:30.168398Z"
    }
   },
   "outputs": [
    {
     "data": {
      "text/plain": [
       "0.8309992211555594"
      ]
     },
     "execution_count": 216,
     "metadata": {},
     "output_type": "execute_result"
    }
   ],
   "source": [
    "# Cross validation with a logictic regression and score\n",
    "result_cat = cross_validate(pipe_cat, X, y_cat, cv=5, scoring='accuracy')\n",
    "score_cat = result_cat['test_score'].mean()\n",
    "score_cat"
   ]
  }
 ],
 "metadata": {
  "kernelspec": {
   "display_name": "Python 3 (ipykernel)",
   "language": "python",
   "name": "python3"
  },
  "language_info": {
   "codemirror_mode": {
    "name": "ipython",
    "version": 3
   },
   "file_extension": ".py",
   "mimetype": "text/x-python",
   "name": "python",
   "nbconvert_exporter": "python",
   "pygments_lexer": "ipython3",
   "version": "3.8.12"
  },
  "toc": {
   "base_numbering": 1,
   "nav_menu": {},
   "number_sections": true,
   "sideBar": true,
   "skip_h1_title": false,
   "title_cell": "Table of Contents",
   "title_sidebar": "Contents",
   "toc_cell": false,
   "toc_position": {},
   "toc_section_display": true,
   "toc_window_display": false
  }
 },
 "nbformat": 4,
 "nbformat_minor": 5
}
